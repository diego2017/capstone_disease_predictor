{
 "cells": [
  {
   "cell_type": "markdown",
   "metadata": {},
   "source": [
    "<div id=\"container\" style=\"position:relative;\">\n",
    "<div style=\"float:left\"><h1> Capstone Project: Diabetes risk predictor based on health indicators</h1></div>\n",
    "<div style=\"float:left\"><h2> Notebook 4: # Modelling - Logistics Regression using Over Sampling</h2></div>\n",
    "<div style=\"float:left\"><h2> Created by Diego Villanueva</h2></div>\n",
    "</div>\n",
    "</div>"
   ]
  },
  {
   "cell_type": "markdown",
   "metadata": {},
   "source": [
    "This notebook contains code related to a Logistic Regression model that used a training dataset that has gone through oversampling during the pre-processing phase. "
   ]
  },
  {
   "cell_type": "markdown",
   "metadata": {},
   "source": [
    "## Table of contents\n",
    "\n",
    "4a. Modelling (Logistics Regression)\n",
    "\n",
    "        4a.1 Load data files\n",
    "\n",
    "        4a.2 Instantiate and fit baseline logistic regression\n",
    "\n",
    "        4a.3 Optimising using Pipeline and Grid Search\n",
    "\n",
    "        4a.4 Fit model with the best params\n",
    "\n",
    "        4a.5 Model analysis\n",
    "\n",
    "        4a.6 Model evaluation\n",
    "\n",
    "        4a.7 Observations"
   ]
  },
  {
   "cell_type": "markdown",
   "metadata": {},
   "source": [
    "### Imports"
   ]
  },
  {
   "cell_type": "code",
   "execution_count": 1,
   "metadata": {},
   "outputs": [],
   "source": [
    "# data manipulation\n",
    "import numpy as np\n",
    "import pandas as pd\n",
    "\n",
    "# plotting\n",
    "import matplotlib.pyplot as plt\n",
    "import seaborn as sns\n",
    "\n",
    "# modelling\n",
    "from sklearn.linear_model import LogisticRegression\n",
    "import statsmodels.api as sm\n",
    "from sklearn.metrics import confusion_matrix, ConfusionMatrixDisplay\n",
    "from sklearn.metrics import classification_report\n",
    "\n",
    "# Scaling data\n",
    "from sklearn.preprocessing import StandardScaler\n",
    "from sklearn.preprocessing import MinMaxScaler\n",
    "from sklearn.preprocessing import RobustScaler\n",
    "\n",
    "# PCA\n",
    "from sklearn.decomposition import PCA\n",
    "\n",
    "# File saving\n",
    "import joblib \n",
    "\n",
    "# Temporary directories for caching\n",
    "from tempfile import mkdtemp\n",
    "\n",
    "# Cross-validation\n",
    "from sklearn.model_selection import cross_val_score\n",
    "\n",
    "# Pipeline building\n",
    "from sklearn.pipeline import Pipeline\n",
    "\n",
    "# Grid search\n",
    "from sklearn.model_selection import GridSearchCV"
   ]
  },
  {
   "cell_type": "markdown",
   "metadata": {},
   "source": [
    "### 4a.1 Load data files"
   ]
  },
  {
   "cell_type": "code",
   "execution_count": 2,
   "metadata": {},
   "outputs": [],
   "source": [
    "X_rem_scaled = joblib.load(\"../data/Preprocessed_data/X_rem_oversampled_scaled.pkl\") # oversampled and scaled dataset\n",
    "y_rem = joblib.load(\"../data/Preprocessed_data/y_rem_oversampled.pkl\") #oversampled dataset\n",
    "X_test_scaled = joblib.load(\"../data/Preprocessed_data/X_test_scaled.pkl\") # scaled dataset\n",
    "y_test = joblib.load(\"../data/Preprocessed_data/y_test.pkl\") #unmodified dataset\n",
    "\n",
    "X_rem = joblib.load(\"../data/Preprocessed_data/X_rem_oversampled.pkl\") # oversampled, not scaled dataset\n",
    "X_test = joblib.load(\"../data/Preprocessed_data/X_test.pkl\") # not scaled dataset"
   ]
  },
  {
   "cell_type": "markdown",
   "metadata": {},
   "source": [
    "### 4a.2 Instantiate and fit baseline logistic regression"
   ]
  },
  {
   "cell_type": "code",
   "execution_count": 3,
   "metadata": {},
   "outputs": [],
   "source": [
    "# instantiate and fit to scaled & sampled training data\n",
    "log_reg = LogisticRegression(random_state=1, max_iter=150).fit(X_rem_scaled, y_rem)"
   ]
  },
  {
   "cell_type": "code",
   "execution_count": 4,
   "metadata": {},
   "outputs": [
    {
     "name": "stdout",
     "output_type": "stream",
     "text": [
      "Accuracy on remainder set: 0.7600874378309\n",
      "Accuracy on test set: 0.7129717229054977\n"
     ]
    }
   ],
   "source": [
    "# Check the accuracies of \n",
    "print(f'Accuracy on remainder set: {log_reg.score(X_rem_scaled, y_rem)}')\n",
    "print(f'Accuracy on test set: {log_reg.score(X_test_scaled, y_test)}')"
   ]
  },
  {
   "cell_type": "markdown",
   "metadata": {},
   "source": [
    "The initial model achieved an accuracy of .77 witht he remainder set and .72 with test set. The following step is to optimise the model by trying different hyperparameters and evaluators."
   ]
  },
  {
   "cell_type": "markdown",
   "metadata": {},
   "source": [
    "### 4a.3 Optimising using Pipeline and Grid Search"
   ]
  },
  {
   "cell_type": "code",
   "execution_count": 5,
   "metadata": {},
   "outputs": [],
   "source": [
    "# Create a directory that will be used to cache the pipeline results\n",
    "cachedir = mkdtemp()"
   ]
  },
  {
   "cell_type": "code",
   "execution_count": 6,
   "metadata": {},
   "outputs": [],
   "source": [
    "# Set up a pipeline\n",
    "# The steps here act as placeholders and will be changed when we pass the pipeline into the grid search later\n",
    "my_pipeline = Pipeline([('scaler', StandardScaler()), \n",
    "                        ('dim_reducer', PCA()), \n",
    "                        ('model', LogisticRegression())], memory=cachedir)"
   ]
  },
  {
   "cell_type": "code",
   "execution_count": 7,
   "metadata": {},
   "outputs": [],
   "source": [
    "# Define range of C values to be tried\n",
    "c_values = [.0001, .001, .1, 1, 10, 100, 1000]"
   ]
  },
  {
   "cell_type": "code",
   "execution_count": 8,
   "metadata": {},
   "outputs": [],
   "source": [
    "# Parameter grid\n",
    "log_reg_param_grid = [\n",
    "\n",
    "    # l1 without PCA\n",
    "    {'scaler': [None, StandardScaler(), MinMaxScaler(), RobustScaler()],\n",
    "     'dim_reducer': [None],\n",
    "     'model': [LogisticRegression(penalty='l1', random_state=1, n_jobs=-1, max_iter=10000)],\n",
    "     'model__C': c_values},\n",
    "    \n",
    "    # l1 with PCA\n",
    "    {'scaler': [StandardScaler(), MinMaxScaler(), RobustScaler()],\n",
    "     'dim_reducer': [PCA()],\n",
    "     'dim_reducer__n_components': [0.95, 0.9, 0.85, 0.8],\n",
    "     'model': [LogisticRegression(penalty='l1', random_state=1, n_jobs=-1, max_iter=10000)],\n",
    "     'model__C': c_values},\n",
    "    \n",
    "    # l2 (default) without PCA\n",
    "    {'scaler': [None, StandardScaler(), MinMaxScaler(), RobustScaler()],\n",
    "     'dim_reducer': [None],\n",
    "     'model': [LogisticRegression(solver='lbfgs', random_state=1, n_jobs=-1, max_iter=10000)],\n",
    "     'model__C': c_values},\n",
    "    \n",
    "    # l2 (default) with PCA\n",
    "    {'scaler': [StandardScaler(), MinMaxScaler(), RobustScaler()],\n",
    "     'dim_reducer': [PCA()],\n",
    "     'dim_reducer__n_components': [0.95, 0.9, 0.85, 0.8],\n",
    "     'model': [LogisticRegression(solver='lbfgs', random_state=1, n_jobs=-1, max_iter=10000)],\n",
    "     'model__C': c_values}\n",
    "]"
   ]
  },
  {
   "cell_type": "code",
   "execution_count": 9,
   "metadata": {},
   "outputs": [],
   "source": [
    "# Instantiate the logigstic regression with grid search\n",
    "logreg_gs = GridSearchCV(my_pipeline, param_grid=log_reg_param_grid, cv=5, n_jobs=-1, verbose=1)"
   ]
  },
  {
   "cell_type": "code",
   "execution_count": 10,
   "metadata": {},
   "outputs": [
    {
     "name": "stdout",
     "output_type": "stream",
     "text": [
      "Fitting 5 folds for each of 224 candidates, totalling 1120 fits\n"
     ]
    },
    {
     "name": "stderr",
     "output_type": "stream",
     "text": [
      "/Users/diego/anaconda3/envs/diego_capstone/lib/python3.8/site-packages/sklearn/pipeline.py:377: JobLibCollisionWarning: Possible name collisions between functions '_fit_transform_one' (/Users/diego/anaconda3/envs/diego_capstone/lib/python3.8/site-packages/sklearn/pipeline.py:-1) and '_fit_transform_one' (/Users/diego/anaconda3/envs/diego_capstone/lib/python3.8/site-packages/sklearn/pipeline.py:947)\n",
      "  X, fitted_transformer = fit_transform_one_cached(\n",
      "/Users/diego/anaconda3/envs/diego_capstone/lib/python3.8/site-packages/sklearn/model_selection/_validation.py:425: FitFailedWarning: \n",
      "560 fits failed out of a total of 1120.\n",
      "The score on these train-test partitions for these parameters will be set to nan.\n",
      "If these failures are not expected, you can try to debug them by setting error_score='raise'.\n",
      "\n",
      "Below are more details about the failures:\n",
      "--------------------------------------------------------------------------------\n",
      "560 fits failed with the following error:\n",
      "Traceback (most recent call last):\n",
      "  File \"/Users/diego/anaconda3/envs/diego_capstone/lib/python3.8/site-packages/sklearn/model_selection/_validation.py\", line 729, in _fit_and_score\n",
      "    estimator.fit(X_train, y_train, **fit_params)\n",
      "  File \"/Users/diego/anaconda3/envs/diego_capstone/lib/python3.8/site-packages/sklearn/base.py\", line 1152, in wrapper\n",
      "    return fit_method(estimator, *args, **kwargs)\n",
      "  File \"/Users/diego/anaconda3/envs/diego_capstone/lib/python3.8/site-packages/sklearn/pipeline.py\", line 427, in fit\n",
      "    self._final_estimator.fit(Xt, y, **fit_params_last_step)\n",
      "  File \"/Users/diego/anaconda3/envs/diego_capstone/lib/python3.8/site-packages/sklearn/base.py\", line 1152, in wrapper\n",
      "    return fit_method(estimator, *args, **kwargs)\n",
      "  File \"/Users/diego/anaconda3/envs/diego_capstone/lib/python3.8/site-packages/sklearn/linear_model/_logistic.py\", line 1169, in fit\n",
      "    solver = _check_solver(self.solver, self.penalty, self.dual)\n",
      "  File \"/Users/diego/anaconda3/envs/diego_capstone/lib/python3.8/site-packages/sklearn/linear_model/_logistic.py\", line 56, in _check_solver\n",
      "    raise ValueError(\n",
      "ValueError: Solver lbfgs supports only 'l2' or 'none' penalties, got l1 penalty.\n",
      "\n",
      "  warnings.warn(some_fits_failed_message, FitFailedWarning)\n",
      "/Users/diego/anaconda3/envs/diego_capstone/lib/python3.8/site-packages/sklearn/model_selection/_search.py:979: UserWarning: One or more of the test scores are non-finite: [       nan        nan        nan        nan        nan        nan\n",
      "        nan        nan        nan        nan        nan        nan\n",
      "        nan        nan        nan        nan        nan        nan\n",
      "        nan        nan        nan        nan        nan        nan\n",
      "        nan        nan        nan        nan        nan        nan\n",
      "        nan        nan        nan        nan        nan        nan\n",
      "        nan        nan        nan        nan        nan        nan\n",
      "        nan        nan        nan        nan        nan        nan\n",
      "        nan        nan        nan        nan        nan        nan\n",
      "        nan        nan        nan        nan        nan        nan\n",
      "        nan        nan        nan        nan        nan        nan\n",
      "        nan        nan        nan        nan        nan        nan\n",
      "        nan        nan        nan        nan        nan        nan\n",
      "        nan        nan        nan        nan        nan        nan\n",
      "        nan        nan        nan        nan        nan        nan\n",
      "        nan        nan        nan        nan        nan        nan\n",
      "        nan        nan        nan        nan        nan        nan\n",
      "        nan        nan        nan        nan        nan        nan\n",
      "        nan        nan        nan        nan 0.75209906 0.7562938\n",
      " 0.72373857 0.75080888 0.75690212 0.75867361 0.74615957 0.75665144\n",
      " 0.75857    0.75859006 0.75857669 0.75857669 0.75855329 0.75858337\n",
      " 0.75859006 0.75858003 0.75857334 0.75858671 0.75858337 0.75859674\n",
      " 0.75861011 0.75858671 0.75858003 0.75858671 0.75860008 0.75858671\n",
      " 0.75858671 0.75859006 0.74805138 0.72269239 0.74467552 0.74975936\n",
      " 0.74124955 0.74529387 0.75022062 0.74548106 0.74519694 0.75023399\n",
      " 0.74543761 0.74520697 0.75017717 0.74545432 0.74520697 0.75018385\n",
      " 0.74545767 0.74520697 0.75018385 0.74545767 0.74520697 0.74657403\n",
      " 0.7140422  0.74112921 0.74727594 0.71725093 0.74160384 0.74732608\n",
      " 0.71730441 0.74145008 0.74731939 0.71729772 0.74143671 0.74733276\n",
      " 0.71730775 0.74143337 0.74733611 0.71730775 0.74143337 0.74733611\n",
      " 0.71731109 0.74143337 0.74638685 0.7116791  0.73189743 0.74675118\n",
      " 0.71277876 0.73233863 0.7468548  0.71298599 0.73237539 0.74682806\n",
      " 0.71297931 0.73237874 0.74684143 0.71297931 0.73237874 0.74683474\n",
      " 0.71297931 0.73237874 0.74683474 0.71297931 0.73237874 0.7463668\n",
      " 0.71199329 0.52486094 0.74684477 0.7128924  0.52486428 0.74681134\n",
      " 0.71365113 0.52486428 0.74680132 0.71364445 0.52486428 0.74679798\n",
      " 0.71364111 0.52486428 0.74679798 0.71364111 0.52486428 0.74679798\n",
      " 0.71364111 0.52486428]\n",
      "  warnings.warn(\n"
     ]
    }
   ],
   "source": [
    "# Fit the logigstic regression with grid search\n",
    "fitted_logreg_gs = logreg_gs.fit(X_rem, y_rem)"
   ]
  },
  {
   "cell_type": "code",
   "execution_count": 11,
   "metadata": {},
   "outputs": [
    {
     "data": {
      "text/html": [
       "<style>#sk-container-id-1 {color: black;}#sk-container-id-1 pre{padding: 0;}#sk-container-id-1 div.sk-toggleable {background-color: white;}#sk-container-id-1 label.sk-toggleable__label {cursor: pointer;display: block;width: 100%;margin-bottom: 0;padding: 0.3em;box-sizing: border-box;text-align: center;}#sk-container-id-1 label.sk-toggleable__label-arrow:before {content: \"▸\";float: left;margin-right: 0.25em;color: #696969;}#sk-container-id-1 label.sk-toggleable__label-arrow:hover:before {color: black;}#sk-container-id-1 div.sk-estimator:hover label.sk-toggleable__label-arrow:before {color: black;}#sk-container-id-1 div.sk-toggleable__content {max-height: 0;max-width: 0;overflow: hidden;text-align: left;background-color: #f0f8ff;}#sk-container-id-1 div.sk-toggleable__content pre {margin: 0.2em;color: black;border-radius: 0.25em;background-color: #f0f8ff;}#sk-container-id-1 input.sk-toggleable__control:checked~div.sk-toggleable__content {max-height: 200px;max-width: 100%;overflow: auto;}#sk-container-id-1 input.sk-toggleable__control:checked~label.sk-toggleable__label-arrow:before {content: \"▾\";}#sk-container-id-1 div.sk-estimator input.sk-toggleable__control:checked~label.sk-toggleable__label {background-color: #d4ebff;}#sk-container-id-1 div.sk-label input.sk-toggleable__control:checked~label.sk-toggleable__label {background-color: #d4ebff;}#sk-container-id-1 input.sk-hidden--visually {border: 0;clip: rect(1px 1px 1px 1px);clip: rect(1px, 1px, 1px, 1px);height: 1px;margin: -1px;overflow: hidden;padding: 0;position: absolute;width: 1px;}#sk-container-id-1 div.sk-estimator {font-family: monospace;background-color: #f0f8ff;border: 1px dotted black;border-radius: 0.25em;box-sizing: border-box;margin-bottom: 0.5em;}#sk-container-id-1 div.sk-estimator:hover {background-color: #d4ebff;}#sk-container-id-1 div.sk-parallel-item::after {content: \"\";width: 100%;border-bottom: 1px solid gray;flex-grow: 1;}#sk-container-id-1 div.sk-label:hover label.sk-toggleable__label {background-color: #d4ebff;}#sk-container-id-1 div.sk-serial::before {content: \"\";position: absolute;border-left: 1px solid gray;box-sizing: border-box;top: 0;bottom: 0;left: 50%;z-index: 0;}#sk-container-id-1 div.sk-serial {display: flex;flex-direction: column;align-items: center;background-color: white;padding-right: 0.2em;padding-left: 0.2em;position: relative;}#sk-container-id-1 div.sk-item {position: relative;z-index: 1;}#sk-container-id-1 div.sk-parallel {display: flex;align-items: stretch;justify-content: center;background-color: white;position: relative;}#sk-container-id-1 div.sk-item::before, #sk-container-id-1 div.sk-parallel-item::before {content: \"\";position: absolute;border-left: 1px solid gray;box-sizing: border-box;top: 0;bottom: 0;left: 50%;z-index: -1;}#sk-container-id-1 div.sk-parallel-item {display: flex;flex-direction: column;z-index: 1;position: relative;background-color: white;}#sk-container-id-1 div.sk-parallel-item:first-child::after {align-self: flex-end;width: 50%;}#sk-container-id-1 div.sk-parallel-item:last-child::after {align-self: flex-start;width: 50%;}#sk-container-id-1 div.sk-parallel-item:only-child::after {width: 0;}#sk-container-id-1 div.sk-dashed-wrapped {border: 1px dashed gray;margin: 0 0.4em 0.5em 0.4em;box-sizing: border-box;padding-bottom: 0.4em;background-color: white;}#sk-container-id-1 div.sk-label label {font-family: monospace;font-weight: bold;display: inline-block;line-height: 1.2em;}#sk-container-id-1 div.sk-label-container {text-align: center;}#sk-container-id-1 div.sk-container {/* jupyter's `normalize.less` sets `[hidden] { display: none; }` but bootstrap.min.css set `[hidden] { display: none !important; }` so we also need the `!important` here to be able to override the default hidden behavior on the sphinx rendered scikit-learn.org. See: https://github.com/scikit-learn/scikit-learn/issues/21755 */display: inline-block !important;position: relative;}#sk-container-id-1 div.sk-text-repr-fallback {display: none;}</style><div id=\"sk-container-id-1\" class=\"sk-top-container\"><div class=\"sk-text-repr-fallback\"><pre>Pipeline(memory=&#x27;/var/folders/6c/0s0k1hv53xn7g3bpzkggst1r0000gn/T/tmp_d2fgtrb&#x27;,\n",
       "         steps=[(&#x27;scaler&#x27;, StandardScaler()), (&#x27;dim_reducer&#x27;, None),\n",
       "                (&#x27;model&#x27;,\n",
       "                 LogisticRegression(C=0.001, max_iter=10000, n_jobs=-1,\n",
       "                                    random_state=1))])</pre><b>In a Jupyter environment, please rerun this cell to show the HTML representation or trust the notebook. <br />On GitHub, the HTML representation is unable to render, please try loading this page with nbviewer.org.</b></div><div class=\"sk-container\" hidden><div class=\"sk-item sk-dashed-wrapped\"><div class=\"sk-label-container\"><div class=\"sk-label sk-toggleable\"><input class=\"sk-toggleable__control sk-hidden--visually\" id=\"sk-estimator-id-1\" type=\"checkbox\" ><label for=\"sk-estimator-id-1\" class=\"sk-toggleable__label sk-toggleable__label-arrow\">Pipeline</label><div class=\"sk-toggleable__content\"><pre>Pipeline(memory=&#x27;/var/folders/6c/0s0k1hv53xn7g3bpzkggst1r0000gn/T/tmp_d2fgtrb&#x27;,\n",
       "         steps=[(&#x27;scaler&#x27;, StandardScaler()), (&#x27;dim_reducer&#x27;, None),\n",
       "                (&#x27;model&#x27;,\n",
       "                 LogisticRegression(C=0.001, max_iter=10000, n_jobs=-1,\n",
       "                                    random_state=1))])</pre></div></div></div><div class=\"sk-serial\"><div class=\"sk-item\"><div class=\"sk-estimator sk-toggleable\"><input class=\"sk-toggleable__control sk-hidden--visually\" id=\"sk-estimator-id-2\" type=\"checkbox\" ><label for=\"sk-estimator-id-2\" class=\"sk-toggleable__label sk-toggleable__label-arrow\">StandardScaler</label><div class=\"sk-toggleable__content\"><pre>StandardScaler()</pre></div></div></div><div class=\"sk-item\"><div class=\"sk-estimator sk-toggleable\"><input class=\"sk-toggleable__control sk-hidden--visually\" id=\"sk-estimator-id-3\" type=\"checkbox\" ><label for=\"sk-estimator-id-3\" class=\"sk-toggleable__label sk-toggleable__label-arrow\">None</label><div class=\"sk-toggleable__content\"><pre>None</pre></div></div></div><div class=\"sk-item\"><div class=\"sk-estimator sk-toggleable\"><input class=\"sk-toggleable__control sk-hidden--visually\" id=\"sk-estimator-id-4\" type=\"checkbox\" ><label for=\"sk-estimator-id-4\" class=\"sk-toggleable__label sk-toggleable__label-arrow\">LogisticRegression</label><div class=\"sk-toggleable__content\"><pre>LogisticRegression(C=0.001, max_iter=10000, n_jobs=-1, random_state=1)</pre></div></div></div></div></div></div></div>"
      ],
      "text/plain": [
       "Pipeline(memory='/var/folders/6c/0s0k1hv53xn7g3bpzkggst1r0000gn/T/tmp_d2fgtrb',\n",
       "         steps=[('scaler', StandardScaler()), ('dim_reducer', None),\n",
       "                ('model',\n",
       "                 LogisticRegression(C=0.001, max_iter=10000, n_jobs=-1,\n",
       "                                    random_state=1))])"
      ]
     },
     "execution_count": 11,
     "metadata": {},
     "output_type": "execute_result"
    }
   ],
   "source": [
    "fitted_logreg_gs.best_estimator_"
   ]
  },
  {
   "cell_type": "markdown",
   "metadata": {},
   "source": [
    "The best estimator used a standard scaler, no PCA, and a l2 logistic regression with a C value of 0.001"
   ]
  },
  {
   "cell_type": "code",
   "execution_count": 12,
   "metadata": {},
   "outputs": [
    {
     "name": "stdout",
     "output_type": "stream",
     "text": [
      "Accuracies of the optimised model:\n",
      "The best logistic regression's accuracy on the remainder set: 0.7599136317450131\n",
      "The best logistic regression's accuracy on the test set: 0.7284374014506465\n"
     ]
    }
   ],
   "source": [
    "# Accuracy of the optimised model:\n",
    "print(\"Accuracies of the optimised model:\")\n",
    "print(f\"The best logistic regression's accuracy on the remainder set: {fitted_logreg_gs.score(X_rem, y_rem)}\")\n",
    "print(f\"The best logistic regression's accuracy on the test set: {fitted_logreg_gs.score(X_test, y_test)}\")"
   ]
  },
  {
   "cell_type": "markdown",
   "metadata": {},
   "source": [
    "We can see overfitting is present in the optiomised model"
   ]
  },
  {
   "cell_type": "code",
   "execution_count": 13,
   "metadata": {},
   "outputs": [
    {
     "name": "stdout",
     "output_type": "stream",
     "text": [
      "Accuracies of the initial/baseline model:\n",
      "Accuracy on remainder set: 0.7600874378309\n",
      "Accuracy on test set: 0.7129717229054977\n"
     ]
    }
   ],
   "source": [
    "# Accuracy of the initial/baseline model:\n",
    "print(\"Accuracies of the initial/baseline model:\")\n",
    "print(f'Accuracy on remainder set: {log_reg.score(X_rem_scaled, y_rem)}')\n",
    "print(f'Accuracy on test set: {log_reg.score(X_test_scaled, y_test)}')"
   ]
  },
  {
   "cell_type": "markdown",
   "metadata": {},
   "source": [
    "### 4a.4 Fit model with the best params"
   ]
  },
  {
   "cell_type": "code",
   "execution_count": 14,
   "metadata": {},
   "outputs": [],
   "source": [
    "# Fit model\n",
    "optimised_log_reg = LogisticRegression(C=0.001, max_iter=10000, n_jobs=-1, random_state=1).fit(X_rem, y_rem)"
   ]
  },
  {
   "cell_type": "markdown",
   "metadata": {},
   "source": [
    "### 4a.5 Optimised model analysis"
   ]
  },
  {
   "cell_type": "code",
   "execution_count": 15,
   "metadata": {},
   "outputs": [
    {
     "name": "stdout",
     "output_type": "stream",
     "text": [
      "Accuracies of the optimised model:\n",
      "The best logistic regression's accuracy on the remainder set: 0.7582557890796299\n",
      "The best logistic regression's accuracy on the test set: 0.7301061705035214\n"
     ]
    }
   ],
   "source": [
    "# Accuracy of the optimised model:\n",
    "print(\"Accuracies of the optimised model:\")\n",
    "print(f\"The best logistic regression's accuracy on the remainder set: {optimised_log_reg.score(X_rem, y_rem)}\")\n",
    "print(f\"The best logistic regression's accuracy on the test set: {optimised_log_reg.score(X_test, y_test)}\")"
   ]
  },
  {
   "cell_type": "code",
   "execution_count": 16,
   "metadata": {},
   "outputs": [
    {
     "name": "stdout",
     "output_type": "stream",
     "text": [
      "                   Feature  Coefficient\n",
      "2      Checked_cholesterol     0.742086\n",
      "0              Has_high_bp     0.663677\n",
      "13    General_health_score     0.638247\n",
      "1     Has_high_cholesterol     0.570616\n",
      "11      Has_healthcare_cov     0.452144\n",
      "17                     Age     0.212612\n",
      "16                 Is_male     0.208574\n",
      "3                      BMI     0.079602\n",
      "9             Eats_veggies     0.053502\n",
      "7        Physical_activity     0.026063\n",
      "4                Is_smoker     0.017213\n",
      "14  Mental_health_bad_days    -0.002137\n",
      "18               Education    -0.009694\n",
      "6        Has_heart_disease    -0.010704\n",
      "19                  Income    -0.020664\n",
      "15      Walking_difficulty    -0.052893\n",
      "8              Eats_fruits    -0.086124\n",
      "12    No_attention_bc_cost    -0.231189\n",
      "5               Had_stroke    -0.334895\n",
      "10           Heavy_drinker    -0.947995\n"
     ]
    }
   ],
   "source": [
    "# Get coefficients and intercept from the optimised model\n",
    "coefficients = optimised_log_reg.coef_.flatten()  # Flatten the coefficients array\n",
    "intercept = optimised_log_reg.intercept_\n",
    "\n",
    "# Get names of columns \n",
    "feature_names = X_rem.columns \n",
    "\n",
    "# Create dataframe with features and their coefficient values\n",
    "features_df = pd.DataFrame({'Feature': feature_names, 'Coefficient': coefficients})\n",
    "\n",
    "# Sort rows based on the coefficient value\n",
    "sorted_features_df = features_df.sort_values(by='Coefficient', ascending=False)\n",
    "\n",
    "# Display the DataFrame\n",
    "print(sorted_features_df)"
   ]
  },
  {
   "cell_type": "code",
   "execution_count": 17,
   "metadata": {},
   "outputs": [
    {
     "name": "stdout",
     "output_type": "stream",
     "text": [
      "Top 5 coefficients with the lowest values and top 5 with the highest values are:\n",
      "                 Feature  Coefficient\n",
      "2    Checked_cholesterol     0.742086\n",
      "0            Has_high_bp     0.663677\n",
      "13  General_health_score     0.638247\n",
      "1   Has_high_cholesterol     0.570616\n",
      "11    Has_healthcare_cov     0.452144\n",
      "15    Walking_difficulty    -0.052893\n",
      "8            Eats_fruits    -0.086124\n",
      "12  No_attention_bc_cost    -0.231189\n",
      "5             Had_stroke    -0.334895\n",
      "10         Heavy_drinker    -0.947995\n"
     ]
    }
   ],
   "source": [
    "# Get the top and bottom coefficients\n",
    "low_5_coef = sorted_features_df.head(5)\n",
    "high_5_coef = sorted_features_df.tail(5)\n",
    "\n",
    "# Join them\n",
    "combined_coef = pd.concat([low_5_coef, high_5_coef])\n",
    "\n",
    "# Display results\n",
    "print(\"Top 5 coefficients with the lowest values and top 5 with the highest values are:\")\n",
    "print(combined_coef)"
   ]
  },
  {
   "cell_type": "code",
   "execution_count": 18,
   "metadata": {},
   "outputs": [
    {
     "data": {
      "image/png": "[encoded data removed]",
      "text/plain": [
       "<Figure size 1000x500 with 1 Axes>"
      ]
     },
     "metadata": {},
     "output_type": "display_data"
    }
   ],
   "source": [
    "# Create a visualisation:\n",
    "# Assign colors based on 'Coefficient' values\n",
    "colors = ['green' if x < 0 else 'red' for x in combined_coef['Coefficient']]\n",
    "\n",
    "# Create barh plot\n",
    "plt.figure(figsize=(10, 5))\n",
    "plt.barh(combined_coef['Feature'], combined_coef['Coefficient'], color=colors)\n",
    "plt.xlabel('Coefficient')\n",
    "plt.title('Feature Coefficients')\n",
    "\n",
    "# Add the values to the bars\n",
    "for index, value in enumerate(combined_coef['Coefficient']):\n",
    "    if value < 0:\n",
    "        plt.text(value, index, f'{value:.2f}', va='center', ha='right', color='white')\n",
    "    else:\n",
    "        plt.text(value, index, f'{value:.2f}', va='center', ha='left', color='white')\n",
    "\n",
    "# Show the plot\n",
    "plt.show()"
   ]
  },
  {
   "cell_type": "markdown",
   "metadata": {},
   "source": [
    "### 4a.6 Model Evaluation"
   ]
  },
  {
   "cell_type": "code",
   "execution_count": 19,
   "metadata": {},
   "outputs": [
    {
     "data": {
      "text/html": [
       "<div>\n",
       "<style scoped>\n",
       "    .dataframe tbody tr th:only-of-type {\n",
       "        vertical-align: middle;\n",
       "    }\n",
       "\n",
       "    .dataframe tbody tr th {\n",
       "        vertical-align: top;\n",
       "    }\n",
       "\n",
       "    .dataframe thead th {\n",
       "        text-align: right;\n",
       "    }\n",
       "</style>\n",
       "<table border=\"1\" class=\"dataframe\">\n",
       "  <thead>\n",
       "    <tr style=\"text-align: right;\">\n",
       "      <th></th>\n",
       "      <th>Predicted Negative Review</th>\n",
       "      <th>Predicted Positive Review</th>\n",
       "    </tr>\n",
       "  </thead>\n",
       "  <tbody>\n",
       "    <tr>\n",
       "      <th>True Negative Review</th>\n",
       "      <td>46744</td>\n",
       "      <td>17367</td>\n",
       "    </tr>\n",
       "    <tr>\n",
       "      <th>True Positive Review</th>\n",
       "      <td>3173</td>\n",
       "      <td>8820</td>\n",
       "    </tr>\n",
       "  </tbody>\n",
       "</table>\n",
       "</div>"
      ],
      "text/plain": [
       "                      Predicted Negative Review  Predicted Positive Review\n",
       "True Negative Review                      46744                      17367\n",
       "True Positive Review                       3173                       8820"
      ]
     },
     "metadata": {},
     "output_type": "display_data"
    }
   ],
   "source": [
    "# Create confusion matrix for logistic regression\n",
    "\n",
    "# Get class predictions\n",
    "y_pred = optimised_log_reg.predict(X_test)\n",
    "\n",
    "# Generate confusion matrix\n",
    "cf_matrix = confusion_matrix(y_test, y_pred)\n",
    "\n",
    "# label rows and columns\n",
    "cf_df = pd.DataFrame(\n",
    "    cf_matrix, \n",
    "    columns=[\"Predicted Negative Review\", \"Predicted Positive Review\"],\n",
    "    index=[\"True Negative Review\", \"True Positive Review\"]\n",
    ")\n",
    "\n",
    "display(cf_df)"
   ]
  },
  {
   "cell_type": "code",
   "execution_count": 20,
   "metadata": {},
   "outputs": [
    {
     "data": {
      "image/png": "[encoded data removed]",
      "text/plain": [
       "<Figure size 640x480 with 2 Axes>"
      ]
     },
     "metadata": {},
     "output_type": "display_data"
    }
   ],
   "source": [
    "# Create visualisation of confusion matrix\n",
    "ConfusionMatrixDisplay.from_estimator(optimised_log_reg, X_test, y_test);"
   ]
  },
  {
   "cell_type": "markdown",
   "metadata": {},
   "source": [
    "Interpretation:\n",
    "\n",
    "    The results of the confusion matrix are as follows:\n",
    "\n",
    "    True Negative:  46,744\n",
    "\n",
    "    False Positive: 17,367\n",
    "\n",
    "    False Negative: 3,173\n",
    "\n",
    "    True Positive:  8,820        "
   ]
  },
  {
   "cell_type": "code",
   "execution_count": 21,
   "metadata": {},
   "outputs": [
    {
     "name": "stdout",
     "output_type": "stream",
     "text": [
      "              precision    recall  f1-score   support\n",
      "\n",
      "           0       0.94      0.73      0.82     64111\n",
      "           1       0.34      0.74      0.46     11993\n",
      "\n",
      "    accuracy                           0.73     76104\n",
      "   macro avg       0.64      0.73      0.64     76104\n",
      "weighted avg       0.84      0.73      0.76     76104\n",
      "\n"
     ]
    }
   ],
   "source": [
    "# Classification Report\n",
    "report_initial = classification_report(y_test, y_pred)\n",
    "print(report_initial)"
   ]
  },
  {
   "cell_type": "markdown",
   "metadata": {},
   "source": [
    "### 4a.7 Observations"
   ]
  },
  {
   "cell_type": "markdown",
   "metadata": {},
   "source": [
    "Looking at the errors:\n",
    "\n",
    "For 0: \n",
    "- The precision of 0.94 means that 6% of the predicitons as not having diabetes were in fact positive.\n",
    "- The recall of 0.73 means that 27% of the negative diagnosis were missed by the model as they were classified as being positive\n",
    "\n",
    "For 1: \n",
    "- The precision of 0.34 means that 66% of the predicitons as having diabetes were in fact negative \n",
    "- The recall of 0.74 indicates that 26% of the diagnosis that were positive  were missed by the model and were classified as being negative for diabetes\n",
    "\n",
    "\n",
    "\n",
    "The model shows a low F1 score of 0.46, indicating that the balance between recall and precision across the various classes could be improved. \n",
    "\n",
    "To improve the model's performance, it is recommended to closely examine instances where the sentiment was incorrectly predicted. \n",
    "\n",
    "Analysing these examples can help identify if there are specific health indicators that were mistakenly omitted, which could lead to more accurate predictions in the future."
   ]
  }
 ],
 "metadata": {
  "kernelspec": {
   "display_name": "diego_capstone",
   "language": "python",
   "name": "python3"
  },
  "language_info": {
   "codemirror_mode": {
    "name": "ipython",
    "version": 3
   },
   "file_extension": ".py",
   "mimetype": "text/x-python",
   "name": "python",
   "nbconvert_exporter": "python",
   "pygments_lexer": "ipython3",
   "version": "3.8.18"
  }
 },
 "nbformat": 4,
 "nbformat_minor": 2
}
