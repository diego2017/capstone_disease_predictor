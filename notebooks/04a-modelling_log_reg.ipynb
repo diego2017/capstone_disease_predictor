{
 "cells": [
  {
   "cell_type": "markdown",
   "metadata": {},
   "source": [
    "<div id=\"container\" style=\"position:relative;\">\n",
    "<div style=\"float:left\"><h1> Capstone Project: Diabetes risk predictor based on health indicators</h1></div>\n",
    "<div style=\"float:left\"><h2> Notebook 4: # Modelling - Created by Diego Villanueva</h2></div>\n",
    "</div>\n",
    "</div>"
   ]
  },
  {
   "cell_type": "markdown",
   "metadata": {},
   "source": [
    "## Table of contents\n",
    "\n",
    "4a. Modelling (Logistics Regression)\n",
    "\n",
    "        4a.1 Load data files\n",
    "\n",
    "        4a.2 Instantiate and fit baseline logistic regression\n",
    "\n",
    "        4a.3 Optimising using Pipeline and Grid Search\n",
    "\n",
    "        4a.4 Fit model with the best params\n",
    "\n",
    "        4a.5 Model analysis\n",
    "\n",
    "        4a.6 Model evaluation\n",
    "\n",
    "        4a.7 x\n",
    "\n",
    "        4a.8 x"
   ]
  },
  {
   "cell_type": "markdown",
   "metadata": {},
   "source": [
    "### Imports"
   ]
  },
  {
   "cell_type": "code",
   "execution_count": 51,
   "metadata": {},
   "outputs": [],
   "source": [
    "# data manipulation\n",
    "import numpy as np\n",
    "import pandas as pd\n",
    "\n",
    "# plotting\n",
    "import matplotlib.pyplot as plt\n",
    "import seaborn as sns\n",
    "\n",
    "# modelling\n",
    "from sklearn.linear_model import LogisticRegression\n",
    "import statsmodels.api as sm\n",
    "from sklearn.metrics import confusion_matrix, ConfusionMatrixDisplay\n",
    "from sklearn.metrics import classification_report\n",
    "\n",
    "# Scaling data\n",
    "from sklearn.preprocessing import StandardScaler\n",
    "from sklearn.preprocessing import MinMaxScaler\n",
    "from sklearn.preprocessing import RobustScaler\n",
    "\n",
    "# PCA\n",
    "from sklearn.decomposition import PCA\n",
    "\n",
    "# File saving\n",
    "import joblib \n",
    "\n",
    "# Temporary directories for caching\n",
    "from tempfile import mkdtemp\n",
    "\n",
    "# Cross-validation\n",
    "from sklearn.model_selection import cross_val_score\n",
    "\n",
    "# Pipeline building\n",
    "from sklearn.pipeline import Pipeline\n",
    "\n",
    "# Grid search\n",
    "from sklearn.model_selection import GridSearchCV"
   ]
  },
  {
   "cell_type": "markdown",
   "metadata": {},
   "source": [
    "### 4a.1 Load data files"
   ]
  },
  {
   "cell_type": "code",
   "execution_count": 2,
   "metadata": {},
   "outputs": [],
   "source": [
    "X_rem_scaled = joblib.load(\"../data/Preprocessed_data/X_rem_oversampled_scaled.pkl\") # oversampled and scaled dataset\n",
    "y_rem = joblib.load(\"../data/Preprocessed_data/y_rem_oversampled.pkl\") #oversampled dataset\n",
    "X_test_scaled = joblib.load(\"../data/Preprocessed_data/X_test_scaled.pkl\") # scaled dataset\n",
    "y_test = joblib.load(\"../data/Preprocessed_data/y_test.pkl\") #unmodified dataset\n",
    "\n",
    "X_rem = joblib.load(\"../data/Preprocessed_data/X_rem_oversampled.pkl\") # oversampled, not scaled dataset\n",
    "X_test = joblib.load(\"../data/Preprocessed_data/X_test.pkl\") # not scaled dataset"
   ]
  },
  {
   "cell_type": "markdown",
   "metadata": {},
   "source": [
    "### 4a.2 Instantiate and fit baseline logistic regression"
   ]
  },
  {
   "cell_type": "code",
   "execution_count": 3,
   "metadata": {},
   "outputs": [],
   "source": [
    "# instantiate and fit to scaled & sampled training data\n",
    "log_reg = LogisticRegression(random_state=1, max_iter=150).fit(X_rem_scaled, y_rem)"
   ]
  },
  {
   "cell_type": "code",
   "execution_count": 4,
   "metadata": {},
   "outputs": [
    {
     "name": "stdout",
     "output_type": "stream",
     "text": [
      "Accuracy on remainder set: 0.7701548211134285\n",
      "Accuracy on test set: 0.7184247871333964\n"
     ]
    }
   ],
   "source": [
    "# Check the accuracies of \n",
    "print(f'Accuracy on remainder set: {log_reg.score(X_rem_scaled, y_rem)}')\n",
    "print(f'Accuracy on test set: {log_reg.score(X_test_scaled, y_test)}')"
   ]
  },
  {
   "cell_type": "markdown",
   "metadata": {},
   "source": [
    "The initial model achieved an accuracy of .77 witht he remainder set and .72 with test set. The following step is to optimise the model by trying different hyperparameters and evaluators."
   ]
  },
  {
   "cell_type": "markdown",
   "metadata": {},
   "source": [
    "### 4a.3 Optimising using Pipeline and Grid Search"
   ]
  },
  {
   "cell_type": "code",
   "execution_count": 5,
   "metadata": {},
   "outputs": [],
   "source": [
    "# Create a directory that will be used to cache the pipeline results\n",
    "cachedir = mkdtemp()"
   ]
  },
  {
   "cell_type": "code",
   "execution_count": 6,
   "metadata": {},
   "outputs": [],
   "source": [
    "# Set up a pipeline\n",
    "# The steps here act as placeholders and will be changed when we pass the pipeline into the grid search later\n",
    "my_pipeline = Pipeline([('scaler', StandardScaler()), \n",
    "                        ('dim_reducer', PCA()), \n",
    "                        ('model', LogisticRegression())], memory=cachedir)"
   ]
  },
  {
   "cell_type": "code",
   "execution_count": 7,
   "metadata": {},
   "outputs": [],
   "source": [
    "# Define range of C values to be tried\n",
    "c_values = [.0001, .001, .1, 1, 10, 100, 1000]"
   ]
  },
  {
   "cell_type": "code",
   "execution_count": 8,
   "metadata": {},
   "outputs": [],
   "source": [
    "# Parameter grid\n",
    "log_reg_param_grid = [\n",
    "\n",
    "    # l1 without PCA\n",
    "    {'scaler': [None, StandardScaler(), MinMaxScaler(), RobustScaler()],\n",
    "     'dim_reducer': [None],\n",
    "     'model': [LogisticRegression(penalty='l1', random_state=1, n_jobs=-1, max_iter=10000)],\n",
    "     'model__C': c_values},\n",
    "    \n",
    "    # l1 with PCA\n",
    "    {'scaler': [StandardScaler(), MinMaxScaler(), RobustScaler()],\n",
    "     'dim_reducer': [PCA()],\n",
    "     'dim_reducer__n_components': [0.95, 0.9, 0.85, 0.8],\n",
    "     'model': [LogisticRegression(penalty='l1', random_state=1, n_jobs=-1, max_iter=10000)],\n",
    "     'model__C': c_values},\n",
    "    \n",
    "    # l2 (default) without PCA\n",
    "    {'scaler': [None, StandardScaler(), MinMaxScaler(), RobustScaler()],\n",
    "     'dim_reducer': [None],\n",
    "     'model': [LogisticRegression(solver='lbfgs', random_state=1, n_jobs=-1, max_iter=10000)],\n",
    "     'model__C': c_values},\n",
    "    \n",
    "    # l2 (default) with PCA\n",
    "    {'scaler': [StandardScaler(), MinMaxScaler(), RobustScaler()],\n",
    "     'dim_reducer': [PCA()],\n",
    "     'dim_reducer__n_components': [0.95, 0.9, 0.85, 0.8],\n",
    "     'model': [LogisticRegression(solver='lbfgs', random_state=1, n_jobs=-1, max_iter=10000)],\n",
    "     'model__C': c_values}\n",
    "]"
   ]
  },
  {
   "cell_type": "code",
   "execution_count": 9,
   "metadata": {},
   "outputs": [],
   "source": [
    "# Instantiate the logigstic regression with grid search\n",
    "logreg_gs = GridSearchCV(my_pipeline, param_grid=log_reg_param_grid, cv=5, n_jobs=-1, verbose=1)"
   ]
  },
  {
   "cell_type": "code",
   "execution_count": 10,
   "metadata": {},
   "outputs": [
    {
     "name": "stderr",
     "output_type": "stream",
     "text": [
      "/Users/diego/anaconda3/envs/diego_capstone/lib/python3.8/site-packages/sklearn/pipeline.py:377: UserWarning: Persisting input arguments took 0.50s to run.\n",
      "If this happens often in your code, it can cause performance problems \n",
      "(results will be correct in all cases). \n",
      "The reason for this is probably some large input arguments for a wrapped\n",
      " function (e.g. large strings).\n",
      "THIS IS A JOBLIB ISSUE. If you can, kindly provide the joblib's team with an\n",
      " example so that they can fix the problem.\n",
      "  X, fitted_transformer = fit_transform_one_cached(\n",
      "/Users/diego/anaconda3/envs/diego_capstone/lib/python3.8/site-packages/sklearn/pipeline.py:377: UserWarning: Persisting input arguments took 0.52s to run.\n",
      "If this happens often in your code, it can cause performance problems \n",
      "(results will be correct in all cases). \n",
      "The reason for this is probably some large input arguments for a wrapped\n",
      " function (e.g. large strings).\n",
      "THIS IS A JOBLIB ISSUE. If you can, kindly provide the joblib's team with an\n",
      " example so that they can fix the problem.\n",
      "  X, fitted_transformer = fit_transform_one_cached(\n",
      "/Users/diego/anaconda3/envs/diego_capstone/lib/python3.8/site-packages/sklearn/pipeline.py:377: UserWarning: Persisting input arguments took 0.72s to run.\n",
      "If this happens often in your code, it can cause performance problems \n",
      "(results will be correct in all cases). \n",
      "The reason for this is probably some large input arguments for a wrapped\n",
      " function (e.g. large strings).\n",
      "THIS IS A JOBLIB ISSUE. If you can, kindly provide the joblib's team with an\n",
      " example so that they can fix the problem.\n",
      "  X, fitted_transformer = fit_transform_one_cached(\n",
      "/Users/diego/anaconda3/envs/diego_capstone/lib/python3.8/site-packages/sklearn/pipeline.py:377: UserWarning: Persisting input arguments took 0.69s to run.\n",
      "If this happens often in your code, it can cause performance problems \n",
      "(results will be correct in all cases). \n",
      "The reason for this is probably some large input arguments for a wrapped\n",
      " function (e.g. large strings).\n",
      "THIS IS A JOBLIB ISSUE. If you can, kindly provide the joblib's team with an\n",
      " example so that they can fix the problem.\n",
      "  X, fitted_transformer = fit_transform_one_cached(\n",
      "/Users/diego/anaconda3/envs/diego_capstone/lib/python3.8/site-packages/sklearn/pipeline.py:377: UserWarning: Persisting input arguments took 0.58s to run.\n",
      "If this happens often in your code, it can cause performance problems \n",
      "(results will be correct in all cases). \n",
      "The reason for this is probably some large input arguments for a wrapped\n",
      " function (e.g. large strings).\n",
      "THIS IS A JOBLIB ISSUE. If you can, kindly provide the joblib's team with an\n",
      " example so that they can fix the problem.\n",
      "  X, fitted_transformer = fit_transform_one_cached(\n",
      "/Users/diego/anaconda3/envs/diego_capstone/lib/python3.8/site-packages/sklearn/pipeline.py:377: UserWarning: Persisting input arguments took 0.53s to run.\n",
      "If this happens often in your code, it can cause performance problems \n",
      "(results will be correct in all cases). \n",
      "The reason for this is probably some large input arguments for a wrapped\n",
      " function (e.g. large strings).\n",
      "THIS IS A JOBLIB ISSUE. If you can, kindly provide the joblib's team with an\n",
      " example so that they can fix the problem.\n",
      "  X, fitted_transformer = fit_transform_one_cached(\n",
      "/Users/diego/anaconda3/envs/diego_capstone/lib/python3.8/site-packages/sklearn/pipeline.py:377: UserWarning: Persisting input arguments took 0.59s to run.\n",
      "If this happens often in your code, it can cause performance problems \n",
      "(results will be correct in all cases). \n",
      "The reason for this is probably some large input arguments for a wrapped\n",
      " function (e.g. large strings).\n",
      "THIS IS A JOBLIB ISSUE. If you can, kindly provide the joblib's team with an\n",
      " example so that they can fix the problem.\n",
      "  X, fitted_transformer = fit_transform_one_cached(\n",
      "/Users/diego/anaconda3/envs/diego_capstone/lib/python3.8/site-packages/sklearn/pipeline.py:377: UserWarning: Persisting input arguments took 0.55s to run.\n",
      "If this happens often in your code, it can cause performance problems \n",
      "(results will be correct in all cases). \n",
      "The reason for this is probably some large input arguments for a wrapped\n",
      " function (e.g. large strings).\n",
      "THIS IS A JOBLIB ISSUE. If you can, kindly provide the joblib's team with an\n",
      " example so that they can fix the problem.\n",
      "  X, fitted_transformer = fit_transform_one_cached(\n",
      "/Users/diego/anaconda3/envs/diego_capstone/lib/python3.8/site-packages/sklearn/pipeline.py:377: UserWarning: Persisting input arguments took 0.56s to run.\n",
      "If this happens often in your code, it can cause performance problems \n",
      "(results will be correct in all cases). \n",
      "The reason for this is probably some large input arguments for a wrapped\n",
      " function (e.g. large strings).\n",
      "THIS IS A JOBLIB ISSUE. If you can, kindly provide the joblib's team with an\n",
      " example so that they can fix the problem.\n",
      "  X, fitted_transformer = fit_transform_one_cached(\n",
      "/Users/diego/anaconda3/envs/diego_capstone/lib/python3.8/site-packages/sklearn/pipeline.py:377: UserWarning: Persisting input arguments took 0.74s to run.\n",
      "If this happens often in your code, it can cause performance problems \n",
      "(results will be correct in all cases). \n",
      "The reason for this is probably some large input arguments for a wrapped\n",
      " function (e.g. large strings).\n",
      "THIS IS A JOBLIB ISSUE. If you can, kindly provide the joblib's team with an\n",
      " example so that they can fix the problem.\n",
      "  X, fitted_transformer = fit_transform_one_cached(\n",
      "/Users/diego/anaconda3/envs/diego_capstone/lib/python3.8/site-packages/sklearn/pipeline.py:377: UserWarning: Persisting input arguments took 1.12s to run.\n",
      "If this happens often in your code, it can cause performance problems \n",
      "(results will be correct in all cases). \n",
      "The reason for this is probably some large input arguments for a wrapped\n",
      " function (e.g. large strings).\n",
      "THIS IS A JOBLIB ISSUE. If you can, kindly provide the joblib's team with an\n",
      " example so that they can fix the problem.\n",
      "  X, fitted_transformer = fit_transform_one_cached(\n",
      "/Users/diego/anaconda3/envs/diego_capstone/lib/python3.8/site-packages/sklearn/model_selection/_validation.py:425: FitFailedWarning: \n",
      "560 fits failed out of a total of 1120.\n",
      "The score on these train-test partitions for these parameters will be set to nan.\n",
      "If these failures are not expected, you can try to debug them by setting error_score='raise'.\n",
      "\n",
      "Below are more details about the failures:\n",
      "--------------------------------------------------------------------------------\n",
      "560 fits failed with the following error:\n",
      "Traceback (most recent call last):\n",
      "  File \"/Users/diego/anaconda3/envs/diego_capstone/lib/python3.8/site-packages/sklearn/model_selection/_validation.py\", line 729, in _fit_and_score\n",
      "    estimator.fit(X_train, y_train, **fit_params)\n",
      "  File \"/Users/diego/anaconda3/envs/diego_capstone/lib/python3.8/site-packages/sklearn/base.py\", line 1152, in wrapper\n",
      "    return fit_method(estimator, *args, **kwargs)\n",
      "  File \"/Users/diego/anaconda3/envs/diego_capstone/lib/python3.8/site-packages/sklearn/pipeline.py\", line 427, in fit\n",
      "    self._final_estimator.fit(Xt, y, **fit_params_last_step)\n",
      "  File \"/Users/diego/anaconda3/envs/diego_capstone/lib/python3.8/site-packages/sklearn/base.py\", line 1152, in wrapper\n",
      "    return fit_method(estimator, *args, **kwargs)\n",
      "  File \"/Users/diego/anaconda3/envs/diego_capstone/lib/python3.8/site-packages/sklearn/linear_model/_logistic.py\", line 1169, in fit\n",
      "    solver = _check_solver(self.solver, self.penalty, self.dual)\n",
      "  File \"/Users/diego/anaconda3/envs/diego_capstone/lib/python3.8/site-packages/sklearn/linear_model/_logistic.py\", line 56, in _check_solver\n",
      "    raise ValueError(\n",
      "ValueError: Solver lbfgs supports only 'l2' or 'none' penalties, got l1 penalty.\n",
      "\n",
      "  warnings.warn(some_fits_failed_message, FitFailedWarning)\n",
      "/Users/diego/anaconda3/envs/diego_capstone/lib/python3.8/site-packages/sklearn/model_selection/_search.py:979: UserWarning: One or more of the test scores are non-finite: [       nan        nan        nan        nan        nan        nan\n",
      "        nan        nan        nan        nan        nan        nan\n",
      "        nan        nan        nan        nan        nan        nan\n",
      "        nan        nan        nan        nan        nan        nan\n",
      "        nan        nan        nan        nan        nan        nan\n",
      "        nan        nan        nan        nan        nan        nan\n",
      "        nan        nan        nan        nan        nan        nan\n",
      "        nan        nan        nan        nan        nan        nan\n",
      "        nan        nan        nan        nan        nan        nan\n",
      "        nan        nan        nan        nan        nan        nan\n",
      "        nan        nan        nan        nan        nan        nan\n",
      "        nan        nan        nan        nan        nan        nan\n",
      "        nan        nan        nan        nan        nan        nan\n",
      "        nan        nan        nan        nan        nan        nan\n",
      "        nan        nan        nan        nan        nan        nan\n",
      "        nan        nan        nan        nan        nan        nan\n",
      "        nan        nan        nan        nan        nan        nan\n",
      "        nan        nan        nan        nan        nan        nan\n",
      "        nan        nan        nan        nan 0.74119606 0.75968972\n",
      " 0.73497915 0.74276366 0.75673835 0.76612056 0.7499031  0.75666816\n",
      " 0.76600023 0.76578966 0.7654855  0.7660136  0.76576292 0.76573284\n",
      " 0.76570276 0.76577295 0.76571947 0.76571278 0.76571613 0.76571278\n",
      " 0.76567936 0.76570944 0.7657061  0.76571947 0.76570276 0.76570944\n",
      " 0.76572615 0.76573952 0.75178154 0.73030978 0.73493903 0.75174478\n",
      " 0.73560085 0.73608215 0.75172807 0.7369746  0.73618576 0.75161442\n",
      " 0.73698128 0.73618576 0.75161442 0.7369746  0.73618576 0.75161777\n",
      " 0.73697126 0.73618576 0.75162111 0.7369746  0.73618576 0.75097936\n",
      " 0.72797677 0.73415022 0.75127684 0.72996886 0.73571113 0.75165119\n",
      " 0.73005242 0.7358582  0.75155092 0.73006913 0.73585152 0.75157097\n",
      " 0.73006913 0.73585152 0.75156763 0.73006913 0.73585152 0.75156763\n",
      " 0.73006913 0.73585152 0.75115316 0.72751551 0.73078774 0.7514473\n",
      " 0.72828427 0.73206121 0.75154423 0.72795003 0.73195091 0.75157097\n",
      " 0.72792998 0.73195759 0.75157431 0.72792664 0.73195759 0.75157766\n",
      " 0.72792329 0.73195759 0.75157766 0.72792329 0.73195759 0.75076878\n",
      " 0.72682363 0.71771552 0.7510529  0.72843468 0.71783584 0.75085903\n",
      " 0.72822745 0.7175484  0.75085903 0.72822077 0.71754505 0.75085903\n",
      " 0.72822077 0.71755174 0.75085903 0.72822077 0.71755174 0.75085903\n",
      " 0.72822077 0.71755174]\n",
      "  warnings.warn(\n"
     ]
    }
   ],
   "source": [
    "# Fit the logigstic regression with grid search\n",
    "fitted_logreg_gs = logreg_gs.fit(X_rem, y_rem)"
   ]
  },
  {
   "cell_type": "code",
   "execution_count": 11,
   "metadata": {},
   "outputs": [
    {
     "data": {
      "text/html": [
       "<style>#sk-container-id-1 {color: black;}#sk-container-id-1 pre{padding: 0;}#sk-container-id-1 div.sk-toggleable {background-color: white;}#sk-container-id-1 label.sk-toggleable__label {cursor: pointer;display: block;width: 100%;margin-bottom: 0;padding: 0.3em;box-sizing: border-box;text-align: center;}#sk-container-id-1 label.sk-toggleable__label-arrow:before {content: \"▸\";float: left;margin-right: 0.25em;color: #696969;}#sk-container-id-1 label.sk-toggleable__label-arrow:hover:before {color: black;}#sk-container-id-1 div.sk-estimator:hover label.sk-toggleable__label-arrow:before {color: black;}#sk-container-id-1 div.sk-toggleable__content {max-height: 0;max-width: 0;overflow: hidden;text-align: left;background-color: #f0f8ff;}#sk-container-id-1 div.sk-toggleable__content pre {margin: 0.2em;color: black;border-radius: 0.25em;background-color: #f0f8ff;}#sk-container-id-1 input.sk-toggleable__control:checked~div.sk-toggleable__content {max-height: 200px;max-width: 100%;overflow: auto;}#sk-container-id-1 input.sk-toggleable__control:checked~label.sk-toggleable__label-arrow:before {content: \"▾\";}#sk-container-id-1 div.sk-estimator input.sk-toggleable__control:checked~label.sk-toggleable__label {background-color: #d4ebff;}#sk-container-id-1 div.sk-label input.sk-toggleable__control:checked~label.sk-toggleable__label {background-color: #d4ebff;}#sk-container-id-1 input.sk-hidden--visually {border: 0;clip: rect(1px 1px 1px 1px);clip: rect(1px, 1px, 1px, 1px);height: 1px;margin: -1px;overflow: hidden;padding: 0;position: absolute;width: 1px;}#sk-container-id-1 div.sk-estimator {font-family: monospace;background-color: #f0f8ff;border: 1px dotted black;border-radius: 0.25em;box-sizing: border-box;margin-bottom: 0.5em;}#sk-container-id-1 div.sk-estimator:hover {background-color: #d4ebff;}#sk-container-id-1 div.sk-parallel-item::after {content: \"\";width: 100%;border-bottom: 1px solid gray;flex-grow: 1;}#sk-container-id-1 div.sk-label:hover label.sk-toggleable__label {background-color: #d4ebff;}#sk-container-id-1 div.sk-serial::before {content: \"\";position: absolute;border-left: 1px solid gray;box-sizing: border-box;top: 0;bottom: 0;left: 50%;z-index: 0;}#sk-container-id-1 div.sk-serial {display: flex;flex-direction: column;align-items: center;background-color: white;padding-right: 0.2em;padding-left: 0.2em;position: relative;}#sk-container-id-1 div.sk-item {position: relative;z-index: 1;}#sk-container-id-1 div.sk-parallel {display: flex;align-items: stretch;justify-content: center;background-color: white;position: relative;}#sk-container-id-1 div.sk-item::before, #sk-container-id-1 div.sk-parallel-item::before {content: \"\";position: absolute;border-left: 1px solid gray;box-sizing: border-box;top: 0;bottom: 0;left: 50%;z-index: -1;}#sk-container-id-1 div.sk-parallel-item {display: flex;flex-direction: column;z-index: 1;position: relative;background-color: white;}#sk-container-id-1 div.sk-parallel-item:first-child::after {align-self: flex-end;width: 50%;}#sk-container-id-1 div.sk-parallel-item:last-child::after {align-self: flex-start;width: 50%;}#sk-container-id-1 div.sk-parallel-item:only-child::after {width: 0;}#sk-container-id-1 div.sk-dashed-wrapped {border: 1px dashed gray;margin: 0 0.4em 0.5em 0.4em;box-sizing: border-box;padding-bottom: 0.4em;background-color: white;}#sk-container-id-1 div.sk-label label {font-family: monospace;font-weight: bold;display: inline-block;line-height: 1.2em;}#sk-container-id-1 div.sk-label-container {text-align: center;}#sk-container-id-1 div.sk-container {/* jupyter's `normalize.less` sets `[hidden] { display: none; }` but bootstrap.min.css set `[hidden] { display: none !important; }` so we also need the `!important` here to be able to override the default hidden behavior on the sphinx rendered scikit-learn.org. See: https://github.com/scikit-learn/scikit-learn/issues/21755 */display: inline-block !important;position: relative;}#sk-container-id-1 div.sk-text-repr-fallback {display: none;}</style><div id=\"sk-container-id-1\" class=\"sk-top-container\"><div class=\"sk-text-repr-fallback\"><pre>Pipeline(memory=&#x27;/var/folders/6c/0s0k1hv53xn7g3bpzkggst1r0000gn/T/tmpcssim0xt&#x27;,\n",
       "         steps=[(&#x27;scaler&#x27;, StandardScaler()), (&#x27;dim_reducer&#x27;, None),\n",
       "                (&#x27;model&#x27;,\n",
       "                 LogisticRegression(C=0.001, max_iter=10000, n_jobs=-1,\n",
       "                                    random_state=1))])</pre><b>In a Jupyter environment, please rerun this cell to show the HTML representation or trust the notebook. <br />On GitHub, the HTML representation is unable to render, please try loading this page with nbviewer.org.</b></div><div class=\"sk-container\" hidden><div class=\"sk-item sk-dashed-wrapped\"><div class=\"sk-label-container\"><div class=\"sk-label sk-toggleable\"><input class=\"sk-toggleable__control sk-hidden--visually\" id=\"sk-estimator-id-1\" type=\"checkbox\" ><label for=\"sk-estimator-id-1\" class=\"sk-toggleable__label sk-toggleable__label-arrow\">Pipeline</label><div class=\"sk-toggleable__content\"><pre>Pipeline(memory=&#x27;/var/folders/6c/0s0k1hv53xn7g3bpzkggst1r0000gn/T/tmpcssim0xt&#x27;,\n",
       "         steps=[(&#x27;scaler&#x27;, StandardScaler()), (&#x27;dim_reducer&#x27;, None),\n",
       "                (&#x27;model&#x27;,\n",
       "                 LogisticRegression(C=0.001, max_iter=10000, n_jobs=-1,\n",
       "                                    random_state=1))])</pre></div></div></div><div class=\"sk-serial\"><div class=\"sk-item\"><div class=\"sk-estimator sk-toggleable\"><input class=\"sk-toggleable__control sk-hidden--visually\" id=\"sk-estimator-id-2\" type=\"checkbox\" ><label for=\"sk-estimator-id-2\" class=\"sk-toggleable__label sk-toggleable__label-arrow\">StandardScaler</label><div class=\"sk-toggleable__content\"><pre>StandardScaler()</pre></div></div></div><div class=\"sk-item\"><div class=\"sk-estimator sk-toggleable\"><input class=\"sk-toggleable__control sk-hidden--visually\" id=\"sk-estimator-id-3\" type=\"checkbox\" ><label for=\"sk-estimator-id-3\" class=\"sk-toggleable__label sk-toggleable__label-arrow\">None</label><div class=\"sk-toggleable__content\"><pre>None</pre></div></div></div><div class=\"sk-item\"><div class=\"sk-estimator sk-toggleable\"><input class=\"sk-toggleable__control sk-hidden--visually\" id=\"sk-estimator-id-4\" type=\"checkbox\" ><label for=\"sk-estimator-id-4\" class=\"sk-toggleable__label sk-toggleable__label-arrow\">LogisticRegression</label><div class=\"sk-toggleable__content\"><pre>LogisticRegression(C=0.001, max_iter=10000, n_jobs=-1, random_state=1)</pre></div></div></div></div></div></div></div>"
      ],
      "text/plain": [
       "Pipeline(memory='/var/folders/6c/0s0k1hv53xn7g3bpzkggst1r0000gn/T/tmpcssim0xt',\n",
       "         steps=[('scaler', StandardScaler()), ('dim_reducer', None),\n",
       "                ('model',\n",
       "                 LogisticRegression(C=0.001, max_iter=10000, n_jobs=-1,\n",
       "                                    random_state=1))])"
      ]
     },
     "execution_count": 11,
     "metadata": {},
     "output_type": "execute_result"
    }
   ],
   "source": [
    "fitted_logreg_gs.best_estimator_"
   ]
  },
  {
   "cell_type": "markdown",
   "metadata": {},
   "source": [
    "The best estimator used a standard scaler, no PCA, and a l2 logistic regression with a C value of 0.001 and max_iter of 10000"
   ]
  },
  {
   "cell_type": "code",
   "execution_count": 20,
   "metadata": {},
   "outputs": [
    {
     "name": "stdout",
     "output_type": "stream",
     "text": [
      "Accuracies of the optimised model:\n",
      "The best logistic regression's accuracy on the remainder set: 0.7704222150917162\n",
      "The best logistic regression's accuracy on the test set: 0.7322611163670766\n"
     ]
    }
   ],
   "source": [
    "# Accuracy of the optimised model:\n",
    "print(\"Accuracies of the optimised model:\")\n",
    "print(f\"The best logistic regression's accuracy on the remainder set: {fitted_logreg_gs.score(X_rem, y_rem)}\")\n",
    "print(f\"The best logistic regression's accuracy on the test set: {fitted_logreg_gs.score(X_test, y_test)}\")"
   ]
  },
  {
   "cell_type": "markdown",
   "metadata": {},
   "source": [
    "We can see overfitting is present in the optiomised model"
   ]
  },
  {
   "cell_type": "code",
   "execution_count": 13,
   "metadata": {},
   "outputs": [
    {
     "name": "stdout",
     "output_type": "stream",
     "text": [
      "Accuracies of the initial/baseline model:\n",
      "Accuracy on remainder set: 0.7701548211134285\n",
      "Accuracy on test set: 0.7184247871333964\n"
     ]
    }
   ],
   "source": [
    "# Accuracy of the initial/baseline model:\n",
    "print(\"Accuracies of the initial/baseline model:\")\n",
    "print(f'Accuracy on remainder set: {log_reg.score(X_rem_scaled, y_rem)}')\n",
    "print(f'Accuracy on test set: {log_reg.score(X_test_scaled, y_test)}')"
   ]
  },
  {
   "cell_type": "markdown",
   "metadata": {},
   "source": [
    "### 4a.4 Fit model with the best params"
   ]
  },
  {
   "cell_type": "code",
   "execution_count": 21,
   "metadata": {},
   "outputs": [],
   "source": [
    "# Fit model\n",
    "optimised_log_reg = LogisticRegression(C=0.001, max_iter=10000, n_jobs=-1, random_state=1).fit(X_rem, y_rem)"
   ]
  },
  {
   "cell_type": "markdown",
   "metadata": {},
   "source": [
    "### 4a.5 Optimised model analysis"
   ]
  },
  {
   "cell_type": "code",
   "execution_count": 25,
   "metadata": {},
   "outputs": [
    {
     "name": "stdout",
     "output_type": "stream",
     "text": [
      "Accuracies of the optimised model:\n",
      "The best logistic regression's accuracy on the remainder set: 0.7600172469115996\n",
      "The best logistic regression's accuracy on the test set: 0.7327078734363502\n"
     ]
    }
   ],
   "source": [
    "# Accuracy of the optimised model:\n",
    "print(\"Accuracies of the optimised model:\")\n",
    "print(f\"The best logistic regression's accuracy on the remainder set: {optimised_log_reg.score(X_rem, y_rem)}\")\n",
    "print(f\"The best logistic regression's accuracy on the test set: {optimised_log_reg.score(X_test, y_test)}\")"
   ]
  },
  {
   "cell_type": "code",
   "execution_count": 35,
   "metadata": {},
   "outputs": [
    {
     "name": "stdout",
     "output_type": "stream",
     "text": [
      "                   Feature  Coefficient\n",
      "0              Has_high_bp     0.908569\n",
      "1     Has_high_cholesterol     0.690622\n",
      "2      Checked_cholesterol     0.758100\n",
      "3                      BMI     0.069725\n",
      "4                Is_smoker     0.049707\n",
      "5               Had_stroke    -0.402475\n",
      "6        Has_heart_disease     0.017405\n",
      "7        Physical_activity     0.020864\n",
      "8              Eats_fruits    -0.009864\n",
      "9             Eats_veggies     0.199810\n",
      "10           Heavy_drinker    -1.057335\n",
      "11      Has_healthcare_cov     0.609326\n",
      "12    No_attention_bc_cost    -0.438361\n",
      "13  Mental_health_bad_days     0.000141\n",
      "14      Walking_difficulty     0.137763\n",
      "15                 Is_male     0.221973\n",
      "16  General_health_score_2     0.007768\n",
      "17  General_health_score_3     0.665908\n",
      "18  General_health_score_4     0.966737\n",
      "19  General_health_score_5     0.897272\n",
      "20             Age_Group_2    -0.688695\n",
      "21             Age_Group_3    -0.829962\n",
      "22             Age_Group_4    -0.750278\n",
      "23             Age_Group_5    -0.611117\n",
      "24             Age_Group_6    -0.402137\n",
      "25             Age_Group_7    -0.216186\n",
      "26             Age_Group_8    -0.119328\n",
      "27             Age_Group_9     0.063819\n",
      "28            Age_Group_10     0.164519\n",
      "29            Age_Group_11     0.247454\n",
      "30            Age_Group_12     0.209233\n",
      "31            Age_Group_13     0.141372\n",
      "32       Education_Group_2    -0.113215\n",
      "33       Education_Group_3    -0.159814\n",
      "34       Education_Group_4    -0.046138\n",
      "35       Education_Group_5    -0.048774\n",
      "36          Income_Group_2    -0.193832\n",
      "37          Income_Group_3    -0.199391\n",
      "38          Income_Group_4    -0.195140\n",
      "39          Income_Group_5    -0.278526\n",
      "40          Income_Group_6    -0.414279\n",
      "41          Income_Group_7    -0.466552\n",
      "42          Income_Group_8    -0.698317\n"
     ]
    }
   ],
   "source": [
    "# Get coefficients and intercept from the optimised model\n",
    "coefficients = optimised_log_reg.coef_.flatten()  # Flatten the coefficients array\n",
    "intercept = optimised_log_reg.intercept_\n",
    "\n",
    "# Get names of columns \n",
    "feature_names = X_rem.columns \n",
    "\n",
    "# Create dataframe with features and their coefficient values\n",
    "features_df = pd.DataFrame({'Feature': feature_names, 'Coefficient': coefficients})\n",
    "\n",
    "# Sort rows based on the coefficient value\n",
    "sorted_features_df = features_df.sort_values(by='Coefficient', ascending=False)\n",
    "\n",
    "# Display the DataFrame\n",
    "print(sorted_features_df)"
   ]
  },
  {
   "cell_type": "code",
   "execution_count": 37,
   "metadata": {},
   "outputs": [
    {
     "name": "stdout",
     "output_type": "stream",
     "text": [
      "Top 5 coefficients with the lowest values and top 5 with the highest values are:\n",
      "                   Feature  Coefficient\n",
      "18  General_health_score_4     0.966737\n",
      "0              Has_high_bp     0.908569\n",
      "19  General_health_score_5     0.897272\n",
      "2      Checked_cholesterol     0.758100\n",
      "1     Has_high_cholesterol     0.690622\n",
      "20             Age_Group_2    -0.688695\n",
      "42          Income_Group_8    -0.698317\n",
      "22             Age_Group_4    -0.750278\n",
      "21             Age_Group_3    -0.829962\n",
      "10           Heavy_drinker    -1.057335\n"
     ]
    }
   ],
   "source": [
    "# Get the top and bottom coefficients\n",
    "low_5_coef = sorted_features_df.head(5)\n",
    "high_5_coef = sorted_features_df.tail(5)\n",
    "\n",
    "# Join them\n",
    "combined_coef = pd.concat([low_5_coef, high_5_coef])\n",
    "\n",
    "# Display results\n",
    "print(\"Top 5 coefficients with the lowest values and top 5 with the highest values are:\")\n",
    "print(combined_coef)"
   ]
  },
  {
   "cell_type": "code",
   "execution_count": 41,
   "metadata": {},
   "outputs": [
    {
     "data": {
      "image/png": "[encoded data removed]",
      "text/plain": [
       "<Figure size 1000x500 with 1 Axes>"
      ]
     },
     "metadata": {},
     "output_type": "display_data"
    }
   ],
   "source": [
    "# Create a visualisation:\n",
    "# Assign colors based on 'Coefficient' values\n",
    "colors = ['green' if x < 0 else 'red' for x in combined_coef['Coefficient']]\n",
    "\n",
    "# Create barh plot\n",
    "plt.figure(figsize=(10, 5))\n",
    "plt.barh(combined_coef['Feature'], combined_coef['Coefficient'], color=colors)\n",
    "plt.xlabel('Coefficient')\n",
    "plt.title('Feature Coefficients')\n",
    "\n",
    "# Add the values to the bars\n",
    "for index, value in enumerate(combined_coef['Coefficient']):\n",
    "    if value < 0:\n",
    "        plt.text(value, index, f'{value:.2f}', va='center', ha='right', color='white')\n",
    "    else:\n",
    "        plt.text(value, index, f'{value:.2f}', va='center', ha='left', color='white')\n",
    "\n",
    "# Show the plot\n",
    "plt.show()"
   ]
  },
  {
   "cell_type": "markdown",
   "metadata": {},
   "source": [
    "### 4a.6 Model Evaluation"
   ]
  },
  {
   "cell_type": "code",
   "execution_count": 47,
   "metadata": {},
   "outputs": [
    {
     "data": {
      "text/html": [
       "<div>\n",
       "<style scoped>\n",
       "    .dataframe tbody tr th:only-of-type {\n",
       "        vertical-align: middle;\n",
       "    }\n",
       "\n",
       "    .dataframe tbody tr th {\n",
       "        vertical-align: top;\n",
       "    }\n",
       "\n",
       "    .dataframe thead th {\n",
       "        text-align: right;\n",
       "    }\n",
       "</style>\n",
       "<table border=\"1\" class=\"dataframe\">\n",
       "  <thead>\n",
       "    <tr style=\"text-align: right;\">\n",
       "      <th></th>\n",
       "      <th>Predicted Negative Review</th>\n",
       "      <th>Predicted Positive Review</th>\n",
       "    </tr>\n",
       "  </thead>\n",
       "  <tbody>\n",
       "    <tr>\n",
       "      <th>True Negative Review</th>\n",
       "      <td>47103</td>\n",
       "      <td>17008</td>\n",
       "    </tr>\n",
       "    <tr>\n",
       "      <th>True Positive Review</th>\n",
       "      <td>3334</td>\n",
       "      <td>8659</td>\n",
       "    </tr>\n",
       "  </tbody>\n",
       "</table>\n",
       "</div>"
      ],
      "text/plain": [
       "                      Predicted Negative Review  Predicted Positive Review\n",
       "True Negative Review                      47103                      17008\n",
       "True Positive Review                       3334                       8659"
      ]
     },
     "metadata": {},
     "output_type": "display_data"
    }
   ],
   "source": [
    "# Create confusion matrix for logistic regression\n",
    "\n",
    "# Get class predictions\n",
    "y_pred = optimised_log_reg.predict(X_test)\n",
    "\n",
    "# Generate confusion matrix\n",
    "cf_matrix = confusion_matrix(y_test, y_pred)\n",
    "\n",
    "# label rows and columns\n",
    "cf_df = pd.DataFrame(\n",
    "    cf_matrix, \n",
    "    columns=[\"Predicted Negative Review\", \"Predicted Positive Review\"],\n",
    "    index=[\"True Negative Review\", \"True Positive Review\"]\n",
    ")\n",
    "\n",
    "display(cf_df)"
   ]
  },
  {
   "cell_type": "code",
   "execution_count": 49,
   "metadata": {},
   "outputs": [
    {
     "data": {
      "image/png": "[encoded data removed]",
      "text/plain": [
       "<Figure size 640x480 with 2 Axes>"
      ]
     },
     "metadata": {},
     "output_type": "display_data"
    }
   ],
   "source": [
    "# Create visualisation of confusion matrix\n",
    "ConfusionMatrixDisplay.from_estimator(optimised_log_reg, X_test, y_test);"
   ]
  },
  {
   "cell_type": "code",
   "execution_count": 52,
   "metadata": {},
   "outputs": [
    {
     "name": "stdout",
     "output_type": "stream",
     "text": [
      "              precision    recall  f1-score   support\n",
      "\n",
      "           0       0.93      0.73      0.82     64111\n",
      "           1       0.34      0.72      0.46     11993\n",
      "\n",
      "    accuracy                           0.73     76104\n",
      "   macro avg       0.64      0.73      0.64     76104\n",
      "weighted avg       0.84      0.73      0.77     76104\n",
      "\n"
     ]
    }
   ],
   "source": [
    "# Classification Report\n",
    "report_initial = classification_report(y_test, y_pred)\n",
    "print(report_initial)"
   ]
  }
 ],
 "metadata": {
  "kernelspec": {
   "display_name": "diego_capstone",
   "language": "python",
   "name": "python3"
  },
  "language_info": {
   "codemirror_mode": {
    "name": "ipython",
    "version": 3
   },
   "file_extension": ".py",
   "mimetype": "text/x-python",
   "name": "python",
   "nbconvert_exporter": "python",
   "pygments_lexer": "ipython3",
   "version": "3.8.18"
  }
 },
 "nbformat": 4,
 "nbformat_minor": 2
}
