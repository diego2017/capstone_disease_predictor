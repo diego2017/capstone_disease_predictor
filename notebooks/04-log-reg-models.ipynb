{
 "cells": [
  {
   "cell_type": "markdown",
   "metadata": {},
   "source": [
    "<div id=\"container\" style=\"position:relative;\">\n",
    "<div style=\"float:left\"><h1> Capstone Project: Diabetes risk predictor based on health indicators</h1></div>\n",
    "<div style=\"float:left\"><h2> Notebook 4: # Modelling - Logistics Regression models</h2></div>\n",
    "<div style=\"float:left\"><h2> Created by Diego Villanueva</h2></div>\n",
    "</div>\n",
    "</div>"
   ]
  },
  {
   "cell_type": "markdown",
   "metadata": {},
   "source": [
    "This notebook includes  logistc models that use unmodified and oversampled training datasets."
   ]
  },
  {
   "cell_type": "markdown",
   "metadata": {},
   "source": [
    "## Table of contents\n",
    "\n",
    "4.1 Load data files\n",
    "\n",
    "4.2 Logistic regression function\n",
    "\n",
    "4.3 Using unmodified dataset to train model\n",
    "\n",
    "4.4 Model evaluation (unmodified)\n",
    "\n",
    "4.5 Using oversampled dataset to train model\n",
    "\n",
    "4.6 Model evaluation (oversampled)"
   ]
  },
  {
   "cell_type": "markdown",
   "metadata": {},
   "source": [
    "### Imports"
   ]
  },
  {
   "cell_type": "code",
   "execution_count": 3,
   "metadata": {},
   "outputs": [],
   "source": [
    "# data manipulation\n",
    "import numpy as np\n",
    "import pandas as pd\n",
    "\n",
    "# plotting\n",
    "import matplotlib.pyplot as plt\n",
    "import seaborn as sns\n",
    "\n",
    "# modelling\n",
    "from sklearn.linear_model import LogisticRegression\n",
    "import statsmodels.api as sm\n",
    "from sklearn.metrics import confusion_matrix, ConfusionMatrixDisplay\n",
    "from sklearn.metrics import classification_report\n",
    "\n",
    "# Scaling data\n",
    "from sklearn.preprocessing import StandardScaler\n",
    "from sklearn.preprocessing import MinMaxScaler\n",
    "from sklearn.preprocessing import RobustScaler\n",
    "\n",
    "# PCA\n",
    "from sklearn.decomposition import PCA\n",
    "\n",
    "# File saving\n",
    "import joblib \n",
    "\n",
    "# Temporary directories for caching\n",
    "from tempfile import mkdtemp\n",
    "\n",
    "# Cross-validation\n",
    "from sklearn.model_selection import cross_val_score\n",
    "\n",
    "# Pipeline building\n",
    "from sklearn.pipeline import Pipeline\n",
    "\n",
    "# Grid search\n",
    "from sklearn.model_selection import GridSearchCV"
   ]
  },
  {
   "cell_type": "markdown",
   "metadata": {},
   "source": [
    "### 4.1 Load data files"
   ]
  },
  {
   "cell_type": "code",
   "execution_count": 4,
   "metadata": {},
   "outputs": [],
   "source": [
    "X_rem = joblib.load(\"../data/Preprocessed_data/X_rem.pkl\") # Unmodified dataset\n",
    "y_rem = joblib.load(\"../data/Preprocessed_data/y_rem.pkl\") # Unmodified dataset\n",
    "\n",
    "X_rem_os = joblib.load(\"../data/Preprocessed_data/X_rem_oversampled.pkl\") # Over sampled dataset\n",
    "y_rem_os = joblib.load(\"../data/Preprocessed_data/y_rem_oversampled.pkl\") # Over sampled dataset\n",
    "\n",
    "X_test = joblib.load(\"../data/Preprocessed_data/X_test.pkl\") # not scaled dataset\n",
    "y_test = joblib.load(\"../data/Preprocessed_data/y_test.pkl\") #unmodified dataset"
   ]
  },
  {
   "cell_type": "markdown",
   "metadata": {},
   "source": [
    "### 4.2 Logistic regression function"
   ]
  },
  {
   "cell_type": "code",
   "execution_count": 5,
   "metadata": {},
   "outputs": [],
   "source": [
    "def log_reg_function(X_train, y_train, X_test, y_test, c_values=None, cv=5, verbose=1, random_state=1):\n",
    "\n",
    "    # Create a directory that will be used to cache the pipeline results\n",
    "    cachedir = mkdtemp()\n",
    "\n",
    "    # C values that will be used if no attribute provided\n",
    "    if c_values is None:\n",
    "        c_values = [.0001, .001, .1, 1, 10, 100, 1000]\n",
    "\n",
    "    # Setup Pipeline\n",
    "    my_pipeline = Pipeline([('scaler', StandardScaler()), \n",
    "                            ('dim_reducer', PCA()), \n",
    "                            ('model', LogisticRegression())], \n",
    "                            memory=cachedir)\n",
    "\n",
    "    # Parameter grid\n",
    "    log_reg_param_grid = [\n",
    "\n",
    "    # l1 without PCA\n",
    "    {'scaler': [None, StandardScaler(), MinMaxScaler(), RobustScaler()],\n",
    "     'dim_reducer': [None],\n",
    "     'model': [LogisticRegression(penalty='l1', random_state=1, max_iter=10000, solver='liblinear')],\n",
    "     'model__C': c_values},\n",
    "    \n",
    "    # l2 (default) without PCA\n",
    "    {'scaler': [None, StandardScaler(), MinMaxScaler(), RobustScaler()],\n",
    "     'dim_reducer': [None],\n",
    "     'model': [LogisticRegression(solver='lbfgs', random_state=1, n_jobs=-1, max_iter=10000)],\n",
    "     'model__C': c_values}\n",
    "]\n",
    "\n",
    "    # Instantiate logistic regression with grid search\n",
    "    logreg_gs = GridSearchCV(my_pipeline, param_grid=log_reg_param_grid, cv=cv, n_jobs=-1, verbose=verbose, refit=True)\n",
    "\n",
    "    # Fit the logistic regression with grid search\n",
    "    fitted_logreg_gs = logreg_gs.fit(X_train, y_train)\n",
    "\n",
    "    # Accuracy of the model\n",
    "    accuracy_remainder = fitted_logreg_gs.score(X_train, y_train)\n",
    "    accuracy_test = fitted_logreg_gs.score(X_test, y_test)\n",
    "    print(\"Accuracies of the optimized model:\")\n",
    "    print(f\"The best logistic regression's accuracy on the training set: {accuracy_remainder}\")\n",
    "    print(f\"The best logistic regression's accuracy on the test set: {accuracy_test}\")\n",
    "\n",
    "    # Return the best estimator and accuracy scores\n",
    "    return {\n",
    "        'best_estimator': fitted_logreg_gs.best_estimator_,\n",
    "        'accuracy_train': accuracy_remainder,\n",
    "        'accuracy_test': accuracy_test,\n",
    "        'fitted_gs': fitted_logreg_gs\n",
    "    }"
   ]
  },
  {
   "cell_type": "markdown",
   "metadata": {},
   "source": [
    "### 4.3 Using unmodified dataset to train model"
   ]
  },
  {
   "cell_type": "code",
   "execution_count": 6,
   "metadata": {},
   "outputs": [
    {
     "name": "stdout",
     "output_type": "stream",
     "text": [
      "Fitting 5 folds for each of 56 candidates, totalling 280 fits\n"
     ]
    },
    {
     "name": "stdout",
     "output_type": "stream",
     "text": [
      "Accuracies of the optimized model:\n",
      "The best logistic regression's accuracy on the training set: 0.8488140289228274\n",
      "The best logistic regression's accuracy on the test set: 0.8464863870493009\n"
     ]
    }
   ],
   "source": [
    "# Fit unmodified dataset\n",
    "unmodified_results = log_reg_function(X_rem, y_rem, X_test, y_test)"
   ]
  },
  {
   "cell_type": "code",
   "execution_count": 7,
   "metadata": {},
   "outputs": [
    {
     "data": {
      "text/html": [
       "<style>#sk-container-id-1 {color: black;}#sk-container-id-1 pre{padding: 0;}#sk-container-id-1 div.sk-toggleable {background-color: white;}#sk-container-id-1 label.sk-toggleable__label {cursor: pointer;display: block;width: 100%;margin-bottom: 0;padding: 0.3em;box-sizing: border-box;text-align: center;}#sk-container-id-1 label.sk-toggleable__label-arrow:before {content: \"▸\";float: left;margin-right: 0.25em;color: #696969;}#sk-container-id-1 label.sk-toggleable__label-arrow:hover:before {color: black;}#sk-container-id-1 div.sk-estimator:hover label.sk-toggleable__label-arrow:before {color: black;}#sk-container-id-1 div.sk-toggleable__content {max-height: 0;max-width: 0;overflow: hidden;text-align: left;background-color: #f0f8ff;}#sk-container-id-1 div.sk-toggleable__content pre {margin: 0.2em;color: black;border-radius: 0.25em;background-color: #f0f8ff;}#sk-container-id-1 input.sk-toggleable__control:checked~div.sk-toggleable__content {max-height: 200px;max-width: 100%;overflow: auto;}#sk-container-id-1 input.sk-toggleable__control:checked~label.sk-toggleable__label-arrow:before {content: \"▾\";}#sk-container-id-1 div.sk-estimator input.sk-toggleable__control:checked~label.sk-toggleable__label {background-color: #d4ebff;}#sk-container-id-1 div.sk-label input.sk-toggleable__control:checked~label.sk-toggleable__label {background-color: #d4ebff;}#sk-container-id-1 input.sk-hidden--visually {border: 0;clip: rect(1px 1px 1px 1px);clip: rect(1px, 1px, 1px, 1px);height: 1px;margin: -1px;overflow: hidden;padding: 0;position: absolute;width: 1px;}#sk-container-id-1 div.sk-estimator {font-family: monospace;background-color: #f0f8ff;border: 1px dotted black;border-radius: 0.25em;box-sizing: border-box;margin-bottom: 0.5em;}#sk-container-id-1 div.sk-estimator:hover {background-color: #d4ebff;}#sk-container-id-1 div.sk-parallel-item::after {content: \"\";width: 100%;border-bottom: 1px solid gray;flex-grow: 1;}#sk-container-id-1 div.sk-label:hover label.sk-toggleable__label {background-color: #d4ebff;}#sk-container-id-1 div.sk-serial::before {content: \"\";position: absolute;border-left: 1px solid gray;box-sizing: border-box;top: 0;bottom: 0;left: 50%;z-index: 0;}#sk-container-id-1 div.sk-serial {display: flex;flex-direction: column;align-items: center;background-color: white;padding-right: 0.2em;padding-left: 0.2em;position: relative;}#sk-container-id-1 div.sk-item {position: relative;z-index: 1;}#sk-container-id-1 div.sk-parallel {display: flex;align-items: stretch;justify-content: center;background-color: white;position: relative;}#sk-container-id-1 div.sk-item::before, #sk-container-id-1 div.sk-parallel-item::before {content: \"\";position: absolute;border-left: 1px solid gray;box-sizing: border-box;top: 0;bottom: 0;left: 50%;z-index: -1;}#sk-container-id-1 div.sk-parallel-item {display: flex;flex-direction: column;z-index: 1;position: relative;background-color: white;}#sk-container-id-1 div.sk-parallel-item:first-child::after {align-self: flex-end;width: 50%;}#sk-container-id-1 div.sk-parallel-item:last-child::after {align-self: flex-start;width: 50%;}#sk-container-id-1 div.sk-parallel-item:only-child::after {width: 0;}#sk-container-id-1 div.sk-dashed-wrapped {border: 1px dashed gray;margin: 0 0.4em 0.5em 0.4em;box-sizing: border-box;padding-bottom: 0.4em;background-color: white;}#sk-container-id-1 div.sk-label label {font-family: monospace;font-weight: bold;display: inline-block;line-height: 1.2em;}#sk-container-id-1 div.sk-label-container {text-align: center;}#sk-container-id-1 div.sk-container {/* jupyter's `normalize.less` sets `[hidden] { display: none; }` but bootstrap.min.css set `[hidden] { display: none !important; }` so we also need the `!important` here to be able to override the default hidden behavior on the sphinx rendered scikit-learn.org. See: https://github.com/scikit-learn/scikit-learn/issues/21755 */display: inline-block !important;position: relative;}#sk-container-id-1 div.sk-text-repr-fallback {display: none;}</style><div id=\"sk-container-id-1\" class=\"sk-top-container\"><div class=\"sk-text-repr-fallback\"><pre>Pipeline(memory=&#x27;/var/folders/6c/0s0k1hv53xn7g3bpzkggst1r0000gn/T/tmppx5hwcu7&#x27;,\n",
       "         steps=[(&#x27;scaler&#x27;, StandardScaler()), (&#x27;dim_reducer&#x27;, None),\n",
       "                (&#x27;model&#x27;,\n",
       "                 LogisticRegression(C=0.001, max_iter=10000, n_jobs=-1,\n",
       "                                    random_state=1))])</pre><b>In a Jupyter environment, please rerun this cell to show the HTML representation or trust the notebook. <br />On GitHub, the HTML representation is unable to render, please try loading this page with nbviewer.org.</b></div><div class=\"sk-container\" hidden><div class=\"sk-item sk-dashed-wrapped\"><div class=\"sk-label-container\"><div class=\"sk-label sk-toggleable\"><input class=\"sk-toggleable__control sk-hidden--visually\" id=\"sk-estimator-id-1\" type=\"checkbox\" ><label for=\"sk-estimator-id-1\" class=\"sk-toggleable__label sk-toggleable__label-arrow\">Pipeline</label><div class=\"sk-toggleable__content\"><pre>Pipeline(memory=&#x27;/var/folders/6c/0s0k1hv53xn7g3bpzkggst1r0000gn/T/tmppx5hwcu7&#x27;,\n",
       "         steps=[(&#x27;scaler&#x27;, StandardScaler()), (&#x27;dim_reducer&#x27;, None),\n",
       "                (&#x27;model&#x27;,\n",
       "                 LogisticRegression(C=0.001, max_iter=10000, n_jobs=-1,\n",
       "                                    random_state=1))])</pre></div></div></div><div class=\"sk-serial\"><div class=\"sk-item\"><div class=\"sk-estimator sk-toggleable\"><input class=\"sk-toggleable__control sk-hidden--visually\" id=\"sk-estimator-id-2\" type=\"checkbox\" ><label for=\"sk-estimator-id-2\" class=\"sk-toggleable__label sk-toggleable__label-arrow\">StandardScaler</label><div class=\"sk-toggleable__content\"><pre>StandardScaler()</pre></div></div></div><div class=\"sk-item\"><div class=\"sk-estimator sk-toggleable\"><input class=\"sk-toggleable__control sk-hidden--visually\" id=\"sk-estimator-id-3\" type=\"checkbox\" ><label for=\"sk-estimator-id-3\" class=\"sk-toggleable__label sk-toggleable__label-arrow\">None</label><div class=\"sk-toggleable__content\"><pre>None</pre></div></div></div><div class=\"sk-item\"><div class=\"sk-estimator sk-toggleable\"><input class=\"sk-toggleable__control sk-hidden--visually\" id=\"sk-estimator-id-4\" type=\"checkbox\" ><label for=\"sk-estimator-id-4\" class=\"sk-toggleable__label sk-toggleable__label-arrow\">LogisticRegression</label><div class=\"sk-toggleable__content\"><pre>LogisticRegression(C=0.001, max_iter=10000, n_jobs=-1, random_state=1)</pre></div></div></div></div></div></div></div>"
      ],
      "text/plain": [
       "Pipeline(memory='/var/folders/6c/0s0k1hv53xn7g3bpzkggst1r0000gn/T/tmppx5hwcu7',\n",
       "         steps=[('scaler', StandardScaler()), ('dim_reducer', None),\n",
       "                ('model',\n",
       "                 LogisticRegression(C=0.001, max_iter=10000, n_jobs=-1,\n",
       "                                    random_state=1))])"
      ]
     },
     "execution_count": 7,
     "metadata": {},
     "output_type": "execute_result"
    }
   ],
   "source": [
    "unmodified_results['best_estimator']"
   ]
  },
  {
   "cell_type": "code",
   "execution_count": 14,
   "metadata": {},
   "outputs": [
    {
     "name": "stdout",
     "output_type": "stream",
     "text": [
      "[[0.70642926 0.29357074]]\n"
     ]
    }
   ],
   "source": [
    "# Test Code: The following code can be used to predict probabilities of a single row of the dataset, or the data of a single patient\n",
    "\n",
    "sample_df = X_test.iloc[[0]]\n",
    "proba_predicted = unmodified_results['best_estimator'].predict_proba(sample_df)\n",
    "print(proba_predicted)\n",
    "\n"
   ]
  },
  {
   "cell_type": "code",
   "execution_count": 86,
   "metadata": {},
   "outputs": [],
   "source": [
    "# Get coefficients and intercept from the model\n",
    "best_model = unmodified_results['best_estimator'].named_steps['model']\n",
    "coefficients = best_model.coef_.flatten()\n",
    "intercept = best_model.intercept_"
   ]
  },
  {
   "cell_type": "code",
   "execution_count": 89,
   "metadata": {},
   "outputs": [
    {
     "name": "stdout",
     "output_type": "stream",
     "text": [
      "                   Feature  Coefficient\n",
      "13    General_health_score     0.485058\n",
      "3                      BMI     0.394968\n",
      "17                     Age     0.356234\n",
      "0              Has_high_bp     0.348165\n",
      "1     Has_high_cholesterol     0.286996\n",
      "2      Checked_cholesterol     0.197975\n",
      "16                 Is_male     0.112081\n",
      "6        Has_heart_disease     0.065032\n",
      "15      Walking_difficulty     0.041832\n",
      "5               Had_stroke     0.021198\n",
      "11      Has_healthcare_cov     0.012940\n",
      "12    No_attention_bc_cost     0.012608\n",
      "4                Is_smoker    -0.003185\n",
      "9             Eats_veggies    -0.016259\n",
      "14  Mental_health_bad_days    -0.021505\n",
      "8              Eats_fruits    -0.021847\n",
      "7        Physical_activity    -0.021948\n",
      "18               Education    -0.052686\n",
      "19                  Income    -0.112485\n",
      "10           Heavy_drinker    -0.137798\n"
     ]
    }
   ],
   "source": [
    "# Get names of columns \n",
    "feature_names = X_rem.columns \n",
    "\n",
    "# Create dataframe with features and their coefficient values\n",
    "features_df = pd.DataFrame({'Feature': feature_names, 'Coefficient': coefficients})\n",
    "\n",
    "# Sort rows based on the coefficient value\n",
    "sorted_features_df = features_df.sort_values(by='Coefficient', ascending=False)\n",
    "\n",
    "# Display the DataFrame\n",
    "print(sorted_features_df)"
   ]
  },
  {
   "cell_type": "code",
   "execution_count": 90,
   "metadata": {},
   "outputs": [
    {
     "name": "stdout",
     "output_type": "stream",
     "text": [
      "Top 5 coefficients with the lowest values and top 5 with the highest values are:\n",
      "                 Feature  Coefficient\n",
      "13  General_health_score     0.485058\n",
      "3                    BMI     0.394968\n",
      "17                   Age     0.356234\n",
      "0            Has_high_bp     0.348165\n",
      "1   Has_high_cholesterol     0.286996\n",
      "8            Eats_fruits    -0.021847\n",
      "7      Physical_activity    -0.021948\n",
      "18             Education    -0.052686\n",
      "19                Income    -0.112485\n",
      "10         Heavy_drinker    -0.137798\n"
     ]
    }
   ],
   "source": [
    "# Get the top and bottom coefficients\n",
    "low_5_coef = sorted_features_df.head(5)\n",
    "high_5_coef = sorted_features_df.tail(5)\n",
    "\n",
    "# Join them\n",
    "combined_coef = pd.concat([low_5_coef, high_5_coef])\n",
    "\n",
    "# Display results\n",
    "print(\"Top 5 coefficients with the lowest values and top 5 with the highest values are:\")\n",
    "print(combined_coef)"
   ]
  },
  {
   "cell_type": "code",
   "execution_count": 91,
   "metadata": {},
   "outputs": [
    {
     "data": {
      "image/png": "[encoded data removed]",
      "text/plain": [
       "<Figure size 1000x500 with 1 Axes>"
      ]
     },
     "metadata": {},
     "output_type": "display_data"
    }
   ],
   "source": [
    "# Create a visualisation:\n",
    "# Assign colors based on 'Coefficient' values\n",
    "colors = ['green' if x < 0 else 'red' for x in combined_coef['Coefficient']]\n",
    "\n",
    "# Create barh plot\n",
    "plt.figure(figsize=(10, 5))\n",
    "plt.barh(combined_coef['Feature'], combined_coef['Coefficient'], color=colors)\n",
    "plt.xlabel('Coefficient')\n",
    "plt.title('Top 5 coefficients with the lowest values and top 5 with the highest values are:')\n",
    "\n",
    "# Add the values to the bars\n",
    "for index, value in enumerate(combined_coef['Coefficient']):\n",
    "    if value < 0:\n",
    "        plt.text(value, index, f'{value:.2f}', va='center', ha='right', color='white')\n",
    "    else:\n",
    "        plt.text(value, index, f'{value:.2f}', va='center', ha='left', color='white')\n",
    "\n",
    "# Show the plot\n",
    "plt.show()"
   ]
  },
  {
   "cell_type": "markdown",
   "metadata": {},
   "source": [
    "### 4.4 Model evaluation (unmodified)"
   ]
  },
  {
   "cell_type": "code",
   "execution_count": 78,
   "metadata": {},
   "outputs": [
    {
     "data": {
      "text/html": [
       "<div>\n",
       "<style scoped>\n",
       "    .dataframe tbody tr th:only-of-type {\n",
       "        vertical-align: middle;\n",
       "    }\n",
       "\n",
       "    .dataframe tbody tr th {\n",
       "        vertical-align: top;\n",
       "    }\n",
       "\n",
       "    .dataframe thead th {\n",
       "        text-align: right;\n",
       "    }\n",
       "</style>\n",
       "<table border=\"1\" class=\"dataframe\">\n",
       "  <thead>\n",
       "    <tr style=\"text-align: right;\">\n",
       "      <th></th>\n",
       "      <th>Predicted Negative Review</th>\n",
       "      <th>Predicted Positive Review</th>\n",
       "    </tr>\n",
       "  </thead>\n",
       "  <tbody>\n",
       "    <tr>\n",
       "      <th>True Negative Review</th>\n",
       "      <td>62383</td>\n",
       "      <td>1728</td>\n",
       "    </tr>\n",
       "    <tr>\n",
       "      <th>True Positive Review</th>\n",
       "      <td>9968</td>\n",
       "      <td>2025</td>\n",
       "    </tr>\n",
       "  </tbody>\n",
       "</table>\n",
       "</div>"
      ],
      "text/plain": [
       "                      Predicted Negative Review  Predicted Positive Review\n",
       "True Negative Review                      62383                       1728\n",
       "True Positive Review                       9968                       2025"
      ]
     },
     "metadata": {},
     "output_type": "display_data"
    }
   ],
   "source": [
    "# Create confusion matrix for logistic regression\n",
    "\n",
    "# Get class predictions\n",
    "y_pred = unmodified_results['best_estimator'].predict(X_test)\n",
    "\n",
    "# Generate confusion matrix\n",
    "cf_matrix = confusion_matrix(y_test, y_pred)\n",
    "\n",
    "# label rows and columns\n",
    "cf_df = pd.DataFrame(\n",
    "    cf_matrix, \n",
    "    columns=[\"Predicted Negative Diagnosis\", \"Predicted Positive Diagnosis\"],\n",
    "    index=[\"True Negative Diagnosis\", \"True Positive Diagnosis\"]\n",
    ")\n",
    "\n",
    "display(cf_df)"
   ]
  },
  {
   "cell_type": "code",
   "execution_count": 93,
   "metadata": {},
   "outputs": [
    {
     "data": {
      "image/png": "[encoded data removed]",
      "text/plain": [
       "<Figure size 640x480 with 2 Axes>"
      ]
     },
     "metadata": {},
     "output_type": "display_data"
    }
   ],
   "source": [
    "# Create visualisation of confusion matrix\n",
    "ConfusionMatrixDisplay.from_estimator(unmodified_results['best_estimator'], X_test, y_test);"
   ]
  },
  {
   "cell_type": "markdown",
   "metadata": {},
   "source": [
    "Interpretation:\n",
    "\n",
    "    The results of the confusion matrix are as follows:\n",
    "\n",
    "    True Negative:  62,372\n",
    "\n",
    "    False Positive: 1,739\n",
    "\n",
    "    False Negative: 9,944\n",
    "\n",
    "    True Positive:  2.049"
   ]
  },
  {
   "cell_type": "code",
   "execution_count": 94,
   "metadata": {},
   "outputs": [
    {
     "name": "stdout",
     "output_type": "stream",
     "text": [
      "              precision    recall  f1-score   support\n",
      "\n",
      "           0       0.86      0.97      0.91     64111\n",
      "           1       0.54      0.17      0.26     11993\n",
      "\n",
      "    accuracy                           0.85     76104\n",
      "   macro avg       0.70      0.57      0.59     76104\n",
      "weighted avg       0.81      0.85      0.81     76104\n",
      "\n"
     ]
    }
   ],
   "source": [
    "# Classification Report\n",
    "report_initial = classification_report(y_test, y_pred)\n",
    "print(report_initial)"
   ]
  },
  {
   "cell_type": "markdown",
   "metadata": {},
   "source": [
    "Looking at the errors:\n",
    "\n",
    "For 0: \n",
    "- The precision of 0.86 means that 14% of the predicitons as not having diabetes were in fact positive.\n",
    "- The recall of 0.97 means that 3% of the negative diagnosis were missed by the model as they were classified as being positive\n",
    "\n",
    "For 1: \n",
    "- The precision of 0.54 means that 46% of the predicitons as having diabetes were in fact negative \n",
    "- The recall of 0.17 indicates that 83% of the diagnosis that were positive  were missed by the model and were classified as being negative for diabetes\n",
    "\n",
    "\n",
    "\n",
    "The model shows a very low F1 score of 0.26, indicating that the balance between recall and precision across the various classes could be improved. \n",
    "\n",
    "To improve the model's performance, it is recommended to closely examine instances where the sentiment was incorrectly predicted. \n",
    "\n",
    "Analysing these examples can help identify if there are specific health indicators that were mistakenly omitted, which could lead to more accurate predictions in the future."
   ]
  },
  {
   "cell_type": "markdown",
   "metadata": {},
   "source": [
    "### 4.5 Using oversampled dataset to train model"
   ]
  },
  {
   "cell_type": "code",
   "execution_count": 96,
   "metadata": {},
   "outputs": [
    {
     "name": "stdout",
     "output_type": "stream",
     "text": [
      "Fitting 5 folds for each of 56 candidates, totalling 280 fits\n"
     ]
    },
    {
     "name": "stdout",
     "output_type": "stream",
     "text": [
      "Accuracies of the optimized model:\n",
      "The best logistic regression's accuracy on the training set: 0.7599671105406707\n",
      "The best logistic regression's accuracy on the test set: 0.7260853568800588\n"
     ]
    }
   ],
   "source": [
    "# Fit oversampled dataset\n",
    "oversampled_results = log_reg_function(X_rem_os, y_rem_os, X_test, y_test)"
   ]
  },
  {
   "cell_type": "code",
   "execution_count": 97,
   "metadata": {},
   "outputs": [],
   "source": [
    "# Get coefficients and intercept from the model\n",
    "best_model = oversampled_results['best_estimator'].named_steps['model']\n",
    "coefficients = best_model.coef_.flatten()\n",
    "intercept = best_model.intercept_"
   ]
  },
  {
   "cell_type": "code",
   "execution_count": 98,
   "metadata": {},
   "outputs": [
    {
     "name": "stdout",
     "output_type": "stream",
     "text": [
      "                   Feature  Coefficient\n",
      "13    General_health_score     0.678084\n",
      "17                     Age     0.547464\n",
      "3                      BMI     0.514376\n",
      "0              Has_high_bp     0.346835\n",
      "2      Checked_cholesterol     0.294738\n",
      "1     Has_high_cholesterol     0.285374\n",
      "11      Has_healthcare_cov     0.110914\n",
      "16                 Is_male     0.094673\n",
      "4                Is_smoker     0.001360\n",
      "15      Walking_difficulty     0.000000\n",
      "18               Education     0.000000\n",
      "6        Has_heart_disease     0.000000\n",
      "7        Physical_activity     0.000000\n",
      "9             Eats_veggies     0.000000\n",
      "14  Mental_health_bad_days     0.000000\n",
      "19                  Income    -0.021305\n",
      "8              Eats_fruits    -0.024893\n",
      "12    No_attention_bc_cost    -0.050112\n",
      "5               Had_stroke    -0.082603\n",
      "10           Heavy_drinker    -0.296668\n"
     ]
    }
   ],
   "source": [
    "# Get names of columns \n",
    "feature_names = X_rem_os.columns \n",
    "\n",
    "# Create dataframe with features and their coefficient values\n",
    "features_df = pd.DataFrame({'Feature': feature_names, 'Coefficient': coefficients})\n",
    "\n",
    "# Sort rows based on the coefficient value\n",
    "sorted_features_df = features_df.sort_values(by='Coefficient', ascending=False)\n",
    "\n",
    "# Display the DataFrame\n",
    "print(sorted_features_df)"
   ]
  },
  {
   "cell_type": "code",
   "execution_count": 99,
   "metadata": {},
   "outputs": [
    {
     "name": "stdout",
     "output_type": "stream",
     "text": [
      "Top 5 coefficients with the lowest values and top 5 with the highest values are:\n",
      "                 Feature  Coefficient\n",
      "13  General_health_score     0.678084\n",
      "17                   Age     0.547464\n",
      "3                    BMI     0.514376\n",
      "0            Has_high_bp     0.346835\n",
      "2    Checked_cholesterol     0.294738\n",
      "19                Income    -0.021305\n",
      "8            Eats_fruits    -0.024893\n",
      "12  No_attention_bc_cost    -0.050112\n",
      "5             Had_stroke    -0.082603\n",
      "10         Heavy_drinker    -0.296668\n"
     ]
    }
   ],
   "source": [
    "# Get the top and bottom coefficients\n",
    "low_5_coef = sorted_features_df.head(5)\n",
    "high_5_coef = sorted_features_df.tail(5)\n",
    "\n",
    "# Join them\n",
    "combined_coef = pd.concat([low_5_coef, high_5_coef])\n",
    "\n",
    "# Display results\n",
    "print(\"Top 5 coefficients with the lowest values and top 5 with the highest values are:\")\n",
    "print(combined_coef)"
   ]
  },
  {
   "cell_type": "code",
   "execution_count": 100,
   "metadata": {},
   "outputs": [
    {
     "data": {
      "image/png": "[encoded data removed]",
      "text/plain": [
       "<Figure size 1000x500 with 1 Axes>"
      ]
     },
     "metadata": {},
     "output_type": "display_data"
    }
   ],
   "source": [
    "# Create a visualisation:\n",
    "# Assign colors based on 'Coefficient' values\n",
    "colors = ['green' if x < 0 else 'red' for x in combined_coef['Coefficient']]\n",
    "\n",
    "# Create barh plot\n",
    "plt.figure(figsize=(10, 5))\n",
    "plt.barh(combined_coef['Feature'], combined_coef['Coefficient'], color=colors)\n",
    "plt.xlabel('Coefficient')\n",
    "plt.title('Top 5 coefficients with the lowest values and top 5 with the highest values are:')\n",
    "\n",
    "# Add the values to the bars\n",
    "for index, value in enumerate(combined_coef['Coefficient']):\n",
    "    if value < 0:\n",
    "        plt.text(value, index, f'{value:.2f}', va='center', ha='right', color='white')\n",
    "    else:\n",
    "        plt.text(value, index, f'{value:.2f}', va='center', ha='left', color='white')\n",
    "\n",
    "# Show the plot\n",
    "plt.show()"
   ]
  },
  {
   "cell_type": "markdown",
   "metadata": {},
   "source": [
    "### 4.6 Model evaluation (oversampled)"
   ]
  },
  {
   "cell_type": "code",
   "execution_count": 105,
   "metadata": {},
   "outputs": [
    {
     "data": {
      "text/html": [
       "<div>\n",
       "<style scoped>\n",
       "    .dataframe tbody tr th:only-of-type {\n",
       "        vertical-align: middle;\n",
       "    }\n",
       "\n",
       "    .dataframe tbody tr th {\n",
       "        vertical-align: top;\n",
       "    }\n",
       "\n",
       "    .dataframe thead th {\n",
       "        text-align: right;\n",
       "    }\n",
       "</style>\n",
       "<table border=\"1\" class=\"dataframe\">\n",
       "  <thead>\n",
       "    <tr style=\"text-align: right;\">\n",
       "      <th></th>\n",
       "      <th>Predicted Negative Review</th>\n",
       "      <th>Predicted Positive Review</th>\n",
       "    </tr>\n",
       "  </thead>\n",
       "  <tbody>\n",
       "    <tr>\n",
       "      <th>True Negative Review</th>\n",
       "      <td>46359</td>\n",
       "      <td>17752</td>\n",
       "    </tr>\n",
       "    <tr>\n",
       "      <th>True Positive Review</th>\n",
       "      <td>3094</td>\n",
       "      <td>8899</td>\n",
       "    </tr>\n",
       "  </tbody>\n",
       "</table>\n",
       "</div>"
      ],
      "text/plain": [
       "                      Predicted Negative Review  Predicted Positive Review\n",
       "True Negative Review                      46359                      17752\n",
       "True Positive Review                       3094                       8899"
      ]
     },
     "metadata": {},
     "output_type": "display_data"
    }
   ],
   "source": [
    "# Create confusion matrix for logistic regression\n",
    "\n",
    "# Get class predictions\n",
    "y_pred = oversampled_results['best_estimator'].predict(X_test)\n",
    "\n",
    "# Generate confusion matrix\n",
    "cf_matrix = confusion_matrix(y_test, y_pred)\n",
    "\n",
    "# label rows and columns\n",
    "cf_df = pd.DataFrame(\n",
    "    cf_matrix, \n",
    "    columns=[\"Predicted Negative Diagnosis\", \"Predicted Positive Diagnosis\"],\n",
    "    index=[\"True Negative Diagnosis\", \"True Positive Diagnosis\"]\n",
    ")\n",
    "\n",
    "display(cf_df)"
   ]
  },
  {
   "cell_type": "code",
   "execution_count": 106,
   "metadata": {},
   "outputs": [
    {
     "data": {
      "image/png": "[encoded data removed]",
      "text/plain": [
       "<Figure size 640x480 with 2 Axes>"
      ]
     },
     "metadata": {},
     "output_type": "display_data"
    }
   ],
   "source": [
    "# Create visualisation of confusion matrix\n",
    "ConfusionMatrixDisplay.from_estimator(unmodified_results['best_estimator'], X_test, y_test);"
   ]
  },
  {
   "cell_type": "markdown",
   "metadata": {},
   "source": [
    "Interpretation:\n",
    "\n",
    "    The results of the confusion matrix are as follows:\n",
    "\n",
    "    True Negative:  62,372\n",
    "\n",
    "    False Positive: 1,739\n",
    "\n",
    "    False Negative: 9,944\n",
    "\n",
    "    True Positive:  2,049    "
   ]
  },
  {
   "cell_type": "code",
   "execution_count": 107,
   "metadata": {},
   "outputs": [
    {
     "name": "stdout",
     "output_type": "stream",
     "text": [
      "              precision    recall  f1-score   support\n",
      "\n",
      "           0       0.94      0.72      0.82     64111\n",
      "           1       0.33      0.74      0.46     11993\n",
      "\n",
      "    accuracy                           0.73     76104\n",
      "   macro avg       0.64      0.73      0.64     76104\n",
      "weighted avg       0.84      0.73      0.76     76104\n",
      "\n"
     ]
    }
   ],
   "source": [
    "# Classification Report\n",
    "report_initial = classification_report(y_test, y_pred)\n",
    "print(report_initial)"
   ]
  },
  {
   "cell_type": "markdown",
   "metadata": {},
   "source": [
    "### Observations:"
   ]
  },
  {
   "cell_type": "markdown",
   "metadata": {},
   "source": [
    "Looking at the errors:\n",
    "\n",
    "For 0: \n",
    "- The precision of 0.94 means that 6% of the predicitons as not having diabetes were in fact positive.\n",
    "- The recall of 0.72 means that 28% of the negative diagnosis were missed by the model as they were classified as being positive\n",
    "\n",
    "For 1: \n",
    "- The precision of 0.33 means that 67% of the predicitons as having diabetes were in fact negative \n",
    "- The recall of 0.74 indicates that 26% of the diagnosis that were positive  were missed by the model and were classified as being negative for diabetes\n",
    "\n",
    "\n",
    "\n",
    "The model shows a low F1 score of 0.46, indicating that the balance between recall and precision across the various classes could be improved. \n",
    "\n",
    "To improve the model's performance, it is recommended to closely examine instances where the sentiment was incorrectly predicted. \n",
    "\n",
    "Analysing these examples can help identify if there are specific health indicators that were mistakenly omitted, which could lead to more accurate predictions in the future."
   ]
  }
 ],
 "metadata": {
  "kernelspec": {
   "display_name": "diego_capstone",
   "language": "python",
   "name": "python3"
  },
  "language_info": {
   "codemirror_mode": {
    "name": "ipython",
    "version": 3
   },
   "file_extension": ".py",
   "mimetype": "text/x-python",
   "name": "python",
   "nbconvert_exporter": "python",
   "pygments_lexer": "ipython3",
   "version": "3.8.18"
  }
 },
 "nbformat": 4,
 "nbformat_minor": 2
}
