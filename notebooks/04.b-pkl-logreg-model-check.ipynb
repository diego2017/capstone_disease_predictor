{
 "cells": [
  {
   "cell_type": "markdown",
   "metadata": {},
   "source": [
    "This model is only used to test that the saved model works by using test data"
   ]
  },
  {
   "cell_type": "code",
   "execution_count": 2,
   "metadata": {},
   "outputs": [],
   "source": [
    "# data manipulation\n",
    "import numpy as np\n",
    "import pandas as pd\n",
    "\n",
    "# plotting\n",
    "import matplotlib.pyplot as plt\n",
    "import seaborn as sns\n",
    "\n",
    "# modelling\n",
    "from sklearn.linear_model import LogisticRegression\n",
    "import statsmodels.api as sm\n",
    "from sklearn.metrics import confusion_matrix, ConfusionMatrixDisplay\n",
    "from sklearn.metrics import classification_report\n",
    "\n",
    "# Scaling data\n",
    "from sklearn.preprocessing import StandardScaler\n",
    "from sklearn.preprocessing import MinMaxScaler\n",
    "from sklearn.preprocessing import RobustScaler\n",
    "\n",
    "# PCA\n",
    "from sklearn.decomposition import PCA\n",
    "\n",
    "# File saving\n",
    "import joblib \n",
    "import pickle\n",
    "\n",
    "# Temporary directories for caching\n",
    "from tempfile import mkdtemp\n",
    "\n",
    "# Cross-validation\n",
    "from sklearn.model_selection import cross_val_score\n",
    "\n",
    "# Pipeline building\n",
    "from sklearn.pipeline import Pipeline\n",
    "\n",
    "# Grid search\n",
    "from sklearn.model_selection import GridSearchCV"
   ]
  },
  {
   "cell_type": "code",
   "execution_count": 3,
   "metadata": {},
   "outputs": [],
   "source": [
    "# Load data files\n",
    "X_test = joblib.load(\"../data/Preprocessed_data/X_test.pkl\") # not scaled dataset\n",
    "y_test = joblib.load(\"../data/Preprocessed_data/y_test.pkl\") #unmodified dataset"
   ]
  },
  {
   "cell_type": "code",
   "execution_count": 6,
   "metadata": {},
   "outputs": [],
   "source": [
    "# Load model\n",
    "pickled_pipe = pickle.load(open('../model/log-reg-best-model.pkl', 'rb'))"
   ]
  },
  {
   "cell_type": "code",
   "execution_count": 7,
   "metadata": {},
   "outputs": [
    {
     "name": "stdout",
     "output_type": "stream",
     "text": [
      "[[0.2657282 0.7342718]]\n"
     ]
    }
   ],
   "source": [
    "# Test Code: The following code can be used to predict probabilities of a single row of the dataset, or the data of a single patient\n",
    "\n",
    "sample_df = X_test.iloc[[0]]\n",
    "proba_predicted = pickled_pipe.predict_proba(sample_df)\n",
    "print(proba_predicted)"
   ]
  },
  {
   "cell_type": "code",
   "execution_count": 8,
   "metadata": {},
   "outputs": [
    {
     "data": {
      "text/html": [
       "<div>\n",
       "<style scoped>\n",
       "    .dataframe tbody tr th:only-of-type {\n",
       "        vertical-align: middle;\n",
       "    }\n",
       "\n",
       "    .dataframe tbody tr th {\n",
       "        vertical-align: top;\n",
       "    }\n",
       "\n",
       "    .dataframe thead th {\n",
       "        text-align: right;\n",
       "    }\n",
       "</style>\n",
       "<table border=\"1\" class=\"dataframe\">\n",
       "  <thead>\n",
       "    <tr style=\"text-align: right;\">\n",
       "      <th></th>\n",
       "      <th>Has_high_bp</th>\n",
       "      <th>Has_high_cholesterol</th>\n",
       "      <th>Checked_cholesterol</th>\n",
       "      <th>BMI</th>\n",
       "      <th>Is_smoker</th>\n",
       "      <th>Had_stroke</th>\n",
       "      <th>Has_heart_disease</th>\n",
       "      <th>Physical_activity</th>\n",
       "      <th>Eats_fruits</th>\n",
       "      <th>Eats_veggies</th>\n",
       "      <th>Heavy_drinker</th>\n",
       "      <th>Has_healthcare_cov</th>\n",
       "      <th>No_attention_bc_cost</th>\n",
       "      <th>General_health_score</th>\n",
       "      <th>Mental_health_bad_days</th>\n",
       "      <th>Walking_difficulty</th>\n",
       "      <th>Is_male</th>\n",
       "      <th>Age</th>\n",
       "      <th>Education</th>\n",
       "      <th>Income</th>\n",
       "    </tr>\n",
       "  </thead>\n",
       "  <tbody>\n",
       "    <tr>\n",
       "      <th>156386</th>\n",
       "      <td>1.0</td>\n",
       "      <td>1.0</td>\n",
       "      <td>1.0</td>\n",
       "      <td>22.0</td>\n",
       "      <td>1.0</td>\n",
       "      <td>0.0</td>\n",
       "      <td>0.0</td>\n",
       "      <td>1.0</td>\n",
       "      <td>0.0</td>\n",
       "      <td>0.0</td>\n",
       "      <td>0.0</td>\n",
       "      <td>1.0</td>\n",
       "      <td>0.0</td>\n",
       "      <td>4.0</td>\n",
       "      <td>0.0</td>\n",
       "      <td>0.0</td>\n",
       "      <td>1.0</td>\n",
       "      <td>9.0</td>\n",
       "      <td>5.0</td>\n",
       "      <td>7.0</td>\n",
       "    </tr>\n",
       "  </tbody>\n",
       "</table>\n",
       "</div>"
      ],
      "text/plain": [
       "        Has_high_bp  Has_high_cholesterol  Checked_cholesterol   BMI  \\\n",
       "156386          1.0                   1.0                  1.0  22.0   \n",
       "\n",
       "        Is_smoker  Had_stroke  Has_heart_disease  Physical_activity  \\\n",
       "156386        1.0         0.0                0.0                1.0   \n",
       "\n",
       "        Eats_fruits  Eats_veggies  Heavy_drinker  Has_healthcare_cov  \\\n",
       "156386          0.0           0.0            0.0                 1.0   \n",
       "\n",
       "        No_attention_bc_cost  General_health_score  Mental_health_bad_days  \\\n",
       "156386                   0.0                   4.0                     0.0   \n",
       "\n",
       "        Walking_difficulty  Is_male  Age  Education  Income  \n",
       "156386                 0.0      1.0  9.0        5.0     7.0  "
      ]
     },
     "execution_count": 8,
     "metadata": {},
     "output_type": "execute_result"
    }
   ],
   "source": [
    "# Showing health indicators  \n",
    "X_test.iloc[[0]]"
   ]
  },
  {
   "cell_type": "code",
   "execution_count": 11,
   "metadata": {},
   "outputs": [
    {
     "data": {
      "text/plain": [
       "pandas.core.frame.DataFrame"
      ]
     },
     "execution_count": 11,
     "metadata": {},
     "output_type": "execute_result"
    }
   ],
   "source": []
  }
 ],
 "metadata": {
  "kernelspec": {
   "display_name": "diego_capstone",
   "language": "python",
   "name": "python3"
  },
  "language_info": {
   "codemirror_mode": {
    "name": "ipython",
    "version": 3
   },
   "file_extension": ".py",
   "mimetype": "text/x-python",
   "name": "python",
   "nbconvert_exporter": "python",
   "pygments_lexer": "ipython3",
   "version": "3.8.18"
  }
 },
 "nbformat": 4,
 "nbformat_minor": 2
}
