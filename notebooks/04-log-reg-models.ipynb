{
 "cells": [
  {
   "cell_type": "markdown",
   "metadata": {},
   "source": [
    "<div id=\"container\" style=\"position:relative;\">\n",
    "<div style=\"float:left\"><h1> Capstone Project: Diabetes risk predictor based on health indicators</h1></div>\n",
    "<div style=\"float:left\"><h2> Notebook 4: # Modelling - Logistics Regression models</h2></div>\n",
    "<div style=\"float:left\"><h2> Created by Diego Villanueva</h2></div>\n",
    "</div>\n",
    "</div>"
   ]
  },
  {
   "cell_type": "markdown",
   "metadata": {},
   "source": [
    "This notebook includes  logistc models that use unmodified and oversampled training datasets."
   ]
  },
  {
   "cell_type": "markdown",
   "metadata": {},
   "source": [
    "## Table of contents\n",
    "\n",
    "4a. Modelling (Logistics Regression)\n",
    "\n",
    "        4a.1 Load data files\n",
    "\n",
    "        4a.2 "
   ]
  },
  {
   "cell_type": "markdown",
   "metadata": {},
   "source": [
    "### Imports"
   ]
  },
  {
   "cell_type": "code",
   "execution_count": null,
   "metadata": {
    "vscode": {
     "languageId": "plaintext"
    }
   },
   "outputs": [],
   "source": [
    "# data manipulation\n",
    "import numpy as np\n",
    "import pandas as pd\n",
    "\n",
    "# plotting\n",
    "import matplotlib.pyplot as plt\n",
    "import seaborn as sns\n",
    "\n",
    "# modelling\n",
    "from sklearn.linear_model import LogisticRegression\n",
    "import statsmodels.api as sm\n",
    "from sklearn.metrics import confusion_matrix, ConfusionMatrixDisplay\n",
    "from sklearn.metrics import classification_report\n",
    "\n",
    "# Scaling data\n",
    "from sklearn.preprocessing import StandardScaler\n",
    "from sklearn.preprocessing import MinMaxScaler\n",
    "from sklearn.preprocessing import RobustScaler\n",
    "\n",
    "# PCA\n",
    "from sklearn.decomposition import PCA\n",
    "\n",
    "# File saving\n",
    "import joblib \n",
    "\n",
    "# Temporary directories for caching\n",
    "from tempfile import mkdtemp\n",
    "\n",
    "# Cross-validation\n",
    "from sklearn.model_selection import cross_val_score\n",
    "\n",
    "# Pipeline building\n",
    "from sklearn.pipeline import Pipeline\n",
    "\n",
    "# Grid search\n",
    "from sklearn.model_selection import GridSearchCV"
   ]
  },
  {
   "cell_type": "markdown",
   "metadata": {},
   "source": [
    "### 4a.1 Load data files"
   ]
  },
  {
   "cell_type": "code",
   "execution_count": null,
   "metadata": {
    "vscode": {
     "languageId": "plaintext"
    }
   },
   "outputs": [],
   "source": [
    "X_rem = joblib.load(\"../data/Preprocessed_data/X_rem.pkl\") # Unmodified dataset\n",
    "y_rem = joblib.load(\"../data/Preprocessed_data/y_rem.pkl\") # Unmodified dataset\n",
    "\n",
    "X_rem_os = joblib.load(\"../data/Preprocessed_data/X_rem_oversampled\") # Over sampled dataset\n",
    "y_rem_os = joblib.load(\"../data/Preprocessed_data/y_rem_oversampled\") # Over sampled dataset\n",
    "\n",
    "X_test = joblib.load(\"../data/Preprocessed_data/X_test.pkl\") # not scaled dataset\n",
    "y_test = joblib.load(\"../data/Preprocessed_data/y_test.pkl\") #unmodified dataset"
   ]
  },
  {
   "cell_type": "markdown",
   "metadata": {},
   "source": [
    "### 4a.2 Function that will get different datasets as inputs and run the logistic regression"
   ]
  },
  {
   "cell_type": "code",
   "execution_count": null,
   "metadata": {
    "vscode": {
     "languageId": "plaintext"
    }
   },
   "outputs": [],
   "source": [
    "def log_reg(X_train, y_train, X_test, y_test, c_values=None, cv=5, verbose=1, random_state=1):\n",
    "    \"\"\"\n",
    "    Fits a logistic regression model using grid search with cross-validation.\n",
    "\n",
    "    :param X_train: Training data (features)\n",
    "    :param y_train: Training data (target variable)\n",
    "    :param X_test: Test data (features)\n",
    "    :param y_test: Test data (target variable)\n",
    "    :param c_values: List of C values to try in grid search. Default is a predefined range.\n",
    "    :param cv: Number of cross-validation folds. Default is 5.\n",
    "    :param verbose: Verbosity level for grid search. Default is 1.\n",
    "    :param random_state: Random state for reproducibility. Default is 1.\n",
    "    :return: Dictionary containing the best estimator and accuracy scores.\n",
    "    \"\"\"\n",
    "\n",
    "    # Create a directory that will be used to cache the pipeline results\n",
    "    cachedir = mkdtemp()\n",
    "\n",
    "    # C values that will be used if no attribute provided\n",
    "    if c_values is None:\n",
    "        c_values = [.0001, .001, .1, 1, 10, 100, 1000]\n",
    "\n",
    "    # Setup Pipeline\n",
    "    my_pipeline = Pipeline([('scaler', StandardScaler()), \n",
    "                            ('dim_reducer', PCA()), \n",
    "                            ('model', LogisticRegression())], \n",
    "                            memory=cachedir)\n",
    "\n",
    "    # Parameter grid\n",
    "    log_reg_param_grid = [\n",
    "\n",
    "    # l1 without PCA\n",
    "    {'scaler': [None, StandardScaler(), MinMaxScaler(), RobustScaler()],\n",
    "     'dim_reducer': [None],\n",
    "     'model': [LogisticRegression(penalty='l1', random_state=1, n_jobs=-1, max_iter=10000)],\n",
    "     'model__C': c_values},\n",
    "    \n",
    "    # l1 with PCA\n",
    "    {'scaler': [StandardScaler(), MinMaxScaler(), RobustScaler()],\n",
    "     'dim_reducer': [PCA()],\n",
    "     'dim_reducer__n_components': [0.95, 0.9, 0.85, 0.8],\n",
    "     'model': [LogisticRegression(penalty='l1', random_state=1, n_jobs=-1, max_iter=10000)],\n",
    "     'model__C': c_values},\n",
    "    \n",
    "    # l2 (default) without PCA\n",
    "    {'scaler': [None, StandardScaler(), MinMaxScaler(), RobustScaler()],\n",
    "     'dim_reducer': [None],\n",
    "     'model': [LogisticRegression(solver='lbfgs', random_state=1, n_jobs=-1, max_iter=10000)],\n",
    "     'model__C': c_values},\n",
    "    \n",
    "    # l2 (default) with PCA\n",
    "    {'scaler': [StandardScaler(), MinMaxScaler(), RobustScaler()],\n",
    "     'dim_reducer': [PCA()],\n",
    "     'dim_reducer__n_components': [0.95, 0.9, 0.85, 0.8],\n",
    "     'model': [LogisticRegression(solver='lbfgs', random_state=1, n_jobs=-1, max_iter=10000)],\n",
    "     'model__C': c_values}\n",
    "]\n",
    "\n",
    "    # Instantiate logistic regression with grid search\n",
    "    logreg_gs = GridSearchCV(my_pipeline, param_grid=log_reg_param_grid, cv=cv, n_jobs=-1, verbose=verbose)\n",
    "\n",
    "    # Fit the logistic regression with grid search\n",
    "    fitted_logreg_gs = logreg_gs.fit(X_train, y_train)\n",
    "\n",
    "    # Accuracy of the optimized model\n",
    "    accuracy_remainder = fitted_logreg_gs.score(X_train, y_train)\n",
    "    accuracy_test = fitted_logreg_gs.score(X_test, y_test)\n",
    "    print(\"Accuracies of the optimized model:\")\n",
    "    print(f\"The best logistic regression's accuracy on the training set: {accuracy_remainder}\")\n",
    "    print(f\"The best logistic regression's accuracy on the test set: {accuracy_test}\")\n",
    "\n",
    "    # Return the best estimator and accuracy scores\n",
    "    return {\n",
    "        'best_estimator': fitted_logreg_gs.best_estimator_,\n",
    "        'accuracy_train': accuracy_remainder,\n",
    "        'accuracy_test': accuracy_test\n",
    "    }"
   ]
  },
  {
   "cell_type": "code",
   "execution_count": null,
   "metadata": {
    "vscode": {
     "languageId": "plaintext"
    }
   },
   "outputs": [],
   "source": [
    "# Example usage:\n",
    "# results = fit_logistic_regression(X_train, y_train, X_test, y_test)"
   ]
  },
  {
   "cell_type": "code",
   "execution_count": null,
   "metadata": {
    "vscode": {
     "languageId": "plaintext"
    }
   },
   "outputs": [],
   "source": []
  },
  {
   "cell_type": "code",
   "execution_count": null,
   "metadata": {
    "vscode": {
     "languageId": "plaintext"
    }
   },
   "outputs": [],
   "source": []
  },
  {
   "cell_type": "code",
   "execution_count": null,
   "metadata": {
    "vscode": {
     "languageId": "plaintext"
    }
   },
   "outputs": [],
   "source": []
  },
  {
   "cell_type": "code",
   "execution_count": null,
   "metadata": {
    "vscode": {
     "languageId": "plaintext"
    }
   },
   "outputs": [],
   "source": []
  }
 ],
 "metadata": {
  "language_info": {
   "name": "python"
  }
 },
 "nbformat": 4,
 "nbformat_minor": 2
}
