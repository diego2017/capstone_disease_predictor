{
 "cells": [
  {
   "cell_type": "markdown",
   "metadata": {},
   "source": [
    "<div id=\"container\" style=\"position:relative;\">\n",
    "<div style=\"float:left\"><h1> Capstone Project: Diabetes risk predictor based on health indicators</h1></div>\n",
    "<div style=\"float:left\"><h2> Notebook 6: # Findings</h2></div>\n",
    "<div style=\"float:left\"><h2> Created by Diego Villanueva</h2></div>\n",
    "</div>\n",
    "</div>"
   ]
  },
  {
   "cell_type": "markdown",
   "metadata": {},
   "source": [
    "This notebook contains a summary of the 4 models created by the end of sprint 2"
   ]
  },
  {
   "cell_type": "markdown",
   "metadata": {
    "vscode": {
     "languageId": "plaintext"
    }
   },
   "source": [
    "<table>\n",
    "    <tr>\n",
    "        <th>Model</th>\n",
    "        <th>Accuracy</th>\n",
    "        <th>Precision</th>\n",
    "        <th>Recall</th>\n",
    "        <th>F1-Score</th>\n",
    "        <th>Parameters</th>\n",
    "    </tr>\n",
    "    <tr>\n",
    "        <td>Logistic Regression using oversampling</td>\n",
    "        <td>0.73</td>\n",
    "        <td>0.34</td>\n",
    "        <td>0.74</td>\n",
    "        <td>0.46</td>\n",
    "        <td>Standard scaler, no PCA, and a l2 logistic regression with a C value of 0.001</td>\n",
    "    </tr>\n",
    "    <tr>\n",
    "        <td>Decision Tree Classifier using oversampling</td>\n",
    "        <td>0.72</td>\n",
    "        <td>0.31</td>\n",
    "        <td>0.60</td>\n",
    "        <td>0.40</td>\n",
    "        <td>Standard scaler, PCA (n_components=20), max depth=3</td>\n",
    "    </tr>\n",
    "    <tr>\n",
    "        <td>Logistic Regression, no oversampling</td>\n",
    "        <td>0.85</td>\n",
    "        <td>0.54</td>\n",
    "        <td>0.16</td>\n",
    "        <td>0.25</td>\n",
    "        <td>Standard scaler, PCA(n_components=0.95), and a l2 logistic regression with a C value of 0.001</td>\n",
    "    </tr>\n",
    "    <tr>\n",
    "        <td>Decison Tree Classifier, no oversampling, no PCA</td>\n",
    "        <td>0.85</td>\n",
    "        <td>0.59</td>\n",
    "        <td>0.12</td>\n",
    "        <td>0.20</td>\n",
    "        <td>Standard scaler, max_depth=3</td>\n",
    "    </tr>\n",
    "    \n",
    "</table>"
   ]
  }
 ],
 "metadata": {
  "kernelspec": {
   "display_name": "diego_capstone",
   "language": "python",
   "name": "python3"
  },
  "language_info": {
   "codemirror_mode": {
    "name": "ipython",
    "version": 3
   },
   "file_extension": ".py",
   "mimetype": "text/x-python",
   "name": "python",
   "nbconvert_exporter": "python",
   "pygments_lexer": "ipython3",
   "version": "3.8.18"
  }
 },
 "nbformat": 4,
 "nbformat_minor": 2
}
