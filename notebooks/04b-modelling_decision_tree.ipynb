{
 "cells": [
  {
   "cell_type": "markdown",
   "metadata": {},
   "source": [
    "<div id=\"container\" style=\"position:relative;\">\n",
    "<div style=\"float:left\"><h1> Capstone Project: Diabetes risk predictor based on health indicators</h1></div>\n",
    "<div style=\"float:left\"><h2> Notebook 4: # Modelling - Created by Diego Villanueva</h2></div>\n",
    "</div>\n",
    "</div>"
   ]
  },
  {
   "cell_type": "markdown",
   "metadata": {},
   "source": [
    "## Table of contents\n",
    "\n",
    "4b. Modelling (Decision Tree)\n",
    "\n",
    "        4b.1 Load data files\n",
    "\n",
    "        4b.2 x\n",
    "\n",
    "        4b.3 T\n",
    "\n",
    "        4b.4 x\n",
    "\n",
    "        4b.5 x\n",
    "\n",
    "        4b.6 x\n",
    "\n",
    "        4b.7 x"
   ]
  },
  {
   "cell_type": "markdown",
   "metadata": {},
   "source": [
    "### Imports"
   ]
  },
  {
   "cell_type": "code",
   "execution_count": 6,
   "metadata": {},
   "outputs": [],
   "source": [
    "# data manipulation\n",
    "import numpy as np\n",
    "import pandas as pd\n",
    "\n",
    "# plotting\n",
    "import matplotlib.pyplot as plt\n",
    "import seaborn as sns\n",
    "\n",
    "# modelling\n",
    "from sklearn.tree import DecisionTreeClassifier\n",
    "from sklearn.pipeline import Pipeline\n",
    "from sklearn.model_selection import cross_val_score, GridSearchCV\n",
    "from sklearn.metrics import confusion_matrix, ConfusionMatrixDisplay\n",
    "\n",
    "# Scaling data\n",
    "from sklearn.preprocessing import StandardScaler\n",
    "from sklearn.preprocessing import MinMaxScaler\n",
    "from sklearn.preprocessing import RobustScaler\n",
    "\n",
    "# PCA\n",
    "from sklearn.decomposition import PCA\n",
    "\n",
    "# File saving\n",
    "import joblib \n",
    "\n",
    "# Temporary directories for caching\n",
    "from tempfile import mkdtemp\n",
    "\n",
    "# Cross-validation\n",
    "from sklearn.model_selection import cross_val_score\n",
    "\n",
    "# Pipeline building\n",
    "from sklearn.pipeline import Pipeline\n",
    "\n",
    "# Grid search\n",
    "from sklearn.model_selection import GridSearchCV"
   ]
  },
  {
   "cell_type": "code",
   "execution_count": null,
   "metadata": {},
   "outputs": [],
   "source": []
  },
  {
   "cell_type": "markdown",
   "metadata": {},
   "source": [
    "### 4b.1 Load data files"
   ]
  },
  {
   "cell_type": "code",
   "execution_count": 2,
   "metadata": {},
   "outputs": [],
   "source": [
    "X_rem_scaled = joblib.load(\"../data/Preprocessed_data/X_rem_oversampled_scaled.pkl\") # oversampled and scaled dataset\n",
    "y_rem = joblib.load(\"../data/Preprocessed_data/y_rem_oversampled.pkl\") #oversampled dataset\n",
    "X_test_scaled = joblib.load(\"../data/Preprocessed_data/X_test_scaled.pkl\") # scaled dataset\n",
    "y_test = joblib.load(\"../data/Preprocessed_data/y_test.pkl\") #unmodified dataset\n",
    "\n",
    "X_rem = joblib.load(\"../data/Preprocessed_data/X_rem_oversampled.pkl\") # oversampled, not scaled dataset\n",
    "X_test = joblib.load(\"../data/Preprocessed_data/X_test.pkl\") # not scaled dataset"
   ]
  },
  {
   "cell_type": "markdown",
   "metadata": {},
   "source": [
    "### 4b.2 Modelling"
   ]
  },
  {
   "cell_type": "code",
   "execution_count": 4,
   "metadata": {},
   "outputs": [],
   "source": [
    "# Create a directory that will be used to cache the pipeline results\n",
    "cachedir = mkdtemp()"
   ]
  },
  {
   "cell_type": "code",
   "execution_count": 7,
   "metadata": {},
   "outputs": [
    {
     "name": "stdout",
     "output_type": "stream",
     "text": [
      "Pipeline(memory='/var/folders/6c/0s0k1hv53xn7g3bpzkggst1r0000gn/T/tmppassc966',\n",
      "         steps=[('normalise', StandardScaler()),\n",
      "                ('reduce_dim', PCA(n_components=20)),\n",
      "                ('dt', DecisionTreeClassifier(max_depth=3))])\n"
     ]
    }
   ],
   "source": [
    "# Create a pipeline by passing an estimators\n",
    "\n",
    "estimators = [('normalise', StandardScaler()), # The scaling part of the pipe\n",
    "              ('reduce_dim', PCA(n_components=20)), # The PCA part of the pipe, using 20 principle components\n",
    "              ('dt', DecisionTreeClassifier(max_depth=3))] # The model part of the pipe, in this case a decision tree\n",
    "\n",
    "pipe = Pipeline(estimators, memory=cachedir)\n",
    "print(pipe)"
   ]
  },
  {
   "cell_type": "code",
   "execution_count": 8,
   "metadata": {},
   "outputs": [],
   "source": [
    "# Define the parameter grid for grid search\n",
    "param_grid = {\n",
    "    'dt__max_depth': [2, 5, 10, 20],  # The depth of the decision tree, 4 options\n",
    "    'dt__min_samples_leaf': [1, 3, 5, 10],  # The minimum number of samples needed by leaf, 4 options\n",
    "    'dt__criterion': ['gini', 'entropy']  # The criteria to measure, 2 options\n",
    "}"
   ]
  },
  {
   "cell_type": "code",
   "execution_count": 10,
   "metadata": {},
   "outputs": [
    {
     "name": "stdout",
     "output_type": "stream",
     "text": [
      "Fitting 5 folds for each of 32 candidates, totalling 160 fits\n"
     ]
    },
    {
     "name": "stderr",
     "output_type": "stream",
     "text": [
      "/Users/diego/anaconda3/envs/diego_capstone/lib/python3.8/site-packages/sklearn/pipeline.py:377: UserWarning: Persisting input arguments took 0.56s to run.\n",
      "If this happens often in your code, it can cause performance problems \n",
      "(results will be correct in all cases). \n",
      "The reason for this is probably some large input arguments for a wrapped\n",
      " function (e.g. large strings).\n",
      "THIS IS A JOBLIB ISSUE. If you can, kindly provide the joblib's team with an\n",
      " example so that they can fix the problem.\n",
      "  X, fitted_transformer = fit_transform_one_cached(\n"
     ]
    },
    {
     "name": "stdout",
     "output_type": "stream",
     "text": [
      "[CV 2/5] END dt__criterion=gini, dt__max_depth=2, dt__min_samples_leaf=1;, score=0.690 total time=  16.0s\n",
      "[CV 3/5] END dt__criterion=gini, dt__max_depth=2, dt__min_samples_leaf=1;, score=0.686 total time=  16.2s\n",
      "[CV 4/5] END dt__criterion=gini, dt__max_depth=2, dt__min_samples_leaf=1;, score=0.690 total time=  16.2s\n",
      "[CV 1/5] END dt__criterion=gini, dt__max_depth=2, dt__min_samples_leaf=1;, score=0.695 total time=  16.2s\n",
      "[CV 1/5] END dt__criterion=gini, dt__max_depth=2, dt__min_samples_leaf=3;, score=0.695 total time=   5.9s\n",
      "[CV 2/5] END dt__criterion=gini, dt__max_depth=2, dt__min_samples_leaf=3;, score=0.690 total time=   5.9s\n",
      "[CV 3/5] END dt__criterion=gini, dt__max_depth=2, dt__min_samples_leaf=3;, score=0.686 total time=   5.9s\n",
      "[CV 5/5] END dt__criterion=gini, dt__max_depth=2, dt__min_samples_leaf=1;, score=0.690 total time=  10.4s\n",
      "[CV 4/5] END dt__criterion=gini, dt__max_depth=2, dt__min_samples_leaf=3;, score=0.690 total time=   5.5s\n",
      "[CV 5/5] END dt__criterion=gini, dt__max_depth=2, dt__min_samples_leaf=3;, score=0.690 total time=   5.6s\n",
      "[CV 1/5] END dt__criterion=gini, dt__max_depth=2, dt__min_samples_leaf=5;, score=0.695 total time=   5.6s\n",
      "[CV 2/5] END dt__criterion=gini, dt__max_depth=2, dt__min_samples_leaf=5;, score=0.690 total time=   5.6s\n",
      "[CV 3/5] END dt__criterion=gini, dt__max_depth=2, dt__min_samples_leaf=5;, score=0.686 total time=   5.7s\n",
      "[CV 5/5] END dt__criterion=gini, dt__max_depth=2, dt__min_samples_leaf=5;, score=0.690 total time=   5.6s\n",
      "[CV 4/5] END dt__criterion=gini, dt__max_depth=2, dt__min_samples_leaf=5;, score=0.690 total time=   5.7s\n",
      "[CV 1/5] END dt__criterion=gini, dt__max_depth=2, dt__min_samples_leaf=10;, score=0.695 total time=   5.6s\n",
      "[CV 2/5] END dt__criterion=gini, dt__max_depth=2, dt__min_samples_leaf=10;, score=0.690 total time=   5.5s\n",
      "[CV 3/5] END dt__criterion=gini, dt__max_depth=2, dt__min_samples_leaf=10;, score=0.686 total time=   5.5s\n",
      "[CV 4/5] END dt__criterion=gini, dt__max_depth=2, dt__min_samples_leaf=10;, score=0.690 total time=   5.6s\n",
      "[CV 5/5] END dt__criterion=gini, dt__max_depth=2, dt__min_samples_leaf=10;, score=0.690 total time=   5.5s\n",
      "[CV 1/5] END dt__criterion=gini, dt__max_depth=5, dt__min_samples_leaf=1;, score=0.712 total time=  11.9s\n",
      "[CV 2/5] END dt__criterion=gini, dt__max_depth=5, dt__min_samples_leaf=1;, score=0.741 total time=  11.9s\n",
      "[CV 3/5] END dt__criterion=gini, dt__max_depth=5, dt__min_samples_leaf=1;, score=0.738 total time=  11.9s\n",
      "[CV 4/5] END dt__criterion=gini, dt__max_depth=5, dt__min_samples_leaf=1;, score=0.738 total time=  11.8s\n",
      "[CV 5/5] END dt__criterion=gini, dt__max_depth=5, dt__min_samples_leaf=1;, score=0.737 total time=  11.4s\n",
      "[CV 2/5] END dt__criterion=gini, dt__max_depth=5, dt__min_samples_leaf=3;, score=0.741 total time=  11.4s\n",
      "[CV 1/5] END dt__criterion=gini, dt__max_depth=5, dt__min_samples_leaf=3;, score=0.712 total time=  11.5s\n",
      "[CV 3/5] END dt__criterion=gini, dt__max_depth=5, dt__min_samples_leaf=3;, score=0.738 total time=  11.5s\n",
      "[CV 4/5] END dt__criterion=gini, dt__max_depth=5, dt__min_samples_leaf=3;, score=0.738 total time=  11.4s\n",
      "[CV 5/5] END dt__criterion=gini, dt__max_depth=5, dt__min_samples_leaf=3;, score=0.737 total time=  11.5s\n",
      "[CV 1/5] END dt__criterion=gini, dt__max_depth=5, dt__min_samples_leaf=5;, score=0.712 total time=  11.6s\n",
      "[CV 2/5] END dt__criterion=gini, dt__max_depth=5, dt__min_samples_leaf=5;, score=0.741 total time=  11.6s\n",
      "[CV 3/5] END dt__criterion=gini, dt__max_depth=5, dt__min_samples_leaf=5;, score=0.738 total time=  11.4s\n",
      "[CV 4/5] END dt__criterion=gini, dt__max_depth=5, dt__min_samples_leaf=5;, score=0.738 total time=  11.4s\n",
      "[CV 5/5] END dt__criterion=gini, dt__max_depth=5, dt__min_samples_leaf=5;, score=0.737 total time=  11.5s\n",
      "[CV 1/5] END dt__criterion=gini, dt__max_depth=5, dt__min_samples_leaf=10;, score=0.712 total time=  11.4s\n",
      "[CV 2/5] END dt__criterion=gini, dt__max_depth=5, dt__min_samples_leaf=10;, score=0.741 total time=  11.7s\n",
      "[CV 3/5] END dt__criterion=gini, dt__max_depth=5, dt__min_samples_leaf=10;, score=0.738 total time=  11.6s\n",
      "[CV 4/5] END dt__criterion=gini, dt__max_depth=5, dt__min_samples_leaf=10;, score=0.738 total time=  11.8s\n",
      "[CV 5/5] END dt__criterion=gini, dt__max_depth=5, dt__min_samples_leaf=10;, score=0.737 total time=  11.7s\n",
      "[CV 1/5] END dt__criterion=gini, dt__max_depth=10, dt__min_samples_leaf=1;, score=0.708 total time=  19.3s\n",
      "[CV 3/5] END dt__criterion=gini, dt__max_depth=10, dt__min_samples_leaf=1;, score=0.765 total time=  19.1s\n",
      "[CV 2/5] END dt__criterion=gini, dt__max_depth=10, dt__min_samples_leaf=1;, score=0.764 total time=  19.4s\n",
      "[CV 4/5] END dt__criterion=gini, dt__max_depth=10, dt__min_samples_leaf=1;, score=0.765 total time=  19.1s\n",
      "[CV 5/5] END dt__criterion=gini, dt__max_depth=10, dt__min_samples_leaf=1;, score=0.757 total time=  18.7s\n",
      "[CV 1/5] END dt__criterion=gini, dt__max_depth=10, dt__min_samples_leaf=3;, score=0.708 total time=  18.8s\n",
      "[CV 2/5] END dt__criterion=gini, dt__max_depth=10, dt__min_samples_leaf=3;, score=0.764 total time=  18.9s\n",
      "[CV 3/5] END dt__criterion=gini, dt__max_depth=10, dt__min_samples_leaf=3;, score=0.765 total time=  19.0s\n",
      "[CV 4/5] END dt__criterion=gini, dt__max_depth=10, dt__min_samples_leaf=3;, score=0.765 total time=  18.5s\n",
      "[CV 5/5] END dt__criterion=gini, dt__max_depth=10, dt__min_samples_leaf=3;, score=0.758 total time=  18.6s\n",
      "[CV 1/5] END dt__criterion=gini, dt__max_depth=10, dt__min_samples_leaf=5;, score=0.708 total time=  18.6s\n",
      "[CV 2/5] END dt__criterion=gini, dt__max_depth=10, dt__min_samples_leaf=5;, score=0.764 total time=  18.7s\n",
      "[CV 3/5] END dt__criterion=gini, dt__max_depth=10, dt__min_samples_leaf=5;, score=0.765 total time=  18.8s\n",
      "[CV 4/5] END dt__criterion=gini, dt__max_depth=10, dt__min_samples_leaf=5;, score=0.765 total time=  18.8s\n",
      "[CV 5/5] END dt__criterion=gini, dt__max_depth=10, dt__min_samples_leaf=5;, score=0.758 total time=  18.9s\n",
      "[CV 1/5] END dt__criterion=gini, dt__max_depth=10, dt__min_samples_leaf=10;, score=0.707 total time=  19.1s\n",
      "[CV 2/5] END dt__criterion=gini, dt__max_depth=10, dt__min_samples_leaf=10;, score=0.764 total time=  19.7s\n",
      "[CV 3/5] END dt__criterion=gini, dt__max_depth=10, dt__min_samples_leaf=10;, score=0.765 total time=  19.7s\n",
      "[CV 4/5] END dt__criterion=gini, dt__max_depth=10, dt__min_samples_leaf=10;, score=0.765 total time=  19.5s\n",
      "[CV 5/5] END dt__criterion=gini, dt__max_depth=10, dt__min_samples_leaf=10;, score=0.757 total time=  20.0s\n",
      "[CV 1/5] END dt__criterion=gini, dt__max_depth=20, dt__min_samples_leaf=1;, score=0.698 total time=  30.9s\n",
      "[CV 3/5] END dt__criterion=gini, dt__max_depth=20, dt__min_samples_leaf=1;, score=0.796 total time=  31.2s\n",
      "[CV 2/5] END dt__criterion=gini, dt__max_depth=20, dt__min_samples_leaf=1;, score=0.799 total time=  31.6s\n",
      "[CV 4/5] END dt__criterion=gini, dt__max_depth=20, dt__min_samples_leaf=1;, score=0.797 total time=  30.9s\n",
      "[CV 5/5] END dt__criterion=gini, dt__max_depth=20, dt__min_samples_leaf=1;, score=0.795 total time=  28.8s\n",
      "[CV 1/5] END dt__criterion=gini, dt__max_depth=20, dt__min_samples_leaf=3;, score=0.696 total time=  28.2s\n",
      "[CV 2/5] END dt__criterion=gini, dt__max_depth=20, dt__min_samples_leaf=3;, score=0.800 total time=  28.6s\n",
      "[CV 3/5] END dt__criterion=gini, dt__max_depth=20, dt__min_samples_leaf=3;, score=0.796 total time=  28.8s\n",
      "[CV 4/5] END dt__criterion=gini, dt__max_depth=20, dt__min_samples_leaf=3;, score=0.796 total time=  29.9s\n",
      "[CV 5/5] END dt__criterion=gini, dt__max_depth=20, dt__min_samples_leaf=3;, score=0.794 total time=  30.5s\n",
      "[CV 1/5] END dt__criterion=gini, dt__max_depth=20, dt__min_samples_leaf=5;, score=0.691 total time=  30.6s\n",
      "[CV 2/5] END dt__criterion=gini, dt__max_depth=20, dt__min_samples_leaf=5;, score=0.795 total time=  31.5s\n",
      "[CV 3/5] END dt__criterion=gini, dt__max_depth=20, dt__min_samples_leaf=5;, score=0.793 total time=  29.5s\n",
      "[CV 4/5] END dt__criterion=gini, dt__max_depth=20, dt__min_samples_leaf=5;, score=0.795 total time=  29.6s\n",
      "[CV 5/5] END dt__criterion=gini, dt__max_depth=20, dt__min_samples_leaf=5;, score=0.792 total time=  29.2s\n",
      "[CV 1/5] END dt__criterion=gini, dt__max_depth=20, dt__min_samples_leaf=10;, score=0.688 total time=  31.1s\n",
      "[CV 2/5] END dt__criterion=gini, dt__max_depth=20, dt__min_samples_leaf=10;, score=0.793 total time=  36.1s\n",
      "[CV 3/5] END dt__criterion=gini, dt__max_depth=20, dt__min_samples_leaf=10;, score=0.789 total time=  35.2s\n",
      "[CV 4/5] END dt__criterion=gini, dt__max_depth=20, dt__min_samples_leaf=10;, score=0.792 total time=  35.0s\n",
      "[CV 5/5] END dt__criterion=gini, dt__max_depth=20, dt__min_samples_leaf=10;, score=0.790 total time=  32.2s\n",
      "[CV 1/5] END dt__criterion=entropy, dt__max_depth=2, dt__min_samples_leaf=1;, score=0.692 total time=   6.1s\n",
      "[CV 2/5] END dt__criterion=entropy, dt__max_depth=2, dt__min_samples_leaf=1;, score=0.682 total time=   6.0s\n",
      "[CV 3/5] END dt__criterion=entropy, dt__max_depth=2, dt__min_samples_leaf=1;, score=0.686 total time=   6.0s\n",
      "[CV 4/5] END dt__criterion=entropy, dt__max_depth=2, dt__min_samples_leaf=1;, score=0.683 total time=   6.2s\n",
      "[CV 5/5] END dt__criterion=entropy, dt__max_depth=2, dt__min_samples_leaf=1;, score=0.684 total time=   6.0s\n",
      "[CV 1/5] END dt__criterion=entropy, dt__max_depth=2, dt__min_samples_leaf=3;, score=0.692 total time=   6.1s\n",
      "[CV 2/5] END dt__criterion=entropy, dt__max_depth=2, dt__min_samples_leaf=3;, score=0.682 total time=   6.1s\n",
      "[CV 3/5] END dt__criterion=entropy, dt__max_depth=2, dt__min_samples_leaf=3;, score=0.686 total time=   6.3s\n",
      "[CV 4/5] END dt__criterion=entropy, dt__max_depth=2, dt__min_samples_leaf=3;, score=0.683 total time=   6.3s\n",
      "[CV 5/5] END dt__criterion=entropy, dt__max_depth=2, dt__min_samples_leaf=3;, score=0.684 total time=   6.3s\n",
      "[CV 1/5] END dt__criterion=entropy, dt__max_depth=2, dt__min_samples_leaf=5;, score=0.692 total time=   6.5s\n",
      "[CV 2/5] END dt__criterion=entropy, dt__max_depth=2, dt__min_samples_leaf=5;, score=0.682 total time=   6.2s\n",
      "[CV 3/5] END dt__criterion=entropy, dt__max_depth=2, dt__min_samples_leaf=5;, score=0.686 total time=   6.1s\n",
      "[CV 4/5] END dt__criterion=entropy, dt__max_depth=2, dt__min_samples_leaf=5;, score=0.683 total time=   6.2s\n",
      "[CV 5/5] END dt__criterion=entropy, dt__max_depth=2, dt__min_samples_leaf=5;, score=0.684 total time=   6.3s\n",
      "[CV 1/5] END dt__criterion=entropy, dt__max_depth=2, dt__min_samples_leaf=10;, score=0.692 total time=   6.2s\n",
      "[CV 2/5] END dt__criterion=entropy, dt__max_depth=2, dt__min_samples_leaf=10;, score=0.682 total time=   6.1s\n",
      "[CV 3/5] END dt__criterion=entropy, dt__max_depth=2, dt__min_samples_leaf=10;, score=0.686 total time=   6.2s\n",
      "[CV 4/5] END dt__criterion=entropy, dt__max_depth=2, dt__min_samples_leaf=10;, score=0.683 total time=   6.1s\n",
      "[CV 5/5] END dt__criterion=entropy, dt__max_depth=2, dt__min_samples_leaf=10;, score=0.684 total time=   6.1s\n",
      "[CV 1/5] END dt__criterion=entropy, dt__max_depth=5, dt__min_samples_leaf=1;, score=0.710 total time=  12.9s\n",
      "[CV 2/5] END dt__criterion=entropy, dt__max_depth=5, dt__min_samples_leaf=1;, score=0.737 total time=  13.0s\n",
      "[CV 3/5] END dt__criterion=entropy, dt__max_depth=5, dt__min_samples_leaf=1;, score=0.739 total time=  13.2s\n",
      "[CV 4/5] END dt__criterion=entropy, dt__max_depth=5, dt__min_samples_leaf=1;, score=0.733 total time=  12.9s\n",
      "[CV 5/5] END dt__criterion=entropy, dt__max_depth=5, dt__min_samples_leaf=1;, score=0.734 total time=  12.5s\n",
      "[CV 1/5] END dt__criterion=entropy, dt__max_depth=5, dt__min_samples_leaf=3;, score=0.710 total time=  12.7s\n",
      "[CV 2/5] END dt__criterion=entropy, dt__max_depth=5, dt__min_samples_leaf=3;, score=0.737 total time=  12.5s\n",
      "[CV 3/5] END dt__criterion=entropy, dt__max_depth=5, dt__min_samples_leaf=3;, score=0.739 total time=  12.7s\n",
      "[CV 4/5] END dt__criterion=entropy, dt__max_depth=5, dt__min_samples_leaf=3;, score=0.733 total time=  13.1s\n",
      "[CV 5/5] END dt__criterion=entropy, dt__max_depth=5, dt__min_samples_leaf=3;, score=0.734 total time=  13.1s\n",
      "[CV 1/5] END dt__criterion=entropy, dt__max_depth=5, dt__min_samples_leaf=5;, score=0.710 total time=  13.2s\n",
      "[CV 2/5] END dt__criterion=entropy, dt__max_depth=5, dt__min_samples_leaf=5;, score=0.737 total time=  13.3s\n",
      "[CV 3/5] END dt__criterion=entropy, dt__max_depth=5, dt__min_samples_leaf=5;, score=0.739 total time=  13.4s\n",
      "[CV 4/5] END dt__criterion=entropy, dt__max_depth=5, dt__min_samples_leaf=5;, score=0.733 total time=  13.5s\n",
      "[CV 5/5] END dt__criterion=entropy, dt__max_depth=5, dt__min_samples_leaf=5;, score=0.734 total time=  13.7s\n",
      "[CV 1/5] END dt__criterion=entropy, dt__max_depth=5, dt__min_samples_leaf=10;, score=0.710 total time=  15.9s\n",
      "[CV 2/5] END dt__criterion=entropy, dt__max_depth=5, dt__min_samples_leaf=10;, score=0.737 total time=  16.4s\n",
      "[CV 3/5] END dt__criterion=entropy, dt__max_depth=5, dt__min_samples_leaf=10;, score=0.739 total time=  16.6s\n",
      "[CV 4/5] END dt__criterion=entropy, dt__max_depth=5, dt__min_samples_leaf=10;, score=0.733 total time=  16.6s\n",
      "[CV 5/5] END dt__criterion=entropy, dt__max_depth=5, dt__min_samples_leaf=10;, score=0.734 total time=  16.1s\n",
      "[CV 1/5] END dt__criterion=entropy, dt__max_depth=10, dt__min_samples_leaf=1;, score=0.708 total time=  32.9s\n",
      "[CV 2/5] END dt__criterion=entropy, dt__max_depth=10, dt__min_samples_leaf=1;, score=0.759 total time=  33.1s\n",
      "[CV 3/5] END dt__criterion=entropy, dt__max_depth=10, dt__min_samples_leaf=1;, score=0.760 total time=  33.7s\n",
      "[CV 4/5] END dt__criterion=entropy, dt__max_depth=10, dt__min_samples_leaf=1;, score=0.760 total time=  34.5s\n",
      "[CV 5/5] END dt__criterion=entropy, dt__max_depth=10, dt__min_samples_leaf=1;, score=0.754 total time=  30.0s\n",
      "[CV 1/5] END dt__criterion=entropy, dt__max_depth=10, dt__min_samples_leaf=3;, score=0.708 total time=  29.6s\n",
      "[CV 2/5] END dt__criterion=entropy, dt__max_depth=10, dt__min_samples_leaf=3;, score=0.760 total time=  29.3s\n",
      "[CV 3/5] END dt__criterion=entropy, dt__max_depth=10, dt__min_samples_leaf=3;, score=0.760 total time=  30.3s\n",
      "[CV 4/5] END dt__criterion=entropy, dt__max_depth=10, dt__min_samples_leaf=3;, score=0.760 total time=  33.1s\n",
      "[CV 5/5] END dt__criterion=entropy, dt__max_depth=10, dt__min_samples_leaf=3;, score=0.754 total time=  33.4s\n",
      "[CV 1/5] END dt__criterion=entropy, dt__max_depth=10, dt__min_samples_leaf=5;, score=0.708 total time=  32.9s\n",
      "[CV 2/5] END dt__criterion=entropy, dt__max_depth=10, dt__min_samples_leaf=5;, score=0.759 total time=  34.1s\n",
      "[CV 3/5] END dt__criterion=entropy, dt__max_depth=10, dt__min_samples_leaf=5;, score=0.760 total time=  33.5s\n",
      "[CV 4/5] END dt__criterion=entropy, dt__max_depth=10, dt__min_samples_leaf=5;, score=0.760 total time=  33.8s\n",
      "[CV 5/5] END dt__criterion=entropy, dt__max_depth=10, dt__min_samples_leaf=5;, score=0.754 total time=  33.9s\n",
      "[CV 1/5] END dt__criterion=entropy, dt__max_depth=10, dt__min_samples_leaf=10;, score=0.708 total time=  32.0s\n",
      "[CV 2/5] END dt__criterion=entropy, dt__max_depth=10, dt__min_samples_leaf=10;, score=0.759 total time=  32.9s\n",
      "[CV 3/5] END dt__criterion=entropy, dt__max_depth=10, dt__min_samples_leaf=10;, score=0.760 total time=  32.5s\n",
      "[CV 4/5] END dt__criterion=entropy, dt__max_depth=10, dt__min_samples_leaf=10;, score=0.760 total time=  32.2s\n",
      "[CV 5/5] END dt__criterion=entropy, dt__max_depth=10, dt__min_samples_leaf=10;, score=0.754 total time=  31.8s\n",
      "[CV 1/5] END dt__criterion=entropy, dt__max_depth=20, dt__min_samples_leaf=1;, score=0.688 total time=  39.8s\n",
      "[CV 3/5] END dt__criterion=entropy, dt__max_depth=20, dt__min_samples_leaf=1;, score=0.789 total time=  39.6s\n",
      "[CV 2/5] END dt__criterion=entropy, dt__max_depth=20, dt__min_samples_leaf=1;, score=0.787 total time=  40.3s\n",
      "[CV 4/5] END dt__criterion=entropy, dt__max_depth=20, dt__min_samples_leaf=1;, score=0.794 total time=  40.4s\n",
      "[CV 5/5] END dt__criterion=entropy, dt__max_depth=20, dt__min_samples_leaf=1;, score=0.787 total time=  37.8s\n",
      "[CV 1/5] END dt__criterion=entropy, dt__max_depth=20, dt__min_samples_leaf=3;, score=0.687 total time=  37.1s\n",
      "[CV 2/5] END dt__criterion=entropy, dt__max_depth=20, dt__min_samples_leaf=3;, score=0.790 total time=  38.6s\n",
      "[CV 3/5] END dt__criterion=entropy, dt__max_depth=20, dt__min_samples_leaf=3;, score=0.789 total time=  37.3s\n",
      "[CV 4/5] END dt__criterion=entropy, dt__max_depth=20, dt__min_samples_leaf=3;, score=0.791 total time=  42.1s\n",
      "[CV 5/5] END dt__criterion=entropy, dt__max_depth=20, dt__min_samples_leaf=3;, score=0.786 total time=  42.6s\n",
      "[CV 1/5] END dt__criterion=entropy, dt__max_depth=20, dt__min_samples_leaf=5;, score=0.685 total time=  40.9s\n",
      "[CV 2/5] END dt__criterion=entropy, dt__max_depth=20, dt__min_samples_leaf=5;, score=0.787 total time=  41.0s\n",
      "[CV 3/5] END dt__criterion=entropy, dt__max_depth=20, dt__min_samples_leaf=5;, score=0.790 total time=  36.7s\n",
      "[CV 4/5] END dt__criterion=entropy, dt__max_depth=20, dt__min_samples_leaf=5;, score=0.792 total time=  36.7s\n",
      "[CV 5/5] END dt__criterion=entropy, dt__max_depth=20, dt__min_samples_leaf=5;, score=0.788 total time=  36.7s\n",
      "[CV 1/5] END dt__criterion=entropy, dt__max_depth=20, dt__min_samples_leaf=10;, score=0.679 total time=  35.5s\n",
      "[CV 2/5] END dt__criterion=entropy, dt__max_depth=20, dt__min_samples_leaf=10;, score=0.783 total time=  31.4s\n",
      "[CV 3/5] END dt__criterion=entropy, dt__max_depth=20, dt__min_samples_leaf=10;, score=0.786 total time=  30.9s\n",
      "[CV 4/5] END dt__criterion=entropy, dt__max_depth=20, dt__min_samples_leaf=10;, score=0.790 total time=  30.8s\n",
      "[CV 5/5] END dt__criterion=entropy, dt__max_depth=20, dt__min_samples_leaf=10;, score=0.784 total time=  29.0s\n"
     ]
    },
    {
     "data": {
      "text/html": [
       "<style>#sk-container-id-1 {color: black;}#sk-container-id-1 pre{padding: 0;}#sk-container-id-1 div.sk-toggleable {background-color: white;}#sk-container-id-1 label.sk-toggleable__label {cursor: pointer;display: block;width: 100%;margin-bottom: 0;padding: 0.3em;box-sizing: border-box;text-align: center;}#sk-container-id-1 label.sk-toggleable__label-arrow:before {content: \"▸\";float: left;margin-right: 0.25em;color: #696969;}#sk-container-id-1 label.sk-toggleable__label-arrow:hover:before {color: black;}#sk-container-id-1 div.sk-estimator:hover label.sk-toggleable__label-arrow:before {color: black;}#sk-container-id-1 div.sk-toggleable__content {max-height: 0;max-width: 0;overflow: hidden;text-align: left;background-color: #f0f8ff;}#sk-container-id-1 div.sk-toggleable__content pre {margin: 0.2em;color: black;border-radius: 0.25em;background-color: #f0f8ff;}#sk-container-id-1 input.sk-toggleable__control:checked~div.sk-toggleable__content {max-height: 200px;max-width: 100%;overflow: auto;}#sk-container-id-1 input.sk-toggleable__control:checked~label.sk-toggleable__label-arrow:before {content: \"▾\";}#sk-container-id-1 div.sk-estimator input.sk-toggleable__control:checked~label.sk-toggleable__label {background-color: #d4ebff;}#sk-container-id-1 div.sk-label input.sk-toggleable__control:checked~label.sk-toggleable__label {background-color: #d4ebff;}#sk-container-id-1 input.sk-hidden--visually {border: 0;clip: rect(1px 1px 1px 1px);clip: rect(1px, 1px, 1px, 1px);height: 1px;margin: -1px;overflow: hidden;padding: 0;position: absolute;width: 1px;}#sk-container-id-1 div.sk-estimator {font-family: monospace;background-color: #f0f8ff;border: 1px dotted black;border-radius: 0.25em;box-sizing: border-box;margin-bottom: 0.5em;}#sk-container-id-1 div.sk-estimator:hover {background-color: #d4ebff;}#sk-container-id-1 div.sk-parallel-item::after {content: \"\";width: 100%;border-bottom: 1px solid gray;flex-grow: 1;}#sk-container-id-1 div.sk-label:hover label.sk-toggleable__label {background-color: #d4ebff;}#sk-container-id-1 div.sk-serial::before {content: \"\";position: absolute;border-left: 1px solid gray;box-sizing: border-box;top: 0;bottom: 0;left: 50%;z-index: 0;}#sk-container-id-1 div.sk-serial {display: flex;flex-direction: column;align-items: center;background-color: white;padding-right: 0.2em;padding-left: 0.2em;position: relative;}#sk-container-id-1 div.sk-item {position: relative;z-index: 1;}#sk-container-id-1 div.sk-parallel {display: flex;align-items: stretch;justify-content: center;background-color: white;position: relative;}#sk-container-id-1 div.sk-item::before, #sk-container-id-1 div.sk-parallel-item::before {content: \"\";position: absolute;border-left: 1px solid gray;box-sizing: border-box;top: 0;bottom: 0;left: 50%;z-index: -1;}#sk-container-id-1 div.sk-parallel-item {display: flex;flex-direction: column;z-index: 1;position: relative;background-color: white;}#sk-container-id-1 div.sk-parallel-item:first-child::after {align-self: flex-end;width: 50%;}#sk-container-id-1 div.sk-parallel-item:last-child::after {align-self: flex-start;width: 50%;}#sk-container-id-1 div.sk-parallel-item:only-child::after {width: 0;}#sk-container-id-1 div.sk-dashed-wrapped {border: 1px dashed gray;margin: 0 0.4em 0.5em 0.4em;box-sizing: border-box;padding-bottom: 0.4em;background-color: white;}#sk-container-id-1 div.sk-label label {font-family: monospace;font-weight: bold;display: inline-block;line-height: 1.2em;}#sk-container-id-1 div.sk-label-container {text-align: center;}#sk-container-id-1 div.sk-container {/* jupyter's `normalize.less` sets `[hidden] { display: none; }` but bootstrap.min.css set `[hidden] { display: none !important; }` so we also need the `!important` here to be able to override the default hidden behavior on the sphinx rendered scikit-learn.org. See: https://github.com/scikit-learn/scikit-learn/issues/21755 */display: inline-block !important;position: relative;}#sk-container-id-1 div.sk-text-repr-fallback {display: none;}</style><div id=\"sk-container-id-1\" class=\"sk-top-container\"><div class=\"sk-text-repr-fallback\"><pre>GridSearchCV(cv=5,\n",
       "             estimator=Pipeline(memory=&#x27;/var/folders/6c/0s0k1hv53xn7g3bpzkggst1r0000gn/T/tmppassc966&#x27;,\n",
       "                                steps=[(&#x27;normalise&#x27;, StandardScaler()),\n",
       "                                       (&#x27;reduce_dim&#x27;, PCA(n_components=20)),\n",
       "                                       (&#x27;dt&#x27;,\n",
       "                                        DecisionTreeClassifier(max_depth=3))]),\n",
       "             n_jobs=-1,\n",
       "             param_grid={&#x27;dt__criterion&#x27;: [&#x27;gini&#x27;, &#x27;entropy&#x27;],\n",
       "                         &#x27;dt__max_depth&#x27;: [2, 5, 10, 20],\n",
       "                         &#x27;dt__min_samples_leaf&#x27;: [1, 3, 5, 10]},\n",
       "             verbose=5)</pre><b>In a Jupyter environment, please rerun this cell to show the HTML representation or trust the notebook. <br />On GitHub, the HTML representation is unable to render, please try loading this page with nbviewer.org.</b></div><div class=\"sk-container\" hidden><div class=\"sk-item sk-dashed-wrapped\"><div class=\"sk-label-container\"><div class=\"sk-label sk-toggleable\"><input class=\"sk-toggleable__control sk-hidden--visually\" id=\"sk-estimator-id-1\" type=\"checkbox\" ><label for=\"sk-estimator-id-1\" class=\"sk-toggleable__label sk-toggleable__label-arrow\">GridSearchCV</label><div class=\"sk-toggleable__content\"><pre>GridSearchCV(cv=5,\n",
       "             estimator=Pipeline(memory=&#x27;/var/folders/6c/0s0k1hv53xn7g3bpzkggst1r0000gn/T/tmppassc966&#x27;,\n",
       "                                steps=[(&#x27;normalise&#x27;, StandardScaler()),\n",
       "                                       (&#x27;reduce_dim&#x27;, PCA(n_components=20)),\n",
       "                                       (&#x27;dt&#x27;,\n",
       "                                        DecisionTreeClassifier(max_depth=3))]),\n",
       "             n_jobs=-1,\n",
       "             param_grid={&#x27;dt__criterion&#x27;: [&#x27;gini&#x27;, &#x27;entropy&#x27;],\n",
       "                         &#x27;dt__max_depth&#x27;: [2, 5, 10, 20],\n",
       "                         &#x27;dt__min_samples_leaf&#x27;: [1, 3, 5, 10]},\n",
       "             verbose=5)</pre></div></div></div><div class=\"sk-parallel\"><div class=\"sk-parallel-item\"><div class=\"sk-item\"><div class=\"sk-label-container\"><div class=\"sk-label sk-toggleable\"><input class=\"sk-toggleable__control sk-hidden--visually\" id=\"sk-estimator-id-2\" type=\"checkbox\" ><label for=\"sk-estimator-id-2\" class=\"sk-toggleable__label sk-toggleable__label-arrow\">estimator: Pipeline</label><div class=\"sk-toggleable__content\"><pre>Pipeline(memory=&#x27;/var/folders/6c/0s0k1hv53xn7g3bpzkggst1r0000gn/T/tmppassc966&#x27;,\n",
       "         steps=[(&#x27;normalise&#x27;, StandardScaler()),\n",
       "                (&#x27;reduce_dim&#x27;, PCA(n_components=20)),\n",
       "                (&#x27;dt&#x27;, DecisionTreeClassifier(max_depth=3))])</pre></div></div></div><div class=\"sk-serial\"><div class=\"sk-item\"><div class=\"sk-serial\"><div class=\"sk-item\"><div class=\"sk-estimator sk-toggleable\"><input class=\"sk-toggleable__control sk-hidden--visually\" id=\"sk-estimator-id-3\" type=\"checkbox\" ><label for=\"sk-estimator-id-3\" class=\"sk-toggleable__label sk-toggleable__label-arrow\">StandardScaler</label><div class=\"sk-toggleable__content\"><pre>StandardScaler()</pre></div></div></div><div class=\"sk-item\"><div class=\"sk-estimator sk-toggleable\"><input class=\"sk-toggleable__control sk-hidden--visually\" id=\"sk-estimator-id-4\" type=\"checkbox\" ><label for=\"sk-estimator-id-4\" class=\"sk-toggleable__label sk-toggleable__label-arrow\">PCA</label><div class=\"sk-toggleable__content\"><pre>PCA(n_components=20)</pre></div></div></div><div class=\"sk-item\"><div class=\"sk-estimator sk-toggleable\"><input class=\"sk-toggleable__control sk-hidden--visually\" id=\"sk-estimator-id-5\" type=\"checkbox\" ><label for=\"sk-estimator-id-5\" class=\"sk-toggleable__label sk-toggleable__label-arrow\">DecisionTreeClassifier</label><div class=\"sk-toggleable__content\"><pre>DecisionTreeClassifier(max_depth=3)</pre></div></div></div></div></div></div></div></div></div></div></div></div>"
      ],
      "text/plain": [
       "GridSearchCV(cv=5,\n",
       "             estimator=Pipeline(memory='/var/folders/6c/0s0k1hv53xn7g3bpzkggst1r0000gn/T/tmppassc966',\n",
       "                                steps=[('normalise', StandardScaler()),\n",
       "                                       ('reduce_dim', PCA(n_components=20)),\n",
       "                                       ('dt',\n",
       "                                        DecisionTreeClassifier(max_depth=3))]),\n",
       "             n_jobs=-1,\n",
       "             param_grid={'dt__criterion': ['gini', 'entropy'],\n",
       "                         'dt__max_depth': [2, 5, 10, 20],\n",
       "                         'dt__min_samples_leaf': [1, 3, 5, 10]},\n",
       "             verbose=5)"
      ]
     },
     "execution_count": 10,
     "metadata": {},
     "output_type": "execute_result"
    }
   ],
   "source": [
    "# Create the grid and fit it\n",
    "grid_search = GridSearchCV(pipe, param_grid=param_grid, cv=5, verbose= 5, n_jobs= -1)\n",
    "grid_search.fit(X_rem, y_rem)"
   ]
  },
  {
   "cell_type": "code",
   "execution_count": 11,
   "metadata": {},
   "outputs": [
    {
     "name": "stdout",
     "output_type": "stream",
     "text": [
      "Best parameters {'dt__criterion': 'gini', 'dt__max_depth': 20, 'dt__min_samples_leaf': 1}\n",
      "Best Score: 0.777033591109894\n",
      "Best estimator Pipeline(memory='/var/folders/6c/0s0k1hv53xn7g3bpzkggst1r0000gn/T/tmppassc966',\n",
      "         steps=[('normalise', StandardScaler()),\n",
      "                ('reduce_dim', PCA(n_components=20)),\n",
      "                ('dt', DecisionTreeClassifier(max_depth=20))])\n"
     ]
    }
   ],
   "source": [
    "# Show the results from GridSearch\n",
    "print(f\"Best parameters {grid_search.best_params_}\")\n",
    "print(f\"Best Score: {grid_search.best_score_}\")\n",
    "print(f\"Best estimator {grid_search.best_estimator_}\")"
   ]
  },
  {
   "cell_type": "markdown",
   "metadata": {},
   "source": [
    "### 4b.3 Model evaluation "
   ]
  },
  {
   "cell_type": "code",
   "execution_count": null,
   "metadata": {},
   "outputs": [],
   "source": [
    "# Create confusion matrix\n",
    "\n",
    "# Get class predictions\n",
    "y_pred = logreg.predict(X_test)\n",
    "\n",
    "# Generate confusion matrix\n",
    "cf_matrix = confusion_matrix(y_test, y_pred)\n",
    "\n",
    "# label rows and columns\n",
    "cf_df = pd.DataFrame(\n",
    "    cf_matrix, \n",
    "    columns=[\"Predicted Negative Review\", \"Predicted Positive Review\"],\n",
    "    index=[\"True Negative Review\", \"True Positive Review\"]\n",
    ")\n",
    "\n",
    "display(cf_df)"
   ]
  }
 ],
 "metadata": {
  "kernelspec": {
   "display_name": "diego_capstone",
   "language": "python",
   "name": "python3"
  },
  "language_info": {
   "codemirror_mode": {
    "name": "ipython",
    "version": 3
   },
   "file_extension": ".py",
   "mimetype": "text/x-python",
   "name": "python",
   "nbconvert_exporter": "python",
   "pygments_lexer": "ipython3",
   "version": "3.8.18"
  }
 },
 "nbformat": 4,
 "nbformat_minor": 2
}
