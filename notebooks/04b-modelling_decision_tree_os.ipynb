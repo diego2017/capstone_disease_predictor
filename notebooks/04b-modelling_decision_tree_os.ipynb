{
 "cells": [
  {
   "cell_type": "markdown",
   "metadata": {},
   "source": [
    "<div id=\"container\" style=\"position:relative;\">\n",
    "<div style=\"float:left\"><h1> Capstone Project: Diabetes risk predictor based on health indicators</h1></div>\n",
    "<div style=\"float:left\"><h2> Notebook 4: # Modelling - Decision tree with Over Sampling</h2></div>\n",
    "<div style=\"float:left\"><h2> Created by Diego Villanueva</h2></div>\n",
    "</div>\n",
    "</div>"
   ]
  },
  {
   "cell_type": "markdown",
   "metadata": {},
   "source": [
    "This notebook contains code related to a Decision Tree model that used a training dataset that has gone through oversampling during the pre-processing phase. "
   ]
  },
  {
   "cell_type": "markdown",
   "metadata": {},
   "source": [
    "## Table of contents\n",
    "\n",
    "4b. Modelling (Decision Tree)\n",
    "\n",
    "        4b.1 Load data files\n",
    "\n",
    "        4b.2 Modelling\n",
    "\n",
    "        4b.3 Model evaluation\n",
    "\n",
    "        4b.4 Observations"
   ]
  },
  {
   "cell_type": "markdown",
   "metadata": {},
   "source": [
    "### Imports"
   ]
  },
  {
   "cell_type": "code",
   "execution_count": 1,
   "metadata": {},
   "outputs": [],
   "source": [
    "# data manipulation\n",
    "import numpy as np\n",
    "import pandas as pd\n",
    "\n",
    "# plotting\n",
    "import matplotlib.pyplot as plt\n",
    "import seaborn as sns\n",
    "\n",
    "# modelling\n",
    "from sklearn.tree import DecisionTreeClassifier\n",
    "from sklearn.pipeline import Pipeline\n",
    "from sklearn.model_selection import cross_val_score, GridSearchCV\n",
    "from sklearn.metrics import confusion_matrix, ConfusionMatrixDisplay\n",
    "from sklearn.metrics import classification_report\n",
    "\n",
    "# Scaling data\n",
    "from sklearn.preprocessing import StandardScaler\n",
    "from sklearn.preprocessing import MinMaxScaler\n",
    "from sklearn.preprocessing import RobustScaler\n",
    "\n",
    "# PCA\n",
    "from sklearn.decomposition import PCA\n",
    "\n",
    "# File saving\n",
    "import joblib \n",
    "\n",
    "# Temporary directories for caching\n",
    "from tempfile import mkdtemp\n",
    "\n",
    "# Cross-validation\n",
    "from sklearn.model_selection import cross_val_score\n",
    "\n",
    "# Pipeline building\n",
    "from sklearn.pipeline import Pipeline\n",
    "\n",
    "# Grid search\n",
    "from sklearn.model_selection import GridSearchCV"
   ]
  },
  {
   "cell_type": "code",
   "execution_count": null,
   "metadata": {},
   "outputs": [],
   "source": []
  },
  {
   "cell_type": "markdown",
   "metadata": {},
   "source": [
    "### 4b.1 Load data files"
   ]
  },
  {
   "cell_type": "code",
   "execution_count": 2,
   "metadata": {},
   "outputs": [],
   "source": [
    "X_rem_scaled = joblib.load(\"../data/Preprocessed_data/X_rem_oversampled_scaled.pkl\") # oversampled and scaled dataset\n",
    "y_rem = joblib.load(\"../data/Preprocessed_data/y_rem_oversampled.pkl\") #oversampled dataset\n",
    "X_test_scaled = joblib.load(\"../data/Preprocessed_data/X_test_scaled.pkl\") # scaled dataset\n",
    "y_test = joblib.load(\"../data/Preprocessed_data/y_test.pkl\") #unmodified dataset\n",
    "\n",
    "X_rem = joblib.load(\"../data/Preprocessed_data/X_rem_oversampled.pkl\") # oversampled, not scaled dataset\n",
    "X_test = joblib.load(\"../data/Preprocessed_data/X_test.pkl\") # not scaled dataset"
   ]
  },
  {
   "cell_type": "markdown",
   "metadata": {},
   "source": [
    "### 4b.2 Modelling"
   ]
  },
  {
   "cell_type": "code",
   "execution_count": 3,
   "metadata": {},
   "outputs": [],
   "source": [
    "# Create a directory that will be used to cache the pipeline results\n",
    "cachedir = mkdtemp()"
   ]
  },
  {
   "cell_type": "code",
   "execution_count": 4,
   "metadata": {},
   "outputs": [
    {
     "name": "stdout",
     "output_type": "stream",
     "text": [
      "Pipeline(memory='/var/folders/6c/0s0k1hv53xn7g3bpzkggst1r0000gn/T/tmpwuknph8f',\n",
      "         steps=[('normalise', StandardScaler()),\n",
      "                ('reduce_dim', PCA(n_components=20)),\n",
      "                ('dt', DecisionTreeClassifier(max_depth=3))])\n"
     ]
    }
   ],
   "source": [
    "# Create a pipeline by passing an estimators\n",
    "\n",
    "estimators = [('normalise', StandardScaler()), # The scaling part of the pipe\n",
    "              ('reduce_dim', PCA(n_components=20)), # The PCA part of the pipe, using 20 principle components\n",
    "              ('dt', DecisionTreeClassifier(max_depth=3))] # The model part of the pipe, in this case a decision tree\n",
    "\n",
    "pipe = Pipeline(estimators, memory=cachedir)\n",
    "print(pipe)"
   ]
  },
  {
   "cell_type": "code",
   "execution_count": 5,
   "metadata": {},
   "outputs": [],
   "source": [
    "# Define the parameter grid for grid search\n",
    "param_grid = {\n",
    "    'dt__max_depth': [2, 5, 10, 20],  # The depth of the decision tree, 4 options\n",
    "    'dt__min_samples_leaf': [1, 3, 5, 10],  # The minimum number of samples needed by leaf, 4 options\n",
    "    'dt__criterion': ['gini', 'entropy']  # The criteria to measure, 2 options\n",
    "}"
   ]
  },
  {
   "cell_type": "code",
   "execution_count": 6,
   "metadata": {},
   "outputs": [
    {
     "name": "stdout",
     "output_type": "stream",
     "text": [
      "Fitting 5 folds for each of 32 candidates, totalling 160 fits\n"
     ]
    },
    {
     "name": "stderr",
     "output_type": "stream",
     "text": [
      "/Users/diego/anaconda3/envs/diego_capstone/lib/python3.8/site-packages/sklearn/pipeline.py:377: UserWarning: Persisting input arguments took 0.59s to run.\n",
      "If this happens often in your code, it can cause performance problems \n",
      "(results will be correct in all cases). \n",
      "The reason for this is probably some large input arguments for a wrapped\n",
      " function (e.g. large strings).\n",
      "THIS IS A JOBLIB ISSUE. If you can, kindly provide the joblib's team with an\n",
      " example so that they can fix the problem.\n",
      "  X, fitted_transformer = fit_transform_one_cached(\n",
      "/Users/diego/anaconda3/envs/diego_capstone/lib/python3.8/site-packages/sklearn/pipeline.py:377: UserWarning: Persisting input arguments took 0.74s to run.\n",
      "If this happens often in your code, it can cause performance problems \n",
      "(results will be correct in all cases). \n",
      "The reason for this is probably some large input arguments for a wrapped\n",
      " function (e.g. large strings).\n",
      "THIS IS A JOBLIB ISSUE. If you can, kindly provide the joblib's team with an\n",
      " example so that they can fix the problem.\n",
      "  X, fitted_transformer = fit_transform_one_cached(\n",
      "/Users/diego/anaconda3/envs/diego_capstone/lib/python3.8/site-packages/sklearn/pipeline.py:377: UserWarning: Persisting input arguments took 0.62s to run.\n",
      "If this happens often in your code, it can cause performance problems \n",
      "(results will be correct in all cases). \n",
      "The reason for this is probably some large input arguments for a wrapped\n",
      " function (e.g. large strings).\n",
      "THIS IS A JOBLIB ISSUE. If you can, kindly provide the joblib's team with an\n",
      " example so that they can fix the problem.\n",
      "  X, fitted_transformer = fit_transform_one_cached(\n"
     ]
    },
    {
     "name": "stdout",
     "output_type": "stream",
     "text": [
      "[CV 4/5] END dt__criterion=gini, dt__max_depth=2, dt__min_samples_leaf=1;, score=0.695 total time=   9.2s\n",
      "[CV 1/5] END dt__criterion=gini, dt__max_depth=2, dt__min_samples_leaf=1;, score=0.704 total time=   9.2s\n",
      "[CV 3/5] END dt__criterion=gini, dt__max_depth=2, dt__min_samples_leaf=1;, score=0.697 total time=   9.3s\n",
      "[CV 2/5] END dt__criterion=gini, dt__max_depth=2, dt__min_samples_leaf=1;, score=0.699 total time=   9.4s\n",
      "[CV 1/5] END dt__criterion=gini, dt__max_depth=2, dt__min_samples_leaf=3;, score=0.704 total time=   4.6s\n",
      "[CV 2/5] END dt__criterion=gini, dt__max_depth=2, dt__min_samples_leaf=3;, score=0.699 total time=   4.5s\n",
      "[CV 3/5] END dt__criterion=gini, dt__max_depth=2, dt__min_samples_leaf=3;, score=0.697 total time=   4.6s\n",
      "[CV 5/5] END dt__criterion=gini, dt__max_depth=2, dt__min_samples_leaf=1;, score=0.700 total time=   5.7s\n",
      "[CV 4/5] END dt__criterion=gini, dt__max_depth=2, dt__min_samples_leaf=3;, score=0.695 total time=   4.3s\n",
      "[CV 5/5] END dt__criterion=gini, dt__max_depth=2, dt__min_samples_leaf=3;, score=0.700 total time=   4.4s\n",
      "[CV 1/5] END dt__criterion=gini, dt__max_depth=2, dt__min_samples_leaf=5;, score=0.704 total time=   4.3s\n",
      "[CV 2/5] END dt__criterion=gini, dt__max_depth=2, dt__min_samples_leaf=5;, score=0.699 total time=   4.3s\n",
      "[CV 3/5] END dt__criterion=gini, dt__max_depth=2, dt__min_samples_leaf=5;, score=0.697 total time=   4.3s\n",
      "[CV 4/5] END dt__criterion=gini, dt__max_depth=2, dt__min_samples_leaf=5;, score=0.695 total time=   4.3s\n",
      "[CV 5/5] END dt__criterion=gini, dt__max_depth=2, dt__min_samples_leaf=5;, score=0.700 total time=   4.4s\n",
      "[CV 1/5] END dt__criterion=gini, dt__max_depth=2, dt__min_samples_leaf=10;, score=0.704 total time=   4.3s\n",
      "[CV 2/5] END dt__criterion=gini, dt__max_depth=2, dt__min_samples_leaf=10;, score=0.699 total time=   4.3s\n",
      "[CV 3/5] END dt__criterion=gini, dt__max_depth=2, dt__min_samples_leaf=10;, score=0.697 total time=   4.3s\n",
      "[CV 4/5] END dt__criterion=gini, dt__max_depth=2, dt__min_samples_leaf=10;, score=0.695 total time=   4.3s\n",
      "[CV 5/5] END dt__criterion=gini, dt__max_depth=2, dt__min_samples_leaf=10;, score=0.700 total time=   4.3s\n",
      "[CV 1/5] END dt__criterion=gini, dt__max_depth=5, dt__min_samples_leaf=1;, score=0.708 total time=   9.5s\n",
      "[CV 2/5] END dt__criterion=gini, dt__max_depth=5, dt__min_samples_leaf=1;, score=0.745 total time=   9.5s\n",
      "[CV 3/5] END dt__criterion=gini, dt__max_depth=5, dt__min_samples_leaf=1;, score=0.744 total time=   9.5s\n",
      "[CV 4/5] END dt__criterion=gini, dt__max_depth=5, dt__min_samples_leaf=1;, score=0.737 total time=   9.4s\n",
      "[CV 5/5] END dt__criterion=gini, dt__max_depth=5, dt__min_samples_leaf=1;, score=0.741 total time=  13.4s\n",
      "[CV 1/5] END dt__criterion=gini, dt__max_depth=5, dt__min_samples_leaf=3;, score=0.708 total time=  13.4s\n",
      "[CV 2/5] END dt__criterion=gini, dt__max_depth=5, dt__min_samples_leaf=3;, score=0.745 total time=  13.2s\n",
      "[CV 3/5] END dt__criterion=gini, dt__max_depth=5, dt__min_samples_leaf=3;, score=0.744 total time=  13.8s\n",
      "[CV 4/5] END dt__criterion=gini, dt__max_depth=5, dt__min_samples_leaf=3;, score=0.737 total time=  15.3s\n",
      "[CV 5/5] END dt__criterion=gini, dt__max_depth=5, dt__min_samples_leaf=3;, score=0.741 total time=  15.6s\n",
      "[CV 1/5] END dt__criterion=gini, dt__max_depth=5, dt__min_samples_leaf=5;, score=0.708 total time=  15.8s\n",
      "[CV 2/5] END dt__criterion=gini, dt__max_depth=5, dt__min_samples_leaf=5;, score=0.745 total time=  15.1s\n",
      "[CV 3/5] END dt__criterion=gini, dt__max_depth=5, dt__min_samples_leaf=5;, score=0.744 total time=  12.9s\n",
      "[CV 4/5] END dt__criterion=gini, dt__max_depth=5, dt__min_samples_leaf=5;, score=0.737 total time=  12.8s\n",
      "[CV 5/5] END dt__criterion=gini, dt__max_depth=5, dt__min_samples_leaf=5;, score=0.741 total time=  13.0s\n",
      "[CV 1/5] END dt__criterion=gini, dt__max_depth=5, dt__min_samples_leaf=10;, score=0.708 total time=  13.6s\n",
      "[CV 2/5] END dt__criterion=gini, dt__max_depth=5, dt__min_samples_leaf=10;, score=0.745 total time=  11.3s\n",
      "[CV 3/5] END dt__criterion=gini, dt__max_depth=5, dt__min_samples_leaf=10;, score=0.744 total time=  11.2s\n",
      "[CV 4/5] END dt__criterion=gini, dt__max_depth=5, dt__min_samples_leaf=10;, score=0.737 total time=  10.9s\n",
      "[CV 5/5] END dt__criterion=gini, dt__max_depth=5, dt__min_samples_leaf=10;, score=0.741 total time=  10.0s\n",
      "[CV 1/5] END dt__criterion=gini, dt__max_depth=10, dt__min_samples_leaf=1;, score=0.724 total time=  22.3s\n",
      "[CV 2/5] END dt__criterion=gini, dt__max_depth=10, dt__min_samples_leaf=1;, score=0.770 total time=  22.2s\n",
      "[CV 3/5] END dt__criterion=gini, dt__max_depth=10, dt__min_samples_leaf=1;, score=0.769 total time=  22.8s\n",
      "[CV 4/5] END dt__criterion=gini, dt__max_depth=10, dt__min_samples_leaf=1;, score=0.775 total time=  22.7s\n",
      "[CV 5/5] END dt__criterion=gini, dt__max_depth=10, dt__min_samples_leaf=1;, score=0.769 total time=  20.1s\n",
      "[CV 1/5] END dt__criterion=gini, dt__max_depth=10, dt__min_samples_leaf=3;, score=0.724 total time=  20.2s\n",
      "[CV 2/5] END dt__criterion=gini, dt__max_depth=10, dt__min_samples_leaf=3;, score=0.770 total time=  19.9s\n",
      "[CV 3/5] END dt__criterion=gini, dt__max_depth=10, dt__min_samples_leaf=3;, score=0.769 total time=  19.8s\n",
      "[CV 4/5] END dt__criterion=gini, dt__max_depth=10, dt__min_samples_leaf=3;, score=0.775 total time=  15.3s\n",
      "[CV 5/5] END dt__criterion=gini, dt__max_depth=10, dt__min_samples_leaf=3;, score=0.770 total time=  15.2s\n",
      "[CV 2/5] END dt__criterion=gini, dt__max_depth=10, dt__min_samples_leaf=5;, score=0.770 total time=  15.4s\n",
      "[CV 1/5] END dt__criterion=gini, dt__max_depth=10, dt__min_samples_leaf=5;, score=0.724 total time=  15.6s\n",
      "[CV 3/5] END dt__criterion=gini, dt__max_depth=10, dt__min_samples_leaf=5;, score=0.769 total time=  17.2s\n",
      "[CV 4/5] END dt__criterion=gini, dt__max_depth=10, dt__min_samples_leaf=5;, score=0.775 total time=  17.2s\n",
      "[CV 5/5] END dt__criterion=gini, dt__max_depth=10, dt__min_samples_leaf=5;, score=0.769 total time=  17.9s\n",
      "[CV 1/5] END dt__criterion=gini, dt__max_depth=10, dt__min_samples_leaf=10;, score=0.724 total time=  18.2s\n",
      "[CV 2/5] END dt__criterion=gini, dt__max_depth=10, dt__min_samples_leaf=10;, score=0.770 total time=  15.7s\n",
      "[CV 3/5] END dt__criterion=gini, dt__max_depth=10, dt__min_samples_leaf=10;, score=0.769 total time=  15.8s\n",
      "[CV 4/5] END dt__criterion=gini, dt__max_depth=10, dt__min_samples_leaf=10;, score=0.774 total time=  14.9s\n",
      "[CV 5/5] END dt__criterion=gini, dt__max_depth=10, dt__min_samples_leaf=10;, score=0.769 total time=  15.2s\n",
      "[CV 1/5] END dt__criterion=gini, dt__max_depth=20, dt__min_samples_leaf=1;, score=0.748 total time=  32.6s\n",
      "[CV 2/5] END dt__criterion=gini, dt__max_depth=20, dt__min_samples_leaf=1;, score=0.820 total time=  32.8s\n",
      "[CV 3/5] END dt__criterion=gini, dt__max_depth=20, dt__min_samples_leaf=1;, score=0.821 total time=  33.9s\n",
      "[CV 4/5] END dt__criterion=gini, dt__max_depth=20, dt__min_samples_leaf=1;, score=0.826 total time=  34.7s\n",
      "[CV 5/5] END dt__criterion=gini, dt__max_depth=20, dt__min_samples_leaf=1;, score=0.821 total time=  44.7s\n",
      "[CV 1/5] END dt__criterion=gini, dt__max_depth=20, dt__min_samples_leaf=3;, score=0.743 total time=  44.6s\n",
      "[CV 2/5] END dt__criterion=gini, dt__max_depth=20, dt__min_samples_leaf=3;, score=0.816 total time=  44.0s\n",
      "[CV 3/5] END dt__criterion=gini, dt__max_depth=20, dt__min_samples_leaf=3;, score=0.816 total time=  44.9s\n",
      "[CV 4/5] END dt__criterion=gini, dt__max_depth=20, dt__min_samples_leaf=3;, score=0.822 total time=  39.8s\n",
      "[CV 5/5] END dt__criterion=gini, dt__max_depth=20, dt__min_samples_leaf=3;, score=0.820 total time=  39.6s\n",
      "[CV 1/5] END dt__criterion=gini, dt__max_depth=20, dt__min_samples_leaf=5;, score=0.739 total time=  39.2s\n",
      "[CV 2/5] END dt__criterion=gini, dt__max_depth=20, dt__min_samples_leaf=5;, score=0.814 total time=  37.8s\n",
      "[CV 3/5] END dt__criterion=gini, dt__max_depth=20, dt__min_samples_leaf=5;, score=0.816 total time=  27.5s\n",
      "[CV 4/5] END dt__criterion=gini, dt__max_depth=20, dt__min_samples_leaf=5;, score=0.817 total time=  27.6s\n",
      "[CV 5/5] END dt__criterion=gini, dt__max_depth=20, dt__min_samples_leaf=5;, score=0.817 total time=  27.2s\n",
      "[CV 1/5] END dt__criterion=gini, dt__max_depth=20, dt__min_samples_leaf=10;, score=0.732 total time=  27.4s\n",
      "[CV 2/5] END dt__criterion=gini, dt__max_depth=20, dt__min_samples_leaf=10;, score=0.806 total time=  26.3s\n",
      "[CV 4/5] END dt__criterion=gini, dt__max_depth=20, dt__min_samples_leaf=10;, score=0.809 total time=  26.2s\n",
      "[CV 3/5] END dt__criterion=gini, dt__max_depth=20, dt__min_samples_leaf=10;, score=0.811 total time=  26.7s\n",
      "[CV 5/5] END dt__criterion=gini, dt__max_depth=20, dt__min_samples_leaf=10;, score=0.807 total time=  26.1s\n",
      "[CV 1/5] END dt__criterion=entropy, dt__max_depth=2, dt__min_samples_leaf=1;, score=0.698 total time=   5.7s\n",
      "[CV 2/5] END dt__criterion=entropy, dt__max_depth=2, dt__min_samples_leaf=1;, score=0.690 total time=   5.7s\n",
      "[CV 3/5] END dt__criterion=entropy, dt__max_depth=2, dt__min_samples_leaf=1;, score=0.693 total time=   5.8s\n",
      "[CV 4/5] END dt__criterion=entropy, dt__max_depth=2, dt__min_samples_leaf=1;, score=0.695 total time=   5.9s\n",
      "[CV 5/5] END dt__criterion=entropy, dt__max_depth=2, dt__min_samples_leaf=1;, score=0.690 total time=   6.5s\n",
      "[CV 1/5] END dt__criterion=entropy, dt__max_depth=2, dt__min_samples_leaf=3;, score=0.698 total time=   6.7s\n",
      "[CV 2/5] END dt__criterion=entropy, dt__max_depth=2, dt__min_samples_leaf=3;, score=0.690 total time=   6.8s\n",
      "[CV 3/5] END dt__criterion=entropy, dt__max_depth=2, dt__min_samples_leaf=3;, score=0.693 total time=   7.8s\n",
      "[CV 4/5] END dt__criterion=entropy, dt__max_depth=2, dt__min_samples_leaf=3;, score=0.695 total time=   8.6s\n",
      "[CV 5/5] END dt__criterion=entropy, dt__max_depth=2, dt__min_samples_leaf=3;, score=0.690 total time=   8.4s\n",
      "[CV 1/5] END dt__criterion=entropy, dt__max_depth=2, dt__min_samples_leaf=5;, score=0.698 total time=   8.2s\n",
      "[CV 2/5] END dt__criterion=entropy, dt__max_depth=2, dt__min_samples_leaf=5;, score=0.690 total time=   7.4s\n",
      "[CV 3/5] END dt__criterion=entropy, dt__max_depth=2, dt__min_samples_leaf=5;, score=0.693 total time=   5.7s\n",
      "[CV 4/5] END dt__criterion=entropy, dt__max_depth=2, dt__min_samples_leaf=5;, score=0.695 total time=   5.6s\n",
      "[CV 5/5] END dt__criterion=entropy, dt__max_depth=2, dt__min_samples_leaf=5;, score=0.690 total time=   5.7s\n",
      "[CV 1/5] END dt__criterion=entropy, dt__max_depth=2, dt__min_samples_leaf=10;, score=0.698 total time=   5.6s\n",
      "[CV 2/5] END dt__criterion=entropy, dt__max_depth=2, dt__min_samples_leaf=10;, score=0.690 total time=   5.5s\n",
      "[CV 3/5] END dt__criterion=entropy, dt__max_depth=2, dt__min_samples_leaf=10;, score=0.693 total time=   5.5s\n",
      "[CV 4/5] END dt__criterion=entropy, dt__max_depth=2, dt__min_samples_leaf=10;, score=0.695 total time=   5.6s\n",
      "[CV 5/5] END dt__criterion=entropy, dt__max_depth=2, dt__min_samples_leaf=10;, score=0.690 total time=   5.7s\n",
      "[CV 1/5] END dt__criterion=entropy, dt__max_depth=5, dt__min_samples_leaf=1;, score=0.719 total time=  12.8s\n",
      "[CV 2/5] END dt__criterion=entropy, dt__max_depth=5, dt__min_samples_leaf=1;, score=0.739 total time=  12.8s\n",
      "[CV 3/5] END dt__criterion=entropy, dt__max_depth=5, dt__min_samples_leaf=1;, score=0.736 total time=  13.0s\n",
      "[CV 4/5] END dt__criterion=entropy, dt__max_depth=5, dt__min_samples_leaf=1;, score=0.737 total time=  12.6s\n",
      "[CV 5/5] END dt__criterion=entropy, dt__max_depth=5, dt__min_samples_leaf=1;, score=0.740 total time=  11.5s\n",
      "[CV 1/5] END dt__criterion=entropy, dt__max_depth=5, dt__min_samples_leaf=3;, score=0.719 total time=  11.6s\n",
      "[CV 2/5] END dt__criterion=entropy, dt__max_depth=5, dt__min_samples_leaf=3;, score=0.739 total time=  11.7s\n",
      "[CV 3/5] END dt__criterion=entropy, dt__max_depth=5, dt__min_samples_leaf=3;, score=0.736 total time=  11.9s\n",
      "[CV 4/5] END dt__criterion=entropy, dt__max_depth=5, dt__min_samples_leaf=3;, score=0.737 total time=  12.4s\n",
      "[CV 5/5] END dt__criterion=entropy, dt__max_depth=5, dt__min_samples_leaf=3;, score=0.740 total time=  12.4s\n",
      "[CV 1/5] END dt__criterion=entropy, dt__max_depth=5, dt__min_samples_leaf=5;, score=0.719 total time=  12.5s\n",
      "[CV 2/5] END dt__criterion=entropy, dt__max_depth=5, dt__min_samples_leaf=5;, score=0.739 total time=  12.5s\n",
      "[CV 3/5] END dt__criterion=entropy, dt__max_depth=5, dt__min_samples_leaf=5;, score=0.736 total time=  19.4s\n",
      "[CV 4/5] END dt__criterion=entropy, dt__max_depth=5, dt__min_samples_leaf=5;, score=0.737 total time=  19.8s\n",
      "[CV 5/5] END dt__criterion=entropy, dt__max_depth=5, dt__min_samples_leaf=5;, score=0.740 total time=  20.2s\n",
      "[CV 1/5] END dt__criterion=entropy, dt__max_depth=5, dt__min_samples_leaf=10;, score=0.719 total time=  20.9s\n",
      "[CV 2/5] END dt__criterion=entropy, dt__max_depth=5, dt__min_samples_leaf=10;, score=0.739 total time=  14.6s\n",
      "[CV 3/5] END dt__criterion=entropy, dt__max_depth=5, dt__min_samples_leaf=10;, score=0.736 total time=  14.5s\n",
      "[CV 4/5] END dt__criterion=entropy, dt__max_depth=5, dt__min_samples_leaf=10;, score=0.737 total time=  14.2s\n",
      "[CV 5/5] END dt__criterion=entropy, dt__max_depth=5, dt__min_samples_leaf=10;, score=0.740 total time=  14.6s\n",
      "[CV 1/5] END dt__criterion=entropy, dt__max_depth=10, dt__min_samples_leaf=1;, score=0.720 total time=  27.9s\n",
      "[CV 2/5] END dt__criterion=entropy, dt__max_depth=10, dt__min_samples_leaf=1;, score=0.767 total time=  27.5s\n",
      "[CV 3/5] END dt__criterion=entropy, dt__max_depth=10, dt__min_samples_leaf=1;, score=0.760 total time=  27.8s\n",
      "[CV 4/5] END dt__criterion=entropy, dt__max_depth=10, dt__min_samples_leaf=1;, score=0.766 total time=  27.2s\n",
      "[CV 5/5] END dt__criterion=entropy, dt__max_depth=10, dt__min_samples_leaf=1;, score=0.766 total time=  22.7s\n",
      "[CV 1/5] END dt__criterion=entropy, dt__max_depth=10, dt__min_samples_leaf=3;, score=0.720 total time=  22.4s\n",
      "[CV 2/5] END dt__criterion=entropy, dt__max_depth=10, dt__min_samples_leaf=3;, score=0.767 total time=  22.5s\n",
      "[CV 3/5] END dt__criterion=entropy, dt__max_depth=10, dt__min_samples_leaf=3;, score=0.760 total time=  22.1s\n",
      "[CV 4/5] END dt__criterion=entropy, dt__max_depth=10, dt__min_samples_leaf=3;, score=0.766 total time=  20.0s\n",
      "[CV 5/5] END dt__criterion=entropy, dt__max_depth=10, dt__min_samples_leaf=3;, score=0.766 total time=  20.0s\n",
      "[CV 1/5] END dt__criterion=entropy, dt__max_depth=10, dt__min_samples_leaf=5;, score=0.720 total time=  20.2s\n",
      "[CV 2/5] END dt__criterion=entropy, dt__max_depth=10, dt__min_samples_leaf=5;, score=0.767 total time=  20.6s\n",
      "[CV 3/5] END dt__criterion=entropy, dt__max_depth=10, dt__min_samples_leaf=5;, score=0.760 total time=  22.3s\n",
      "[CV 4/5] END dt__criterion=entropy, dt__max_depth=10, dt__min_samples_leaf=5;, score=0.766 total time=  22.1s\n",
      "[CV 5/5] END dt__criterion=entropy, dt__max_depth=10, dt__min_samples_leaf=5;, score=0.766 total time=  22.5s\n",
      "[CV 1/5] END dt__criterion=entropy, dt__max_depth=10, dt__min_samples_leaf=10;, score=0.720 total time=  22.4s\n",
      "[CV 3/5] END dt__criterion=entropy, dt__max_depth=10, dt__min_samples_leaf=10;, score=0.761 total time=  21.5s\n",
      "[CV 2/5] END dt__criterion=entropy, dt__max_depth=10, dt__min_samples_leaf=10;, score=0.767 total time=  21.6s\n",
      "[CV 4/5] END dt__criterion=entropy, dt__max_depth=10, dt__min_samples_leaf=10;, score=0.766 total time=  21.7s\n",
      "[CV 5/5] END dt__criterion=entropy, dt__max_depth=10, dt__min_samples_leaf=10;, score=0.766 total time=  21.4s\n",
      "[CV 1/5] END dt__criterion=entropy, dt__max_depth=20, dt__min_samples_leaf=1;, score=0.735 total time=  33.5s\n",
      "[CV 2/5] END dt__criterion=entropy, dt__max_depth=20, dt__min_samples_leaf=1;, score=0.814 total time=  33.5s\n",
      "[CV 3/5] END dt__criterion=entropy, dt__max_depth=20, dt__min_samples_leaf=1;, score=0.815 total time=  33.8s\n",
      "[CV 4/5] END dt__criterion=entropy, dt__max_depth=20, dt__min_samples_leaf=1;, score=0.817 total time=  33.4s\n",
      "[CV 1/5] END dt__criterion=entropy, dt__max_depth=20, dt__min_samples_leaf=3;, score=0.733 total time=  31.7s\n",
      "[CV 5/5] END dt__criterion=entropy, dt__max_depth=20, dt__min_samples_leaf=1;, score=0.814 total time=  32.1s\n",
      "[CV 2/5] END dt__criterion=entropy, dt__max_depth=20, dt__min_samples_leaf=3;, score=0.812 total time=  32.2s\n",
      "[CV 3/5] END dt__criterion=entropy, dt__max_depth=20, dt__min_samples_leaf=3;, score=0.812 total time=  31.9s\n",
      "[CV 4/5] END dt__criterion=entropy, dt__max_depth=20, dt__min_samples_leaf=3;, score=0.813 total time=  32.4s\n",
      "[CV 5/5] END dt__criterion=entropy, dt__max_depth=20, dt__min_samples_leaf=3;, score=0.811 total time=  32.4s\n",
      "[CV 1/5] END dt__criterion=entropy, dt__max_depth=20, dt__min_samples_leaf=5;, score=0.729 total time=  32.8s\n",
      "[CV 2/5] END dt__criterion=entropy, dt__max_depth=20, dt__min_samples_leaf=5;, score=0.809 total time=  32.6s\n",
      "[CV 4/5] END dt__criterion=entropy, dt__max_depth=20, dt__min_samples_leaf=5;, score=0.810 total time=  31.6s\n",
      "[CV 3/5] END dt__criterion=entropy, dt__max_depth=20, dt__min_samples_leaf=5;, score=0.810 total time=  31.9s\n",
      "[CV 5/5] END dt__criterion=entropy, dt__max_depth=20, dt__min_samples_leaf=5;, score=0.809 total time=  31.8s\n",
      "[CV 1/5] END dt__criterion=entropy, dt__max_depth=20, dt__min_samples_leaf=10;, score=0.724 total time=  31.7s\n",
      "[CV 2/5] END dt__criterion=entropy, dt__max_depth=20, dt__min_samples_leaf=10;, score=0.804 total time=  30.1s\n",
      "[CV 3/5] END dt__criterion=entropy, dt__max_depth=20, dt__min_samples_leaf=10;, score=0.804 total time=  30.1s\n",
      "[CV 4/5] END dt__criterion=entropy, dt__max_depth=20, dt__min_samples_leaf=10;, score=0.806 total time=  29.1s\n",
      "[CV 5/5] END dt__criterion=entropy, dt__max_depth=20, dt__min_samples_leaf=10;, score=0.806 total time=  29.0s\n"
     ]
    },
    {
     "data": {
      "text/html": [
       "<style>#sk-container-id-1 {color: black;}#sk-container-id-1 pre{padding: 0;}#sk-container-id-1 div.sk-toggleable {background-color: white;}#sk-container-id-1 label.sk-toggleable__label {cursor: pointer;display: block;width: 100%;margin-bottom: 0;padding: 0.3em;box-sizing: border-box;text-align: center;}#sk-container-id-1 label.sk-toggleable__label-arrow:before {content: \"▸\";float: left;margin-right: 0.25em;color: #696969;}#sk-container-id-1 label.sk-toggleable__label-arrow:hover:before {color: black;}#sk-container-id-1 div.sk-estimator:hover label.sk-toggleable__label-arrow:before {color: black;}#sk-container-id-1 div.sk-toggleable__content {max-height: 0;max-width: 0;overflow: hidden;text-align: left;background-color: #f0f8ff;}#sk-container-id-1 div.sk-toggleable__content pre {margin: 0.2em;color: black;border-radius: 0.25em;background-color: #f0f8ff;}#sk-container-id-1 input.sk-toggleable__control:checked~div.sk-toggleable__content {max-height: 200px;max-width: 100%;overflow: auto;}#sk-container-id-1 input.sk-toggleable__control:checked~label.sk-toggleable__label-arrow:before {content: \"▾\";}#sk-container-id-1 div.sk-estimator input.sk-toggleable__control:checked~label.sk-toggleable__label {background-color: #d4ebff;}#sk-container-id-1 div.sk-label input.sk-toggleable__control:checked~label.sk-toggleable__label {background-color: #d4ebff;}#sk-container-id-1 input.sk-hidden--visually {border: 0;clip: rect(1px 1px 1px 1px);clip: rect(1px, 1px, 1px, 1px);height: 1px;margin: -1px;overflow: hidden;padding: 0;position: absolute;width: 1px;}#sk-container-id-1 div.sk-estimator {font-family: monospace;background-color: #f0f8ff;border: 1px dotted black;border-radius: 0.25em;box-sizing: border-box;margin-bottom: 0.5em;}#sk-container-id-1 div.sk-estimator:hover {background-color: #d4ebff;}#sk-container-id-1 div.sk-parallel-item::after {content: \"\";width: 100%;border-bottom: 1px solid gray;flex-grow: 1;}#sk-container-id-1 div.sk-label:hover label.sk-toggleable__label {background-color: #d4ebff;}#sk-container-id-1 div.sk-serial::before {content: \"\";position: absolute;border-left: 1px solid gray;box-sizing: border-box;top: 0;bottom: 0;left: 50%;z-index: 0;}#sk-container-id-1 div.sk-serial {display: flex;flex-direction: column;align-items: center;background-color: white;padding-right: 0.2em;padding-left: 0.2em;position: relative;}#sk-container-id-1 div.sk-item {position: relative;z-index: 1;}#sk-container-id-1 div.sk-parallel {display: flex;align-items: stretch;justify-content: center;background-color: white;position: relative;}#sk-container-id-1 div.sk-item::before, #sk-container-id-1 div.sk-parallel-item::before {content: \"\";position: absolute;border-left: 1px solid gray;box-sizing: border-box;top: 0;bottom: 0;left: 50%;z-index: -1;}#sk-container-id-1 div.sk-parallel-item {display: flex;flex-direction: column;z-index: 1;position: relative;background-color: white;}#sk-container-id-1 div.sk-parallel-item:first-child::after {align-self: flex-end;width: 50%;}#sk-container-id-1 div.sk-parallel-item:last-child::after {align-self: flex-start;width: 50%;}#sk-container-id-1 div.sk-parallel-item:only-child::after {width: 0;}#sk-container-id-1 div.sk-dashed-wrapped {border: 1px dashed gray;margin: 0 0.4em 0.5em 0.4em;box-sizing: border-box;padding-bottom: 0.4em;background-color: white;}#sk-container-id-1 div.sk-label label {font-family: monospace;font-weight: bold;display: inline-block;line-height: 1.2em;}#sk-container-id-1 div.sk-label-container {text-align: center;}#sk-container-id-1 div.sk-container {/* jupyter's `normalize.less` sets `[hidden] { display: none; }` but bootstrap.min.css set `[hidden] { display: none !important; }` so we also need the `!important` here to be able to override the default hidden behavior on the sphinx rendered scikit-learn.org. See: https://github.com/scikit-learn/scikit-learn/issues/21755 */display: inline-block !important;position: relative;}#sk-container-id-1 div.sk-text-repr-fallback {display: none;}</style><div id=\"sk-container-id-1\" class=\"sk-top-container\"><div class=\"sk-text-repr-fallback\"><pre>GridSearchCV(cv=5,\n",
       "             estimator=Pipeline(memory=&#x27;/var/folders/6c/0s0k1hv53xn7g3bpzkggst1r0000gn/T/tmpwuknph8f&#x27;,\n",
       "                                steps=[(&#x27;normalise&#x27;, StandardScaler()),\n",
       "                                       (&#x27;reduce_dim&#x27;, PCA(n_components=20)),\n",
       "                                       (&#x27;dt&#x27;,\n",
       "                                        DecisionTreeClassifier(max_depth=3))]),\n",
       "             n_jobs=-1,\n",
       "             param_grid={&#x27;dt__criterion&#x27;: [&#x27;gini&#x27;, &#x27;entropy&#x27;],\n",
       "                         &#x27;dt__max_depth&#x27;: [2, 5, 10, 20],\n",
       "                         &#x27;dt__min_samples_leaf&#x27;: [1, 3, 5, 10]},\n",
       "             verbose=5)</pre><b>In a Jupyter environment, please rerun this cell to show the HTML representation or trust the notebook. <br />On GitHub, the HTML representation is unable to render, please try loading this page with nbviewer.org.</b></div><div class=\"sk-container\" hidden><div class=\"sk-item sk-dashed-wrapped\"><div class=\"sk-label-container\"><div class=\"sk-label sk-toggleable\"><input class=\"sk-toggleable__control sk-hidden--visually\" id=\"sk-estimator-id-1\" type=\"checkbox\" ><label for=\"sk-estimator-id-1\" class=\"sk-toggleable__label sk-toggleable__label-arrow\">GridSearchCV</label><div class=\"sk-toggleable__content\"><pre>GridSearchCV(cv=5,\n",
       "             estimator=Pipeline(memory=&#x27;/var/folders/6c/0s0k1hv53xn7g3bpzkggst1r0000gn/T/tmpwuknph8f&#x27;,\n",
       "                                steps=[(&#x27;normalise&#x27;, StandardScaler()),\n",
       "                                       (&#x27;reduce_dim&#x27;, PCA(n_components=20)),\n",
       "                                       (&#x27;dt&#x27;,\n",
       "                                        DecisionTreeClassifier(max_depth=3))]),\n",
       "             n_jobs=-1,\n",
       "             param_grid={&#x27;dt__criterion&#x27;: [&#x27;gini&#x27;, &#x27;entropy&#x27;],\n",
       "                         &#x27;dt__max_depth&#x27;: [2, 5, 10, 20],\n",
       "                         &#x27;dt__min_samples_leaf&#x27;: [1, 3, 5, 10]},\n",
       "             verbose=5)</pre></div></div></div><div class=\"sk-parallel\"><div class=\"sk-parallel-item\"><div class=\"sk-item\"><div class=\"sk-label-container\"><div class=\"sk-label sk-toggleable\"><input class=\"sk-toggleable__control sk-hidden--visually\" id=\"sk-estimator-id-2\" type=\"checkbox\" ><label for=\"sk-estimator-id-2\" class=\"sk-toggleable__label sk-toggleable__label-arrow\">estimator: Pipeline</label><div class=\"sk-toggleable__content\"><pre>Pipeline(memory=&#x27;/var/folders/6c/0s0k1hv53xn7g3bpzkggst1r0000gn/T/tmpwuknph8f&#x27;,\n",
       "         steps=[(&#x27;normalise&#x27;, StandardScaler()),\n",
       "                (&#x27;reduce_dim&#x27;, PCA(n_components=20)),\n",
       "                (&#x27;dt&#x27;, DecisionTreeClassifier(max_depth=3))])</pre></div></div></div><div class=\"sk-serial\"><div class=\"sk-item\"><div class=\"sk-serial\"><div class=\"sk-item\"><div class=\"sk-estimator sk-toggleable\"><input class=\"sk-toggleable__control sk-hidden--visually\" id=\"sk-estimator-id-3\" type=\"checkbox\" ><label for=\"sk-estimator-id-3\" class=\"sk-toggleable__label sk-toggleable__label-arrow\">StandardScaler</label><div class=\"sk-toggleable__content\"><pre>StandardScaler()</pre></div></div></div><div class=\"sk-item\"><div class=\"sk-estimator sk-toggleable\"><input class=\"sk-toggleable__control sk-hidden--visually\" id=\"sk-estimator-id-4\" type=\"checkbox\" ><label for=\"sk-estimator-id-4\" class=\"sk-toggleable__label sk-toggleable__label-arrow\">PCA</label><div class=\"sk-toggleable__content\"><pre>PCA(n_components=20)</pre></div></div></div><div class=\"sk-item\"><div class=\"sk-estimator sk-toggleable\"><input class=\"sk-toggleable__control sk-hidden--visually\" id=\"sk-estimator-id-5\" type=\"checkbox\" ><label for=\"sk-estimator-id-5\" class=\"sk-toggleable__label sk-toggleable__label-arrow\">DecisionTreeClassifier</label><div class=\"sk-toggleable__content\"><pre>DecisionTreeClassifier(max_depth=3)</pre></div></div></div></div></div></div></div></div></div></div></div></div>"
      ],
      "text/plain": [
       "GridSearchCV(cv=5,\n",
       "             estimator=Pipeline(memory='/var/folders/6c/0s0k1hv53xn7g3bpzkggst1r0000gn/T/tmpwuknph8f',\n",
       "                                steps=[('normalise', StandardScaler()),\n",
       "                                       ('reduce_dim', PCA(n_components=20)),\n",
       "                                       ('dt',\n",
       "                                        DecisionTreeClassifier(max_depth=3))]),\n",
       "             n_jobs=-1,\n",
       "             param_grid={'dt__criterion': ['gini', 'entropy'],\n",
       "                         'dt__max_depth': [2, 5, 10, 20],\n",
       "                         'dt__min_samples_leaf': [1, 3, 5, 10]},\n",
       "             verbose=5)"
      ]
     },
     "execution_count": 6,
     "metadata": {},
     "output_type": "execute_result"
    }
   ],
   "source": [
    "# Create the grid and fit it\n",
    "grid_search = GridSearchCV(pipe, param_grid=param_grid, cv=5, verbose= 5, n_jobs= -1)\n",
    "grid_search.fit(X_rem, y_rem)"
   ]
  },
  {
   "cell_type": "code",
   "execution_count": 7,
   "metadata": {},
   "outputs": [
    {
     "name": "stdout",
     "output_type": "stream",
     "text": [
      "Best parameters {'dt__criterion': 'gini', 'dt__max_depth': 20, 'dt__min_samples_leaf': 1}\n",
      "Best Score: 0.8071187430110106\n",
      "Best estimator Pipeline(memory='/var/folders/6c/0s0k1hv53xn7g3bpzkggst1r0000gn/T/tmpwuknph8f',\n",
      "         steps=[('normalise', StandardScaler()),\n",
      "                ('reduce_dim', PCA(n_components=20)),\n",
      "                ('dt', DecisionTreeClassifier(max_depth=20))])\n"
     ]
    }
   ],
   "source": [
    "# Show the results from GridSearch\n",
    "print(f\"Best parameters {grid_search.best_params_}\")\n",
    "print(f\"Best Score: {grid_search.best_score_}\")\n",
    "print(f\"Best estimator {grid_search.best_estimator_}\")"
   ]
  },
  {
   "cell_type": "markdown",
   "metadata": {},
   "source": [
    "### 4b.3 Model evaluation "
   ]
  },
  {
   "cell_type": "code",
   "execution_count": 8,
   "metadata": {},
   "outputs": [
    {
     "data": {
      "text/html": [
       "<div>\n",
       "<style scoped>\n",
       "    .dataframe tbody tr th:only-of-type {\n",
       "        vertical-align: middle;\n",
       "    }\n",
       "\n",
       "    .dataframe tbody tr th {\n",
       "        vertical-align: top;\n",
       "    }\n",
       "\n",
       "    .dataframe thead th {\n",
       "        text-align: right;\n",
       "    }\n",
       "</style>\n",
       "<table border=\"1\" class=\"dataframe\">\n",
       "  <thead>\n",
       "    <tr style=\"text-align: right;\">\n",
       "      <th></th>\n",
       "      <th>Predicted Negative Review</th>\n",
       "      <th>Predicted Positive Review</th>\n",
       "    </tr>\n",
       "  </thead>\n",
       "  <tbody>\n",
       "    <tr>\n",
       "      <th>True Negative Review</th>\n",
       "      <td>47950</td>\n",
       "      <td>16161</td>\n",
       "    </tr>\n",
       "    <tr>\n",
       "      <th>True Positive Review</th>\n",
       "      <td>4854</td>\n",
       "      <td>7139</td>\n",
       "    </tr>\n",
       "  </tbody>\n",
       "</table>\n",
       "</div>"
      ],
      "text/plain": [
       "                      Predicted Negative Review  Predicted Positive Review\n",
       "True Negative Review                      47950                      16161\n",
       "True Positive Review                       4854                       7139"
      ]
     },
     "metadata": {},
     "output_type": "display_data"
    }
   ],
   "source": [
    "# Create confusion matrix\n",
    "\n",
    "# Get class predictions\n",
    "y_pred = grid_search.best_estimator_.predict(X_test)\n",
    "\n",
    "# Generate confusion matrix\n",
    "cf_matrix = confusion_matrix(y_test, y_pred)\n",
    "\n",
    "# label rows and columns\n",
    "cf_df = pd.DataFrame(\n",
    "    cf_matrix, \n",
    "    columns=[\"Predicted Negative Review\", \"Predicted Positive Review\"],\n",
    "    index=[\"True Negative Review\", \"True Positive Review\"]\n",
    ")\n",
    "\n",
    "display(cf_df)"
   ]
  },
  {
   "cell_type": "code",
   "execution_count": 9,
   "metadata": {},
   "outputs": [
    {
     "data": {
      "image/png": "[encoded data removed]",
      "text/plain": [
       "<Figure size 640x480 with 2 Axes>"
      ]
     },
     "metadata": {},
     "output_type": "display_data"
    }
   ],
   "source": [
    "# Create visualisation of confusion matrix\n",
    "ConfusionMatrixDisplay.from_estimator(grid_search, X_test, y_test);"
   ]
  },
  {
   "cell_type": "markdown",
   "metadata": {},
   "source": [
    "Interpretation:\n",
    "\n",
    "    The results of the confusion matrix are as follows:\n",
    "\n",
    "    True Negative:  47,950\n",
    "\n",
    "    False Positive: 16,161\n",
    "\n",
    "    False Negative: 4,854\n",
    "\n",
    "    True Positive:  7,139     "
   ]
  },
  {
   "cell_type": "code",
   "execution_count": 10,
   "metadata": {},
   "outputs": [
    {
     "name": "stdout",
     "output_type": "stream",
     "text": [
      "              precision    recall  f1-score   support\n",
      "\n",
      "           0       0.91      0.75      0.82     64111\n",
      "           1       0.31      0.60      0.40     11993\n",
      "\n",
      "    accuracy                           0.72     76104\n",
      "   macro avg       0.61      0.67      0.61     76104\n",
      "weighted avg       0.81      0.72      0.75     76104\n",
      "\n"
     ]
    }
   ],
   "source": [
    "# Classification Report\n",
    "report_initial = classification_report(y_test, y_pred)\n",
    "print(report_initial)"
   ]
  },
  {
   "cell_type": "markdown",
   "metadata": {},
   "source": [
    "### 4b.4 Observations"
   ]
  },
  {
   "cell_type": "markdown",
   "metadata": {},
   "source": [
    "Looking at the errors:\n",
    "\n",
    "For 0: \n",
    "- The precision of 0.91 means that 8% of the predicitons as not having diabetes were in fact positive.\n",
    "- The recall of 0.75 means that 25% of the negative diagnosis were missed by the model as they were classified as being positive\n",
    "\n",
    "For 1: \n",
    "- The precision of 0.31 means that 69% of the predicitons as having diabetes were in fact negative \n",
    "- The recall of 0.60 indicates that 40% of the diagnosis that were positive  were missed by the model and were classified as being negative for diabetes\n",
    "\n",
    "\n",
    "\n",
    "The model shows a low F1 score of 0.40, indicating that the balance between recall and precision across the various classes could be improved. \n",
    "\n",
    "To improve the model's performance, it is recommended to closely examine instances where the sentiment was incorrectly predicted. \n",
    "\n",
    "Analysing these examples can help identify if there are specific health indicators that were mistakenly omitted, which could lead to more accurate predictions in the future."
   ]
  }
 ],
 "metadata": {
  "kernelspec": {
   "display_name": "diego_capstone",
   "language": "python",
   "name": "python3"
  },
  "language_info": {
   "codemirror_mode": {
    "name": "ipython",
    "version": 3
   },
   "file_extension": ".py",
   "mimetype": "text/x-python",
   "name": "python",
   "nbconvert_exporter": "python",
   "pygments_lexer": "ipython3",
   "version": "3.8.18"
  }
 },
 "nbformat": 4,
 "nbformat_minor": 2
}
