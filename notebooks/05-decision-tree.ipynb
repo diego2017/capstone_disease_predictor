{
 "cells": [
  {
   "cell_type": "markdown",
   "metadata": {},
   "source": [
    "<div id=\"container\" style=\"position:relative;\">\n",
    "<div style=\"float:left\"><h1> Capstone Project: Diabetes risk predictor based on health indicators</h1></div>\n",
    "<div style=\"float:left\"><h2> Notebook 5: # Modelling - Decision Tree Classifier models</h2></div>\n",
    "<div style=\"float:left\"><h2> Created by Diego Villanueva</h2></div>\n",
    "</div>\n",
    "</div>"
   ]
  },
  {
   "cell_type": "markdown",
   "metadata": {},
   "source": [
    "This notebook includes decision tree models that use unmodified and oversampled training datasets."
   ]
  },
  {
   "cell_type": "markdown",
   "metadata": {},
   "source": [
    "## Table of contents\n",
    "\n",
    "5.1 Load data files\n",
    "\n",
    "5.2 Decision tree function\n",
    "\n",
    "5.3 Using unmodified dataset to train model\n",
    "\n",
    "5.4 Model evaluation (unmodified)\n",
    "\n",
    "5.5 Using oversampled dataset to train model\n",
    "\n",
    "5.6 Model evaluation (oversampled)"
   ]
  },
  {
   "cell_type": "code",
   "execution_count": null,
   "metadata": {},
   "outputs": [],
   "source": [
    "# data manipulation\n",
    "import numpy as np\n",
    "import pandas as pd\n",
    "\n",
    "# plotting\n",
    "import matplotlib.pyplot as plt\n",
    "import seaborn as sns\n",
    "\n",
    "# modelling\n",
    "from sklearn.tree import DecisionTreeClassifier\n",
    "from sklearn.pipeline import Pipeline\n",
    "from sklearn.model_selection import cross_val_score, GridSearchCV\n",
    "from sklearn.metrics import confusion_matrix, ConfusionMatrixDisplay\n",
    "from sklearn.metrics import classification_report\n",
    "\n",
    "# Scaling data\n",
    "from sklearn.preprocessing import StandardScaler\n",
    "from sklearn.preprocessing import MinMaxScaler\n",
    "from sklearn.preprocessing import RobustScaler\n",
    "\n",
    "# File saving\n",
    "import joblib \n",
    "\n",
    "# Temporary directories for caching\n",
    "from tempfile import mkdtemp\n",
    "\n",
    "# Cross-validation\n",
    "from sklearn.model_selection import cross_val_score\n",
    "\n",
    "# Pipeline building\n",
    "from sklearn.pipeline import Pipeline\n",
    "\n",
    "# Grid search\n",
    "from sklearn.model_selection import GridSearchCV"
   ]
  },
  {
   "cell_type": "markdown",
   "metadata": {},
   "source": [
    "### 5.1 Load data files"
   ]
  },
  {
   "cell_type": "code",
   "execution_count": null,
   "metadata": {},
   "outputs": [],
   "source": [
    "X_rem = joblib.load(\"../data/Preprocessed_data/X_rem.pkl\") # Unmodified dataset\n",
    "y_rem = joblib.load(\"../data/Preprocessed_data/y_rem.pkl\") # Unmodified dataset\n",
    "\n",
    "X_rem_os = joblib.load(\"../data/Preprocessed_data/X_rem_oversampled.pkl\") # Over sampled dataset\n",
    "y_rem_os = joblib.load(\"../data/Preprocessed_data/y_rem_oversampled.pkl\") # Over sampled dataset\n",
    "\n",
    "X_test = joblib.load(\"../data/Preprocessed_data/X_test.pkl\") # not scaled dataset\n",
    "y_test = joblib.load(\"../data/Preprocessed_data/y_test.pkl\") #unmodified dataset"
   ]
  },
  {
   "cell_type": "markdown",
   "metadata": {},
   "source": [
    "### 5.2 Decision tree function"
   ]
  },
  {
   "cell_type": "code",
   "execution_count": null,
   "metadata": {},
   "outputs": [],
   "source": [
    "def decision_tree_grid_search(X_train, y_train, max_depths=None, min_samples_leaves=None, criteria=None, cv=5, verbose=5):\n",
    "\n",
    "    # Create a directory that will be used to cache the pipeline results\n",
    "    cachedir = mkdtemp()\n",
    "\n",
    "    # Define the parameters to be used if other information is not provided\n",
    "    if max_depths is None:\n",
    "        max_depths = [2, 5, 10, 20]\n",
    "    if min_samples_leaves is None:\n",
    "        min_samples_leaves = [1, 3, 5, 10]\n",
    "    if criteria is None:\n",
    "        criteria = ['gini', 'entropy']\n",
    "\n",
    "    # Create the pipeline\n",
    "    estimators = [('normalise', MinMaxScaler()), \n",
    "                  ('dt', DecisionTreeClassifier(max_depth=3))]\n",
    "    pipe = Pipeline(estimators, memory=cachedir)\n",
    "\n",
    "    # Define parameter grid\n",
    "    param_grid = {\n",
    "        'dt__max_depth': max_depths,\n",
    "        'dt__min_samples_leaf': min_samples_leaves,\n",
    "        'dt__criterion': criteria\n",
    "    }\n",
    "\n",
    "    # Create and fit the grid search\n",
    "    grid_search = GridSearchCV(pipe, param_grid=param_grid, cv=cv, verbose=verbose, n_jobs=-1)\n",
    "    grid_search.fit(X_train, y_train)\n",
    "\n",
    "    # Return the results\n",
    "    return {\n",
    "        'best_params': grid_search.best_params_,\n",
    "        'best_score': grid_search.best_score_,\n",
    "        'best_estimator': grid_search.best_estimator_\n",
    "    }\n"
   ]
  },
  {
   "cell_type": "code",
   "execution_count": null,
   "metadata": {},
   "outputs": [],
   "source": []
  },
  {
   "cell_type": "markdown",
   "metadata": {},
   "source": [
    "### 5.3 Using unmodified dataset to train model"
   ]
  },
  {
   "cell_type": "code",
   "execution_count": null,
   "metadata": {},
   "outputs": [],
   "source": []
  },
  {
   "cell_type": "code",
   "execution_count": null,
   "metadata": {},
   "outputs": [],
   "source": []
  },
  {
   "cell_type": "markdown",
   "metadata": {},
   "source": [
    "### 5.4 Model evaluation (unmodified)\n"
   ]
  },
  {
   "cell_type": "code",
   "execution_count": null,
   "metadata": {},
   "outputs": [],
   "source": []
  },
  {
   "cell_type": "code",
   "execution_count": null,
   "metadata": {},
   "outputs": [],
   "source": []
  },
  {
   "cell_type": "code",
   "execution_count": null,
   "metadata": {},
   "outputs": [],
   "source": []
  },
  {
   "cell_type": "code",
   "execution_count": null,
   "metadata": {},
   "outputs": [],
   "source": []
  },
  {
   "cell_type": "code",
   "execution_count": null,
   "metadata": {},
   "outputs": [],
   "source": []
  },
  {
   "cell_type": "code",
   "execution_count": null,
   "metadata": {},
   "outputs": [],
   "source": []
  },
  {
   "cell_type": "code",
   "execution_count": null,
   "metadata": {},
   "outputs": [],
   "source": []
  },
  {
   "cell_type": "code",
   "execution_count": null,
   "metadata": {},
   "outputs": [],
   "source": []
  },
  {
   "cell_type": "code",
   "execution_count": null,
   "metadata": {},
   "outputs": [],
   "source": []
  },
  {
   "cell_type": "code",
   "execution_count": null,
   "metadata": {},
   "outputs": [],
   "source": []
  }
 ],
 "metadata": {
  "kernelspec": {
   "display_name": "diego_capstone",
   "language": "python",
   "name": "python3"
  },
  "language_info": {
   "codemirror_mode": {
    "name": "ipython",
    "version": 3
   },
   "file_extension": ".py",
   "mimetype": "text/x-python",
   "name": "python",
   "nbconvert_exporter": "python",
   "pygments_lexer": "ipython3",
   "version": "3.8.18"
  }
 },
 "nbformat": 4,
 "nbformat_minor": 2
}
