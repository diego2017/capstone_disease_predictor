{
 "cells": [
  {
   "cell_type": "markdown",
   "metadata": {},
   "source": [
    "<div id=\"container\" style=\"position:relative;\">\n",
    "<div style=\"float:left\"><h1> Capstone Project: Diabetes risk predictor based on health indicators</h1></div>\n",
    "<div style=\"float:left\"><h2> Notebook 4: # Modelling - Decision tree without Over Sampling, and no PCA</h2></div>\n",
    "<div style=\"float:left\"><h2> Created by Diego Villanueva</h2></div>\n",
    "</div>\n",
    "</div>"
   ]
  },
  {
   "cell_type": "markdown",
   "metadata": {},
   "source": [
    "## Table of contents\n",
    "\n",
    "4d. Modelling (Decision Tree)\n",
    "\n",
    "        4d.1 Load data files\n",
    "\n",
    "        4d.2 Modelling\n",
    "\n",
    "        4d.3 Model evaluation\n",
    "\n",
    "        4d.4 Observations"
   ]
  },
  {
   "cell_type": "markdown",
   "metadata": {},
   "source": [
    "### Imports"
   ]
  },
  {
   "cell_type": "code",
   "execution_count": 1,
   "metadata": {},
   "outputs": [],
   "source": [
    "# data manipulation\n",
    "import numpy as np\n",
    "import pandas as pd\n",
    "\n",
    "# plotting\n",
    "import matplotlib.pyplot as plt\n",
    "import seaborn as sns\n",
    "\n",
    "# modelling\n",
    "from sklearn.tree import DecisionTreeClassifier\n",
    "from sklearn.pipeline import Pipeline\n",
    "from sklearn.model_selection import cross_val_score, GridSearchCV\n",
    "from sklearn.metrics import confusion_matrix, ConfusionMatrixDisplay\n",
    "from sklearn.metrics import classification_report\n",
    "\n",
    "# Scaling data\n",
    "from sklearn.preprocessing import StandardScaler\n",
    "from sklearn.preprocessing import MinMaxScaler\n",
    "from sklearn.preprocessing import RobustScaler\n",
    "\n",
    "# File saving\n",
    "import joblib \n",
    "\n",
    "# Temporary directories for caching\n",
    "from tempfile import mkdtemp\n",
    "\n",
    "# Cross-validation\n",
    "from sklearn.model_selection import cross_val_score\n",
    "\n",
    "# Pipeline building\n",
    "from sklearn.pipeline import Pipeline\n",
    "\n",
    "# Grid search\n",
    "from sklearn.model_selection import GridSearchCV"
   ]
  },
  {
   "cell_type": "markdown",
   "metadata": {},
   "source": [
    "### 4d.1 Load data files"
   ]
  },
  {
   "cell_type": "code",
   "execution_count": 2,
   "metadata": {},
   "outputs": [],
   "source": [
    "X_rem = joblib.load(\"../data/Preprocessed_data/X_rem.pkl\") # not oversampled or scaled dataset\n",
    "y_rem = joblib.load(\"../data/Preprocessed_data/y_rem.pkl\") # not oversampled or scaled dataset\n",
    "X_test = joblib.load(\"../data/Preprocessed_data/X_test.pkl\") # not scaled dataset\n",
    "y_test = joblib.load(\"../data/Preprocessed_data/y_test.pkl\") #unmodified dataset"
   ]
  },
  {
   "cell_type": "markdown",
   "metadata": {},
   "source": [
    "### 4d.2 Modelling"
   ]
  },
  {
   "cell_type": "code",
   "execution_count": 3,
   "metadata": {},
   "outputs": [],
   "source": [
    "# Create a directory that will be used to cache the pipeline results\n",
    "cachedir = mkdtemp()"
   ]
  },
  {
   "cell_type": "code",
   "execution_count": 4,
   "metadata": {},
   "outputs": [
    {
     "name": "stdout",
     "output_type": "stream",
     "text": [
      "Pipeline(memory='/var/folders/6c/0s0k1hv53xn7g3bpzkggst1r0000gn/T/tmp7njngy4_',\n",
      "         steps=[('normalise', StandardScaler()),\n",
      "                ('dt', DecisionTreeClassifier(max_depth=3))])\n"
     ]
    }
   ],
   "source": [
    "# Create a pipeline by passing an estimators\n",
    "\n",
    "estimators = [('normalise', StandardScaler()), # The scaling part of the pipe\n",
    "              ('dt', DecisionTreeClassifier(max_depth=3))] # The model part of the pipe, in this case a decision tree\n",
    "\n",
    "pipe = Pipeline(estimators, memory=cachedir)\n",
    "print(pipe)"
   ]
  },
  {
   "cell_type": "code",
   "execution_count": 5,
   "metadata": {},
   "outputs": [],
   "source": [
    "# Define the parameter grid for grid search\n",
    "param_grid = {\n",
    "    'dt__max_depth': [2, 5, 10, 20],  # The depth of the decision tree, 4 options\n",
    "    'dt__min_samples_leaf': [1, 3, 5, 10],  # The minimum number of samples needed by leaf, 4 options\n",
    "    'dt__criterion': ['gini', 'entropy']  # The criteria to measure, 2 options\n",
    "}"
   ]
  },
  {
   "cell_type": "code",
   "execution_count": 6,
   "metadata": {},
   "outputs": [
    {
     "name": "stdout",
     "output_type": "stream",
     "text": [
      "Fitting 5 folds for each of 32 candidates, totalling 160 fits\n"
     ]
    },
    {
     "name": "stdout",
     "output_type": "stream",
     "text": [
      "[CV 1/5] END dt__criterion=gini, dt__max_depth=2, dt__min_samples_leaf=1;, score=0.842 total time=   1.2s\n",
      "[CV 2/5] END dt__criterion=gini, dt__max_depth=2, dt__min_samples_leaf=1;, score=0.842 total time=   1.2s\n",
      "[CV 3/5] END dt__criterion=gini, dt__max_depth=2, dt__min_samples_leaf=1;, score=0.842 total time=   1.2s\n",
      "[CV 4/5] END dt__criterion=gini, dt__max_depth=2, dt__min_samples_leaf=1;, score=0.842 total time=   1.2s\n",
      "[CV 1/5] END dt__criterion=gini, dt__max_depth=2, dt__min_samples_leaf=3;, score=0.842 total time=   0.7s\n",
      "[CV 2/5] END dt__criterion=gini, dt__max_depth=2, dt__min_samples_leaf=3;, score=0.842 total time=   0.7s\n",
      "[CV 3/5] END dt__criterion=gini, dt__max_depth=2, dt__min_samples_leaf=3;, score=0.842 total time=   0.8s\n",
      "[CV 5/5] END dt__criterion=gini, dt__max_depth=2, dt__min_samples_leaf=1;, score=0.842 total time=   1.0s\n",
      "[CV 5/5] END dt__criterion=gini, dt__max_depth=2, dt__min_samples_leaf=3;, score=0.842 total time=   0.5s\n",
      "[CV 4/5] END dt__criterion=gini, dt__max_depth=2, dt__min_samples_leaf=3;, score=0.842 total time=   0.5s\n",
      "[CV 1/5] END dt__criterion=gini, dt__max_depth=2, dt__min_samples_leaf=5;, score=0.842 total time=   0.6s\n",
      "[CV 2/5] END dt__criterion=gini, dt__max_depth=2, dt__min_samples_leaf=5;, score=0.842 total time=   0.6s\n",
      "[CV 3/5] END dt__criterion=gini, dt__max_depth=2, dt__min_samples_leaf=5;, score=0.842 total time=   0.7s\n",
      "[CV 4/5] END dt__criterion=gini, dt__max_depth=2, dt__min_samples_leaf=5;, score=0.842 total time=   0.7s\n",
      "[CV 5/5] END dt__criterion=gini, dt__max_depth=2, dt__min_samples_leaf=5;, score=0.842 total time=   0.6s\n",
      "[CV 1/5] END dt__criterion=gini, dt__max_depth=2, dt__min_samples_leaf=10;, score=0.842 total time=   0.7s\n",
      "[CV 3/5] END dt__criterion=gini, dt__max_depth=2, dt__min_samples_leaf=10;, score=0.842 total time=   0.7s\n",
      "[CV 2/5] END dt__criterion=gini, dt__max_depth=2, dt__min_samples_leaf=10;, score=0.842 total time=   0.7s\n",
      "[CV 4/5] END dt__criterion=gini, dt__max_depth=2, dt__min_samples_leaf=10;, score=0.842 total time=   0.7s\n",
      "[CV 5/5] END dt__criterion=gini, dt__max_depth=2, dt__min_samples_leaf=10;, score=0.842 total time=   0.8s\n",
      "[CV 3/5] END dt__criterion=gini, dt__max_depth=5, dt__min_samples_leaf=1;, score=0.850 total time=   1.2s\n",
      "[CV 1/5] END dt__criterion=gini, dt__max_depth=5, dt__min_samples_leaf=1;, score=0.849 total time=   1.2s\n",
      "[CV 2/5] END dt__criterion=gini, dt__max_depth=5, dt__min_samples_leaf=1;, score=0.849 total time=   1.2s\n",
      "[CV 4/5] END dt__criterion=gini, dt__max_depth=5, dt__min_samples_leaf=1;, score=0.849 total time=   1.1s\n",
      "[CV 5/5] END dt__criterion=gini, dt__max_depth=5, dt__min_samples_leaf=1;, score=0.850 total time=   1.1s\n",
      "[CV 1/5] END dt__criterion=gini, dt__max_depth=5, dt__min_samples_leaf=3;, score=0.849 total time=   1.1s\n",
      "[CV 2/5] END dt__criterion=gini, dt__max_depth=5, dt__min_samples_leaf=3;, score=0.849 total time=   1.2s\n",
      "[CV 3/5] END dt__criterion=gini, dt__max_depth=5, dt__min_samples_leaf=3;, score=0.850 total time=   1.0s\n",
      "[CV 5/5] END dt__criterion=gini, dt__max_depth=5, dt__min_samples_leaf=3;, score=0.850 total time=   0.7s[CV 4/5] END dt__criterion=gini, dt__max_depth=5, dt__min_samples_leaf=3;, score=0.849 total time=   0.7s\n",
      "\n",
      "[CV 1/5] END dt__criterion=gini, dt__max_depth=5, dt__min_samples_leaf=5;, score=0.849 total time=   0.7s\n",
      "[CV 2/5] END dt__criterion=gini, dt__max_depth=5, dt__min_samples_leaf=5;, score=0.849 total time=   0.7s\n",
      "[CV 4/5] END dt__criterion=gini, dt__max_depth=5, dt__min_samples_leaf=5;, score=0.849 total time=   0.6s\n",
      "[CV 3/5] END dt__criterion=gini, dt__max_depth=5, dt__min_samples_leaf=5;, score=0.850 total time=   0.7s\n",
      "[CV 5/5] END dt__criterion=gini, dt__max_depth=5, dt__min_samples_leaf=5;, score=0.850 total time=   0.7s\n",
      "[CV 1/5] END dt__criterion=gini, dt__max_depth=5, dt__min_samples_leaf=10;, score=0.849 total time=   0.7s\n",
      "[CV 2/5] END dt__criterion=gini, dt__max_depth=5, dt__min_samples_leaf=10;, score=0.849 total time=   1.1s\n",
      "[CV 3/5] END dt__criterion=gini, dt__max_depth=5, dt__min_samples_leaf=10;, score=0.850 total time=   1.1s\n",
      "[CV 4/5] END dt__criterion=gini, dt__max_depth=5, dt__min_samples_leaf=10;, score=0.849 total time=   1.1s\n",
      "[CV 5/5] END dt__criterion=gini, dt__max_depth=5, dt__min_samples_leaf=10;, score=0.850 total time=   1.3s\n",
      "[CV 1/5] END dt__criterion=gini, dt__max_depth=10, dt__min_samples_leaf=1;, score=0.847 total time=   1.4s\n",
      "[CV 2/5] END dt__criterion=gini, dt__max_depth=10, dt__min_samples_leaf=1;, score=0.846 total time=   1.4s\n",
      "[CV 3/5] END dt__criterion=gini, dt__max_depth=10, dt__min_samples_leaf=1;, score=0.849 total time=   1.4s\n",
      "[CV 4/5] END dt__criterion=gini, dt__max_depth=10, dt__min_samples_leaf=1;, score=0.846 total time=   1.1s\n",
      "[CV 5/5] END dt__criterion=gini, dt__max_depth=10, dt__min_samples_leaf=1;, score=0.848 total time=   1.5s\n",
      "[CV 1/5] END dt__criterion=gini, dt__max_depth=10, dt__min_samples_leaf=3;, score=0.847 total time=   1.5s\n",
      "[CV 2/5] END dt__criterion=gini, dt__max_depth=10, dt__min_samples_leaf=3;, score=0.846 total time=   1.5s\n",
      "[CV 3/5] END dt__criterion=gini, dt__max_depth=10, dt__min_samples_leaf=3;, score=0.850 total time=   1.5s\n",
      "[CV 5/5] END dt__criterion=gini, dt__max_depth=10, dt__min_samples_leaf=3;, score=0.848 total time=   1.2s\n",
      "[CV 4/5] END dt__criterion=gini, dt__max_depth=10, dt__min_samples_leaf=3;, score=0.846 total time=   1.2s\n",
      "[CV 1/5] END dt__criterion=gini, dt__max_depth=10, dt__min_samples_leaf=5;, score=0.848 total time=   1.2s\n",
      "[CV 2/5] END dt__criterion=gini, dt__max_depth=10, dt__min_samples_leaf=5;, score=0.846 total time=   1.2s\n",
      "[CV 3/5] END dt__criterion=gini, dt__max_depth=10, dt__min_samples_leaf=5;, score=0.849 total time=   1.2s\n",
      "[CV 4/5] END dt__criterion=gini, dt__max_depth=10, dt__min_samples_leaf=5;, score=0.846 total time=   1.3s\n",
      "[CV 5/5] END dt__criterion=gini, dt__max_depth=10, dt__min_samples_leaf=5;, score=0.849 total time=   1.3s\n",
      "[CV 1/5] END dt__criterion=gini, dt__max_depth=10, dt__min_samples_leaf=10;, score=0.848 total time=   1.2s\n",
      "[CV 2/5] END dt__criterion=gini, dt__max_depth=10, dt__min_samples_leaf=10;, score=0.847 total time=   1.3s\n",
      "[CV 3/5] END dt__criterion=gini, dt__max_depth=10, dt__min_samples_leaf=10;, score=0.850 total time=   1.3s\n",
      "[CV 4/5] END dt__criterion=gini, dt__max_depth=10, dt__min_samples_leaf=10;, score=0.847 total time=   1.3s\n",
      "[CV 5/5] END dt__criterion=gini, dt__max_depth=10, dt__min_samples_leaf=10;, score=0.849 total time=   1.3s\n",
      "[CV 1/5] END dt__criterion=gini, dt__max_depth=20, dt__min_samples_leaf=1;, score=0.796 total time=   2.0s\n",
      "[CV 2/5] END dt__criterion=gini, dt__max_depth=20, dt__min_samples_leaf=1;, score=0.800 total time=   2.0s\n",
      "[CV 3/5] END dt__criterion=gini, dt__max_depth=20, dt__min_samples_leaf=1;, score=0.797 total time=   2.1s\n",
      "[CV 4/5] END dt__criterion=gini, dt__max_depth=20, dt__min_samples_leaf=1;, score=0.797 total time=   2.0s\n",
      "[CV 1/5] END dt__criterion=gini, dt__max_depth=20, dt__min_samples_leaf=3;, score=0.812 total time=   1.8s\n",
      "[CV 5/5] END dt__criterion=gini, dt__max_depth=20, dt__min_samples_leaf=1;, score=0.798 total time=   1.9s\n",
      "[CV 2/5] END dt__criterion=gini, dt__max_depth=20, dt__min_samples_leaf=3;, score=0.811 total time=   1.8s\n",
      "[CV 3/5] END dt__criterion=gini, dt__max_depth=20, dt__min_samples_leaf=3;, score=0.813 total time=   1.8s\n",
      "[CV 4/5] END dt__criterion=gini, dt__max_depth=20, dt__min_samples_leaf=3;, score=0.813 total time=   1.8s\n",
      "[CV 1/5] END dt__criterion=gini, dt__max_depth=20, dt__min_samples_leaf=5;, score=0.821 total time=   1.8s\n",
      "[CV 5/5] END dt__criterion=gini, dt__max_depth=20, dt__min_samples_leaf=3;, score=0.817 total time=   1.9s\n",
      "[CV 2/5] END dt__criterion=gini, dt__max_depth=20, dt__min_samples_leaf=5;, score=0.823 total time=   1.8s\n",
      "[CV 3/5] END dt__criterion=gini, dt__max_depth=20, dt__min_samples_leaf=5;, score=0.820 total time=   1.7s\n",
      "[CV 4/5] END dt__criterion=gini, dt__max_depth=20, dt__min_samples_leaf=5;, score=0.824 total time=   1.7s\n",
      "[CV 5/5] END dt__criterion=gini, dt__max_depth=20, dt__min_samples_leaf=5;, score=0.823 total time=   1.7s\n",
      "[CV 1/5] END dt__criterion=gini, dt__max_depth=20, dt__min_samples_leaf=10;, score=0.834 total time=   1.6s\n",
      "[CV 2/5] END dt__criterion=gini, dt__max_depth=20, dt__min_samples_leaf=10;, score=0.835 total time=   1.6s\n",
      "[CV 3/5] END dt__criterion=gini, dt__max_depth=20, dt__min_samples_leaf=10;, score=0.833 total time=   1.6s\n",
      "[CV 4/5] END dt__criterion=gini, dt__max_depth=20, dt__min_samples_leaf=10;, score=0.834 total time=   1.6s\n",
      "[CV 5/5] END dt__criterion=gini, dt__max_depth=20, dt__min_samples_leaf=10;, score=0.834 total time=   1.6s\n",
      "[CV 1/5] END dt__criterion=entropy, dt__max_depth=2, dt__min_samples_leaf=1;, score=0.842 total time=   0.5s\n",
      "[CV 2/5] END dt__criterion=entropy, dt__max_depth=2, dt__min_samples_leaf=1;, score=0.842 total time=   0.5s\n",
      "[CV 3/5] END dt__criterion=entropy, dt__max_depth=2, dt__min_samples_leaf=1;, score=0.842 total time=   0.5s\n",
      "[CV 4/5] END dt__criterion=entropy, dt__max_depth=2, dt__min_samples_leaf=1;, score=0.842 total time=   0.5s\n",
      "[CV 5/5] END dt__criterion=entropy, dt__max_depth=2, dt__min_samples_leaf=1;, score=0.842 total time=   0.8s\n",
      "[CV 1/5] END dt__criterion=entropy, dt__max_depth=2, dt__min_samples_leaf=3;, score=0.842 total time=   0.7s\n",
      "[CV 2/5] END dt__criterion=entropy, dt__max_depth=2, dt__min_samples_leaf=3;, score=0.842 total time=   0.8s\n",
      "[CV 3/5] END dt__criterion=entropy, dt__max_depth=2, dt__min_samples_leaf=3;, score=0.842 total time=   0.5s\n",
      "[CV 4/5] END dt__criterion=entropy, dt__max_depth=2, dt__min_samples_leaf=3;, score=0.842 total time=   0.5s\n",
      "[CV 5/5] END dt__criterion=entropy, dt__max_depth=2, dt__min_samples_leaf=3;, score=0.842 total time=   0.5s\n",
      "[CV 1/5] END dt__criterion=entropy, dt__max_depth=2, dt__min_samples_leaf=5;, score=0.842 total time=   0.5s\n",
      "[CV 2/5] END dt__criterion=entropy, dt__max_depth=2, dt__min_samples_leaf=5;, score=0.842 total time=   0.4s\n",
      "[CV 3/5] END dt__criterion=entropy, dt__max_depth=2, dt__min_samples_leaf=5;, score=0.842 total time=   0.5s\n",
      "[CV 4/5] END dt__criterion=entropy, dt__max_depth=2, dt__min_samples_leaf=5;, score=0.842 total time=   0.4s\n",
      "[CV 5/5] END dt__criterion=entropy, dt__max_depth=2, dt__min_samples_leaf=5;, score=0.842 total time=   0.4s\n",
      "[CV 1/5] END dt__criterion=entropy, dt__max_depth=2, dt__min_samples_leaf=10;, score=0.842 total time=   0.4s\n",
      "[CV 2/5] END dt__criterion=entropy, dt__max_depth=2, dt__min_samples_leaf=10;, score=0.842 total time=   0.4s\n",
      "[CV 3/5] END dt__criterion=entropy, dt__max_depth=2, dt__min_samples_leaf=10;, score=0.842 total time=   0.4s\n",
      "[CV 4/5] END dt__criterion=entropy, dt__max_depth=2, dt__min_samples_leaf=10;, score=0.842 total time=   0.4s\n",
      "[CV 5/5] END dt__criterion=entropy, dt__max_depth=2, dt__min_samples_leaf=10;, score=0.842 total time=   0.4s\n",
      "[CV 1/5] END dt__criterion=entropy, dt__max_depth=5, dt__min_samples_leaf=1;, score=0.849 total time=   0.6s\n",
      "[CV 2/5] END dt__criterion=entropy, dt__max_depth=5, dt__min_samples_leaf=1;, score=0.849 total time=   0.6s\n",
      "[CV 3/5] END dt__criterion=entropy, dt__max_depth=5, dt__min_samples_leaf=1;, score=0.850 total time=   0.6s\n",
      "[CV 4/5] END dt__criterion=entropy, dt__max_depth=5, dt__min_samples_leaf=1;, score=0.849 total time=   0.6s\n",
      "[CV 5/5] END dt__criterion=entropy, dt__max_depth=5, dt__min_samples_leaf=1;, score=0.850 total time=   0.6s\n",
      "[CV 1/5] END dt__criterion=entropy, dt__max_depth=5, dt__min_samples_leaf=3;, score=0.849 total time=   0.6s\n",
      "[CV 2/5] END dt__criterion=entropy, dt__max_depth=5, dt__min_samples_leaf=3;, score=0.849 total time=   0.7s\n",
      "[CV 3/5] END dt__criterion=entropy, dt__max_depth=5, dt__min_samples_leaf=3;, score=0.850 total time=   0.6s\n",
      "[CV 4/5] END dt__criterion=entropy, dt__max_depth=5, dt__min_samples_leaf=3;, score=0.849 total time=   0.7s\n",
      "[CV 5/5] END dt__criterion=entropy, dt__max_depth=5, dt__min_samples_leaf=3;, score=0.850 total time=   0.7s\n",
      "[CV 1/5] END dt__criterion=entropy, dt__max_depth=5, dt__min_samples_leaf=5;, score=0.849 total time=   0.7s\n",
      "[CV 2/5] END dt__criterion=entropy, dt__max_depth=5, dt__min_samples_leaf=5;, score=0.849 total time=   0.7s\n",
      "[CV 4/5] END dt__criterion=entropy, dt__max_depth=5, dt__min_samples_leaf=5;, score=0.849 total time=   0.7s[CV 3/5] END dt__criterion=entropy, dt__max_depth=5, dt__min_samples_leaf=5;, score=0.850 total time=   0.7s\n",
      "\n",
      "[CV 5/5] END dt__criterion=entropy, dt__max_depth=5, dt__min_samples_leaf=5;, score=0.850 total time=   0.7s\n",
      "[CV 1/5] END dt__criterion=entropy, dt__max_depth=5, dt__min_samples_leaf=10;, score=0.849 total time=   0.8s\n",
      "[CV 3/5] END dt__criterion=entropy, dt__max_depth=5, dt__min_samples_leaf=10;, score=0.850 total time=   0.7s\n",
      "[CV 2/5] END dt__criterion=entropy, dt__max_depth=5, dt__min_samples_leaf=10;, score=0.849 total time=   0.7s\n",
      "[CV 4/5] END dt__criterion=entropy, dt__max_depth=5, dt__min_samples_leaf=10;, score=0.849 total time=   0.7s\n",
      "[CV 5/5] END dt__criterion=entropy, dt__max_depth=5, dt__min_samples_leaf=10;, score=0.850 total time=   0.8s\n",
      "[CV 1/5] END dt__criterion=entropy, dt__max_depth=10, dt__min_samples_leaf=1;, score=0.848 total time=   1.2s\n",
      "[CV 2/5] END dt__criterion=entropy, dt__max_depth=10, dt__min_samples_leaf=1;, score=0.846 total time=   1.2s\n",
      "[CV 3/5] END dt__criterion=entropy, dt__max_depth=10, dt__min_samples_leaf=1;, score=0.849 total time=   1.2s\n",
      "[CV 4/5] END dt__criterion=entropy, dt__max_depth=10, dt__min_samples_leaf=1;, score=0.847 total time=   1.2s\n",
      "[CV 5/5] END dt__criterion=entropy, dt__max_depth=10, dt__min_samples_leaf=1;, score=0.848 total time=   1.3s\n",
      "[CV 1/5] END dt__criterion=entropy, dt__max_depth=10, dt__min_samples_leaf=3;, score=0.848 total time=   1.3s\n",
      "[CV 2/5] END dt__criterion=entropy, dt__max_depth=10, dt__min_samples_leaf=3;, score=0.847 total time=   1.3s\n",
      "[CV 3/5] END dt__criterion=entropy, dt__max_depth=10, dt__min_samples_leaf=3;, score=0.849 total time=   1.6s\n",
      "[CV 5/5] END dt__criterion=entropy, dt__max_depth=10, dt__min_samples_leaf=3;, score=0.849 total time=   1.4s\n",
      "[CV 4/5] END dt__criterion=entropy, dt__max_depth=10, dt__min_samples_leaf=3;, score=0.847 total time=   1.5s\n",
      "[CV 1/5] END dt__criterion=entropy, dt__max_depth=10, dt__min_samples_leaf=5;, score=0.848 total time=   1.4s\n",
      "[CV 2/5] END dt__criterion=entropy, dt__max_depth=10, dt__min_samples_leaf=5;, score=0.846 total time=   1.3s\n",
      "[CV 3/5] END dt__criterion=entropy, dt__max_depth=10, dt__min_samples_leaf=5;, score=0.848 total time=   1.2s\n",
      "[CV 5/5] END dt__criterion=entropy, dt__max_depth=10, dt__min_samples_leaf=5;, score=0.849 total time=   1.2s\n",
      "[CV 4/5] END dt__criterion=entropy, dt__max_depth=10, dt__min_samples_leaf=5;, score=0.848 total time=   1.2s\n",
      "[CV 1/5] END dt__criterion=entropy, dt__max_depth=10, dt__min_samples_leaf=10;, score=0.847 total time=   1.2s\n",
      "[CV 3/5] END dt__criterion=entropy, dt__max_depth=10, dt__min_samples_leaf=10;, score=0.848 total time=   1.3s\n",
      "[CV 2/5] END dt__criterion=entropy, dt__max_depth=10, dt__min_samples_leaf=10;, score=0.847 total time=   1.3s\n",
      "[CV 4/5] END dt__criterion=entropy, dt__max_depth=10, dt__min_samples_leaf=10;, score=0.847 total time=   1.3s\n",
      "[CV 5/5] END dt__criterion=entropy, dt__max_depth=10, dt__min_samples_leaf=10;, score=0.849 total time=   1.3s\n",
      "[CV 2/5] END dt__criterion=entropy, dt__max_depth=20, dt__min_samples_leaf=1;, score=0.807 total time=   1.7s\n",
      "[CV 1/5] END dt__criterion=entropy, dt__max_depth=20, dt__min_samples_leaf=1;, score=0.803 total time=   1.8s\n",
      "[CV 3/5] END dt__criterion=entropy, dt__max_depth=20, dt__min_samples_leaf=1;, score=0.802 total time=   1.8s\n",
      "[CV 4/5] END dt__criterion=entropy, dt__max_depth=20, dt__min_samples_leaf=1;, score=0.808 total time=   1.8s\n",
      "[CV 1/5] END dt__criterion=entropy, dt__max_depth=20, dt__min_samples_leaf=3;, score=0.814 total time=   1.6s\n",
      "[CV 5/5] END dt__criterion=entropy, dt__max_depth=20, dt__min_samples_leaf=1;, score=0.806 total time=   1.6s\n",
      "[CV 2/5] END dt__criterion=entropy, dt__max_depth=20, dt__min_samples_leaf=3;, score=0.814 total time=   1.6s\n",
      "[CV 3/5] END dt__criterion=entropy, dt__max_depth=20, dt__min_samples_leaf=3;, score=0.813 total time=   1.6s\n",
      "[CV 1/5] END dt__criterion=entropy, dt__max_depth=20, dt__min_samples_leaf=5;, score=0.822 total time=   1.7s\n",
      "[CV 4/5] END dt__criterion=entropy, dt__max_depth=20, dt__min_samples_leaf=3;, score=0.816 total time=   1.7s\n",
      "[CV 5/5] END dt__criterion=entropy, dt__max_depth=20, dt__min_samples_leaf=3;, score=0.814 total time=   1.7s\n",
      "[CV 2/5] END dt__criterion=entropy, dt__max_depth=20, dt__min_samples_leaf=5;, score=0.821 total time=   1.7s\n",
      "[CV 3/5] END dt__criterion=entropy, dt__max_depth=20, dt__min_samples_leaf=5;, score=0.819 total time=   1.6s\n",
      "[CV 5/5] END dt__criterion=entropy, dt__max_depth=20, dt__min_samples_leaf=5;, score=0.823 total time=   1.7s\n",
      "[CV 1/5] END dt__criterion=entropy, dt__max_depth=20, dt__min_samples_leaf=10;, score=0.834 total time=   1.6s\n",
      "[CV 4/5] END dt__criterion=entropy, dt__max_depth=20, dt__min_samples_leaf=5;, score=0.823 total time=   1.7s\n",
      "[CV 2/5] END dt__criterion=entropy, dt__max_depth=20, dt__min_samples_leaf=10;, score=0.834 total time=   1.5s\n",
      "[CV 3/5] END dt__criterion=entropy, dt__max_depth=20, dt__min_samples_leaf=10;, score=0.833 total time=   1.5s\n",
      "[CV 5/5] END dt__criterion=entropy, dt__max_depth=20, dt__min_samples_leaf=10;, score=0.834 total time=   1.5s\n",
      "[CV 4/5] END dt__criterion=entropy, dt__max_depth=20, dt__min_samples_leaf=10;, score=0.835 total time=   1.5s\n"
     ]
    },
    {
     "data": {
      "text/html": [
       "<style>#sk-container-id-1 {color: black;}#sk-container-id-1 pre{padding: 0;}#sk-container-id-1 div.sk-toggleable {background-color: white;}#sk-container-id-1 label.sk-toggleable__label {cursor: pointer;display: block;width: 100%;margin-bottom: 0;padding: 0.3em;box-sizing: border-box;text-align: center;}#sk-container-id-1 label.sk-toggleable__label-arrow:before {content: \"▸\";float: left;margin-right: 0.25em;color: #696969;}#sk-container-id-1 label.sk-toggleable__label-arrow:hover:before {color: black;}#sk-container-id-1 div.sk-estimator:hover label.sk-toggleable__label-arrow:before {color: black;}#sk-container-id-1 div.sk-toggleable__content {max-height: 0;max-width: 0;overflow: hidden;text-align: left;background-color: #f0f8ff;}#sk-container-id-1 div.sk-toggleable__content pre {margin: 0.2em;color: black;border-radius: 0.25em;background-color: #f0f8ff;}#sk-container-id-1 input.sk-toggleable__control:checked~div.sk-toggleable__content {max-height: 200px;max-width: 100%;overflow: auto;}#sk-container-id-1 input.sk-toggleable__control:checked~label.sk-toggleable__label-arrow:before {content: \"▾\";}#sk-container-id-1 div.sk-estimator input.sk-toggleable__control:checked~label.sk-toggleable__label {background-color: #d4ebff;}#sk-container-id-1 div.sk-label input.sk-toggleable__control:checked~label.sk-toggleable__label {background-color: #d4ebff;}#sk-container-id-1 input.sk-hidden--visually {border: 0;clip: rect(1px 1px 1px 1px);clip: rect(1px, 1px, 1px, 1px);height: 1px;margin: -1px;overflow: hidden;padding: 0;position: absolute;width: 1px;}#sk-container-id-1 div.sk-estimator {font-family: monospace;background-color: #f0f8ff;border: 1px dotted black;border-radius: 0.25em;box-sizing: border-box;margin-bottom: 0.5em;}#sk-container-id-1 div.sk-estimator:hover {background-color: #d4ebff;}#sk-container-id-1 div.sk-parallel-item::after {content: \"\";width: 100%;border-bottom: 1px solid gray;flex-grow: 1;}#sk-container-id-1 div.sk-label:hover label.sk-toggleable__label {background-color: #d4ebff;}#sk-container-id-1 div.sk-serial::before {content: \"\";position: absolute;border-left: 1px solid gray;box-sizing: border-box;top: 0;bottom: 0;left: 50%;z-index: 0;}#sk-container-id-1 div.sk-serial {display: flex;flex-direction: column;align-items: center;background-color: white;padding-right: 0.2em;padding-left: 0.2em;position: relative;}#sk-container-id-1 div.sk-item {position: relative;z-index: 1;}#sk-container-id-1 div.sk-parallel {display: flex;align-items: stretch;justify-content: center;background-color: white;position: relative;}#sk-container-id-1 div.sk-item::before, #sk-container-id-1 div.sk-parallel-item::before {content: \"\";position: absolute;border-left: 1px solid gray;box-sizing: border-box;top: 0;bottom: 0;left: 50%;z-index: -1;}#sk-container-id-1 div.sk-parallel-item {display: flex;flex-direction: column;z-index: 1;position: relative;background-color: white;}#sk-container-id-1 div.sk-parallel-item:first-child::after {align-self: flex-end;width: 50%;}#sk-container-id-1 div.sk-parallel-item:last-child::after {align-self: flex-start;width: 50%;}#sk-container-id-1 div.sk-parallel-item:only-child::after {width: 0;}#sk-container-id-1 div.sk-dashed-wrapped {border: 1px dashed gray;margin: 0 0.4em 0.5em 0.4em;box-sizing: border-box;padding-bottom: 0.4em;background-color: white;}#sk-container-id-1 div.sk-label label {font-family: monospace;font-weight: bold;display: inline-block;line-height: 1.2em;}#sk-container-id-1 div.sk-label-container {text-align: center;}#sk-container-id-1 div.sk-container {/* jupyter's `normalize.less` sets `[hidden] { display: none; }` but bootstrap.min.css set `[hidden] { display: none !important; }` so we also need the `!important` here to be able to override the default hidden behavior on the sphinx rendered scikit-learn.org. See: https://github.com/scikit-learn/scikit-learn/issues/21755 */display: inline-block !important;position: relative;}#sk-container-id-1 div.sk-text-repr-fallback {display: none;}</style><div id=\"sk-container-id-1\" class=\"sk-top-container\"><div class=\"sk-text-repr-fallback\"><pre>GridSearchCV(cv=5,\n",
       "             estimator=Pipeline(memory=&#x27;/var/folders/6c/0s0k1hv53xn7g3bpzkggst1r0000gn/T/tmp7njngy4_&#x27;,\n",
       "                                steps=[(&#x27;normalise&#x27;, StandardScaler()),\n",
       "                                       (&#x27;dt&#x27;,\n",
       "                                        DecisionTreeClassifier(max_depth=3))]),\n",
       "             n_jobs=-1,\n",
       "             param_grid={&#x27;dt__criterion&#x27;: [&#x27;gini&#x27;, &#x27;entropy&#x27;],\n",
       "                         &#x27;dt__max_depth&#x27;: [2, 5, 10, 20],\n",
       "                         &#x27;dt__min_samples_leaf&#x27;: [1, 3, 5, 10]},\n",
       "             verbose=5)</pre><b>In a Jupyter environment, please rerun this cell to show the HTML representation or trust the notebook. <br />On GitHub, the HTML representation is unable to render, please try loading this page with nbviewer.org.</b></div><div class=\"sk-container\" hidden><div class=\"sk-item sk-dashed-wrapped\"><div class=\"sk-label-container\"><div class=\"sk-label sk-toggleable\"><input class=\"sk-toggleable__control sk-hidden--visually\" id=\"sk-estimator-id-1\" type=\"checkbox\" ><label for=\"sk-estimator-id-1\" class=\"sk-toggleable__label sk-toggleable__label-arrow\">GridSearchCV</label><div class=\"sk-toggleable__content\"><pre>GridSearchCV(cv=5,\n",
       "             estimator=Pipeline(memory=&#x27;/var/folders/6c/0s0k1hv53xn7g3bpzkggst1r0000gn/T/tmp7njngy4_&#x27;,\n",
       "                                steps=[(&#x27;normalise&#x27;, StandardScaler()),\n",
       "                                       (&#x27;dt&#x27;,\n",
       "                                        DecisionTreeClassifier(max_depth=3))]),\n",
       "             n_jobs=-1,\n",
       "             param_grid={&#x27;dt__criterion&#x27;: [&#x27;gini&#x27;, &#x27;entropy&#x27;],\n",
       "                         &#x27;dt__max_depth&#x27;: [2, 5, 10, 20],\n",
       "                         &#x27;dt__min_samples_leaf&#x27;: [1, 3, 5, 10]},\n",
       "             verbose=5)</pre></div></div></div><div class=\"sk-parallel\"><div class=\"sk-parallel-item\"><div class=\"sk-item\"><div class=\"sk-label-container\"><div class=\"sk-label sk-toggleable\"><input class=\"sk-toggleable__control sk-hidden--visually\" id=\"sk-estimator-id-2\" type=\"checkbox\" ><label for=\"sk-estimator-id-2\" class=\"sk-toggleable__label sk-toggleable__label-arrow\">estimator: Pipeline</label><div class=\"sk-toggleable__content\"><pre>Pipeline(memory=&#x27;/var/folders/6c/0s0k1hv53xn7g3bpzkggst1r0000gn/T/tmp7njngy4_&#x27;,\n",
       "         steps=[(&#x27;normalise&#x27;, StandardScaler()),\n",
       "                (&#x27;dt&#x27;, DecisionTreeClassifier(max_depth=3))])</pre></div></div></div><div class=\"sk-serial\"><div class=\"sk-item\"><div class=\"sk-serial\"><div class=\"sk-item\"><div class=\"sk-estimator sk-toggleable\"><input class=\"sk-toggleable__control sk-hidden--visually\" id=\"sk-estimator-id-3\" type=\"checkbox\" ><label for=\"sk-estimator-id-3\" class=\"sk-toggleable__label sk-toggleable__label-arrow\">StandardScaler</label><div class=\"sk-toggleable__content\"><pre>StandardScaler()</pre></div></div></div><div class=\"sk-item\"><div class=\"sk-estimator sk-toggleable\"><input class=\"sk-toggleable__control sk-hidden--visually\" id=\"sk-estimator-id-4\" type=\"checkbox\" ><label for=\"sk-estimator-id-4\" class=\"sk-toggleable__label sk-toggleable__label-arrow\">DecisionTreeClassifier</label><div class=\"sk-toggleable__content\"><pre>DecisionTreeClassifier(max_depth=3)</pre></div></div></div></div></div></div></div></div></div></div></div></div>"
      ],
      "text/plain": [
       "GridSearchCV(cv=5,\n",
       "             estimator=Pipeline(memory='/var/folders/6c/0s0k1hv53xn7g3bpzkggst1r0000gn/T/tmp7njngy4_',\n",
       "                                steps=[('normalise', StandardScaler()),\n",
       "                                       ('dt',\n",
       "                                        DecisionTreeClassifier(max_depth=3))]),\n",
       "             n_jobs=-1,\n",
       "             param_grid={'dt__criterion': ['gini', 'entropy'],\n",
       "                         'dt__max_depth': [2, 5, 10, 20],\n",
       "                         'dt__min_samples_leaf': [1, 3, 5, 10]},\n",
       "             verbose=5)"
      ]
     },
     "execution_count": 6,
     "metadata": {},
     "output_type": "execute_result"
    }
   ],
   "source": [
    "# Create the grid and fit it\n",
    "grid_search = GridSearchCV(pipe, param_grid=param_grid, cv=5, verbose= 5, n_jobs= -1)\n",
    "grid_search.fit(X_rem, y_rem)"
   ]
  },
  {
   "cell_type": "code",
   "execution_count": 7,
   "metadata": {},
   "outputs": [
    {
     "name": "stdout",
     "output_type": "stream",
     "text": [
      "Best parameters {'dt__criterion': 'gini', 'dt__max_depth': 5, 'dt__min_samples_leaf': 1}\n",
      "Best Score: 0.8495066904229984\n",
      "Best estimator Pipeline(memory='/var/folders/6c/0s0k1hv53xn7g3bpzkggst1r0000gn/T/tmp7njngy4_',\n",
      "         steps=[('normalise', StandardScaler()),\n",
      "                ('dt', DecisionTreeClassifier(max_depth=5))])\n"
     ]
    }
   ],
   "source": [
    "# Show the results from GridSearch\n",
    "print(f\"Best parameters {grid_search.best_params_}\")\n",
    "print(f\"Best Score: {grid_search.best_score_}\")\n",
    "print(f\"Best estimator {grid_search.best_estimator_}\")"
   ]
  },
  {
   "cell_type": "markdown",
   "metadata": {},
   "source": [
    "### 4d.3 Model evaluation "
   ]
  },
  {
   "cell_type": "code",
   "execution_count": 8,
   "metadata": {},
   "outputs": [
    {
     "data": {
      "text/html": [
       "<div>\n",
       "<style scoped>\n",
       "    .dataframe tbody tr th:only-of-type {\n",
       "        vertical-align: middle;\n",
       "    }\n",
       "\n",
       "    .dataframe tbody tr th {\n",
       "        vertical-align: top;\n",
       "    }\n",
       "\n",
       "    .dataframe thead th {\n",
       "        text-align: right;\n",
       "    }\n",
       "</style>\n",
       "<table border=\"1\" class=\"dataframe\">\n",
       "  <thead>\n",
       "    <tr style=\"text-align: right;\">\n",
       "      <th></th>\n",
       "      <th>Predicted Negative Review</th>\n",
       "      <th>Predicted Positive Review</th>\n",
       "    </tr>\n",
       "  </thead>\n",
       "  <tbody>\n",
       "    <tr>\n",
       "      <th>True Negative Review</th>\n",
       "      <td>63086</td>\n",
       "      <td>1025</td>\n",
       "    </tr>\n",
       "    <tr>\n",
       "      <th>True Positive Review</th>\n",
       "      <td>10540</td>\n",
       "      <td>1453</td>\n",
       "    </tr>\n",
       "  </tbody>\n",
       "</table>\n",
       "</div>"
      ],
      "text/plain": [
       "                      Predicted Negative Review  Predicted Positive Review\n",
       "True Negative Review                      63086                       1025\n",
       "True Positive Review                      10540                       1453"
      ]
     },
     "metadata": {},
     "output_type": "display_data"
    }
   ],
   "source": [
    "# Create confusion matrix\n",
    "\n",
    "# Get class predictions\n",
    "y_pred = grid_search.best_estimator_.predict(X_test)\n",
    "\n",
    "# Generate confusion matrix\n",
    "cf_matrix = confusion_matrix(y_test, y_pred)\n",
    "\n",
    "# label rows and columns\n",
    "cf_df = pd.DataFrame(\n",
    "    cf_matrix, \n",
    "    columns=[\"Predicted Negative Review\", \"Predicted Positive Review\"],\n",
    "    index=[\"True Negative Review\", \"True Positive Review\"]\n",
    ")\n",
    "\n",
    "display(cf_df)"
   ]
  },
  {
   "cell_type": "code",
   "execution_count": 9,
   "metadata": {},
   "outputs": [
    {
     "data": {
      "image/png": "[encoded data removed]",
      "text/plain": [
       "<Figure size 640x480 with 2 Axes>"
      ]
     },
     "metadata": {},
     "output_type": "display_data"
    }
   ],
   "source": [
    "# Create visualisation of confusion matrix\n",
    "ConfusionMatrixDisplay.from_estimator(grid_search, X_test, y_test);"
   ]
  },
  {
   "cell_type": "code",
   "execution_count": 10,
   "metadata": {},
   "outputs": [
    {
     "name": "stdout",
     "output_type": "stream",
     "text": [
      "              precision    recall  f1-score   support\n",
      "\n",
      "           0       0.86      0.98      0.92     64111\n",
      "           1       0.59      0.12      0.20     11993\n",
      "\n",
      "    accuracy                           0.85     76104\n",
      "   macro avg       0.72      0.55      0.56     76104\n",
      "weighted avg       0.81      0.85      0.80     76104\n",
      "\n"
     ]
    }
   ],
   "source": [
    "# Classification Report\n",
    "report_initial = classification_report(y_test, y_pred)\n",
    "print(report_initial)"
   ]
  },
  {
   "cell_type": "markdown",
   "metadata": {},
   "source": [
    "### 4d.4 Observations"
   ]
  },
  {
   "cell_type": "code",
   "execution_count": null,
   "metadata": {},
   "outputs": [],
   "source": []
  }
 ],
 "metadata": {
  "kernelspec": {
   "display_name": "diego_capstone",
   "language": "python",
   "name": "python3"
  },
  "language_info": {
   "codemirror_mode": {
    "name": "ipython",
    "version": 3
   },
   "file_extension": ".py",
   "mimetype": "text/x-python",
   "name": "python",
   "nbconvert_exporter": "python",
   "pygments_lexer": "ipython3",
   "version": "3.8.18"
  }
 },
 "nbformat": 4,
 "nbformat_minor": 2
}
